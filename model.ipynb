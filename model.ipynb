{
 "cells": [
  {
   "cell_type": "code",
   "execution_count": 141,
   "metadata": {},
   "outputs": [],
   "source": [
    "import numpy as np\n",
    "import matplotlib.pyplot as plt\n",
    "import pandas as pd\n",
    "import seaborn as sns\n",
    "\n",
    "from preprocessing import preprocess"
   ]
  },
  {
   "cell_type": "code",
   "execution_count": 62,
   "metadata": {},
   "outputs": [],
   "source": [
    "data = pd.read_csv(\"train.csv\", index_col=0)\n",
    "#data_plus = pd.read_csv(\"training_extra.csv\", index_col=0)\n",
    "#data = pd.concat([data, data_plus], axis=0)"
   ]
  },
  {
   "cell_type": "code",
   "execution_count": 63,
   "metadata": {},
   "outputs": [
    {
     "data": {
      "text/html": [
       "<div>\n",
       "<style scoped>\n",
       "    .dataframe tbody tr th:only-of-type {\n",
       "        vertical-align: middle;\n",
       "    }\n",
       "\n",
       "    .dataframe tbody tr th {\n",
       "        vertical-align: top;\n",
       "    }\n",
       "\n",
       "    .dataframe thead th {\n",
       "        text-align: right;\n",
       "    }\n",
       "</style>\n",
       "<table border=\"1\" class=\"dataframe\">\n",
       "  <thead>\n",
       "    <tr style=\"text-align: right;\">\n",
       "      <th></th>\n",
       "      <th>Brand</th>\n",
       "      <th>Material</th>\n",
       "      <th>Size</th>\n",
       "      <th>Compartments</th>\n",
       "      <th>Laptop Compartment</th>\n",
       "      <th>Waterproof</th>\n",
       "      <th>Style</th>\n",
       "      <th>Color</th>\n",
       "      <th>Weight Capacity (kg)</th>\n",
       "      <th>Price</th>\n",
       "    </tr>\n",
       "    <tr>\n",
       "      <th>id</th>\n",
       "      <th></th>\n",
       "      <th></th>\n",
       "      <th></th>\n",
       "      <th></th>\n",
       "      <th></th>\n",
       "      <th></th>\n",
       "      <th></th>\n",
       "      <th></th>\n",
       "      <th></th>\n",
       "      <th></th>\n",
       "    </tr>\n",
       "  </thead>\n",
       "  <tbody>\n",
       "    <tr>\n",
       "      <th>299995</th>\n",
       "      <td>Adidas</td>\n",
       "      <td>Leather</td>\n",
       "      <td>Small</td>\n",
       "      <td>9.0</td>\n",
       "      <td>No</td>\n",
       "      <td>No</td>\n",
       "      <td>Tote</td>\n",
       "      <td>Blue</td>\n",
       "      <td>12.730812</td>\n",
       "      <td>129.99749</td>\n",
       "    </tr>\n",
       "    <tr>\n",
       "      <th>299996</th>\n",
       "      <td>Jansport</td>\n",
       "      <td>Leather</td>\n",
       "      <td>Large</td>\n",
       "      <td>6.0</td>\n",
       "      <td>No</td>\n",
       "      <td>Yes</td>\n",
       "      <td>Tote</td>\n",
       "      <td>Blue</td>\n",
       "      <td>26.633182</td>\n",
       "      <td>19.85819</td>\n",
       "    </tr>\n",
       "    <tr>\n",
       "      <th>299997</th>\n",
       "      <td>Puma</td>\n",
       "      <td>Canvas</td>\n",
       "      <td>Large</td>\n",
       "      <td>9.0</td>\n",
       "      <td>Yes</td>\n",
       "      <td>Yes</td>\n",
       "      <td>Backpack</td>\n",
       "      <td>Pink</td>\n",
       "      <td>11.898250</td>\n",
       "      <td>111.41364</td>\n",
       "    </tr>\n",
       "    <tr>\n",
       "      <th>299998</th>\n",
       "      <td>Adidas</td>\n",
       "      <td>Nylon</td>\n",
       "      <td>Small</td>\n",
       "      <td>1.0</td>\n",
       "      <td>No</td>\n",
       "      <td>Yes</td>\n",
       "      <td>Tote</td>\n",
       "      <td>Pink</td>\n",
       "      <td>6.175738</td>\n",
       "      <td>115.89080</td>\n",
       "    </tr>\n",
       "    <tr>\n",
       "      <th>299999</th>\n",
       "      <td>Under Armour</td>\n",
       "      <td>Canvas</td>\n",
       "      <td>Small</td>\n",
       "      <td>2.0</td>\n",
       "      <td>No</td>\n",
       "      <td>Yes</td>\n",
       "      <td>Backpack</td>\n",
       "      <td>Black</td>\n",
       "      <td>18.568865</td>\n",
       "      <td>26.72762</td>\n",
       "    </tr>\n",
       "  </tbody>\n",
       "</table>\n",
       "</div>"
      ],
      "text/plain": [
       "               Brand Material   Size  Compartments Laptop Compartment  \\\n",
       "id                                                                      \n",
       "299995        Adidas  Leather  Small           9.0                 No   \n",
       "299996      Jansport  Leather  Large           6.0                 No   \n",
       "299997          Puma   Canvas  Large           9.0                Yes   \n",
       "299998        Adidas    Nylon  Small           1.0                 No   \n",
       "299999  Under Armour   Canvas  Small           2.0                 No   \n",
       "\n",
       "       Waterproof     Style  Color  Weight Capacity (kg)      Price  \n",
       "id                                                                   \n",
       "299995         No      Tote   Blue             12.730812  129.99749  \n",
       "299996        Yes      Tote   Blue             26.633182   19.85819  \n",
       "299997        Yes  Backpack   Pink             11.898250  111.41364  \n",
       "299998        Yes      Tote   Pink              6.175738  115.89080  \n",
       "299999        Yes  Backpack  Black             18.568865   26.72762  "
      ]
     },
     "execution_count": 63,
     "metadata": {},
     "output_type": "execute_result"
    }
   ],
   "source": [
    "data.tail()"
   ]
  },
  {
   "cell_type": "code",
   "execution_count": 65,
   "metadata": {},
   "outputs": [
    {
     "data": {
      "text/html": [
       "<div>\n",
       "<style scoped>\n",
       "    .dataframe tbody tr th:only-of-type {\n",
       "        vertical-align: middle;\n",
       "    }\n",
       "\n",
       "    .dataframe tbody tr th {\n",
       "        vertical-align: top;\n",
       "    }\n",
       "\n",
       "    .dataframe thead th {\n",
       "        text-align: right;\n",
       "    }\n",
       "</style>\n",
       "<table border=\"1\" class=\"dataframe\">\n",
       "  <thead>\n",
       "    <tr style=\"text-align: right;\">\n",
       "      <th></th>\n",
       "      <th>Brand</th>\n",
       "      <th>Material</th>\n",
       "      <th>Size</th>\n",
       "      <th>Compartments</th>\n",
       "      <th>Laptop Compartment</th>\n",
       "      <th>Waterproof</th>\n",
       "      <th>Style</th>\n",
       "      <th>Color</th>\n",
       "      <th>Weight Capacity (kg)</th>\n",
       "      <th>Price</th>\n",
       "      <th>...</th>\n",
       "      <th>Size_STD</th>\n",
       "      <th>Size_VAR</th>\n",
       "      <th>Style_Price_mean</th>\n",
       "      <th>Style_Count</th>\n",
       "      <th>Style_STD</th>\n",
       "      <th>Style_VAR</th>\n",
       "      <th>Color_Price_mean</th>\n",
       "      <th>Color_Count</th>\n",
       "      <th>Color_STD</th>\n",
       "      <th>Color_VAR</th>\n",
       "    </tr>\n",
       "  </thead>\n",
       "  <tbody>\n",
       "    <tr>\n",
       "      <th>0</th>\n",
       "      <td>Adidas</td>\n",
       "      <td>Leather</td>\n",
       "      <td>Large</td>\n",
       "      <td>6.0</td>\n",
       "      <td>0.0</td>\n",
       "      <td>1.0</td>\n",
       "      <td>Tote</td>\n",
       "      <td>Gray</td>\n",
       "      <td>25.388072</td>\n",
       "      <td>114.37481</td>\n",
       "      <td>...</td>\n",
       "      <td>39.417406</td>\n",
       "      <td>1553.731912</td>\n",
       "      <td>81.564757</td>\n",
       "      <td>48905</td>\n",
       "      <td>39.296375</td>\n",
       "      <td>1544.205068</td>\n",
       "      <td>80.906738</td>\n",
       "      <td>25201</td>\n",
       "      <td>38.632736</td>\n",
       "      <td>1492.488286</td>\n",
       "    </tr>\n",
       "    <tr>\n",
       "      <th>1</th>\n",
       "      <td>Adidas</td>\n",
       "      <td>Polyester</td>\n",
       "      <td>Large</td>\n",
       "      <td>6.0</td>\n",
       "      <td>1.0</td>\n",
       "      <td>0.0</td>\n",
       "      <td>Tote</td>\n",
       "      <td>Pink</td>\n",
       "      <td>20.131521</td>\n",
       "      <td>86.43833</td>\n",
       "      <td>...</td>\n",
       "      <td>39.417406</td>\n",
       "      <td>1553.731912</td>\n",
       "      <td>81.564757</td>\n",
       "      <td>48905</td>\n",
       "      <td>39.296375</td>\n",
       "      <td>1544.205068</td>\n",
       "      <td>81.688257</td>\n",
       "      <td>25839</td>\n",
       "      <td>39.117945</td>\n",
       "      <td>1530.213638</td>\n",
       "    </tr>\n",
       "    <tr>\n",
       "      <th>2</th>\n",
       "      <td>Puma</td>\n",
       "      <td>Canvas</td>\n",
       "      <td>Large</td>\n",
       "      <td>9.0</td>\n",
       "      <td>1.0</td>\n",
       "      <td>1.0</td>\n",
       "      <td>Tote</td>\n",
       "      <td>Black</td>\n",
       "      <td>8.947721</td>\n",
       "      <td>21.70910</td>\n",
       "      <td>...</td>\n",
       "      <td>39.417406</td>\n",
       "      <td>1553.731912</td>\n",
       "      <td>81.564757</td>\n",
       "      <td>48905</td>\n",
       "      <td>39.296375</td>\n",
       "      <td>1544.205068</td>\n",
       "      <td>80.471846</td>\n",
       "      <td>23192</td>\n",
       "      <td>39.184129</td>\n",
       "      <td>1535.395993</td>\n",
       "    </tr>\n",
       "    <tr>\n",
       "      <th>3</th>\n",
       "      <td>Under Armour</td>\n",
       "      <td>Polyester</td>\n",
       "      <td>Small</td>\n",
       "      <td>1.0</td>\n",
       "      <td>1.0</td>\n",
       "      <td>1.0</td>\n",
       "      <td>Backpack</td>\n",
       "      <td>Gray</td>\n",
       "      <td>16.439833</td>\n",
       "      <td>128.81208</td>\n",
       "      <td>...</td>\n",
       "      <td>39.027401</td>\n",
       "      <td>1523.138053</td>\n",
       "      <td>81.457464</td>\n",
       "      <td>47116</td>\n",
       "      <td>39.044597</td>\n",
       "      <td>1524.480586</td>\n",
       "      <td>80.906738</td>\n",
       "      <td>25201</td>\n",
       "      <td>38.632736</td>\n",
       "      <td>1492.488286</td>\n",
       "    </tr>\n",
       "    <tr>\n",
       "      <th>4</th>\n",
       "      <td>Nike</td>\n",
       "      <td>Leather</td>\n",
       "      <td>Medium</td>\n",
       "      <td>5.0</td>\n",
       "      <td>0.0</td>\n",
       "      <td>1.0</td>\n",
       "      <td>Backpack</td>\n",
       "      <td>Green</td>\n",
       "      <td>26.826862</td>\n",
       "      <td>145.00765</td>\n",
       "      <td>...</td>\n",
       "      <td>38.760183</td>\n",
       "      <td>1502.351767</td>\n",
       "      <td>81.457464</td>\n",
       "      <td>47116</td>\n",
       "      <td>39.044597</td>\n",
       "      <td>1524.480586</td>\n",
       "      <td>82.411083</td>\n",
       "      <td>23292</td>\n",
       "      <td>38.851378</td>\n",
       "      <td>1509.429543</td>\n",
       "    </tr>\n",
       "  </tbody>\n",
       "</table>\n",
       "<p>5 rows × 33 columns</p>\n",
       "</div>"
      ],
      "text/plain": [
       "          Brand   Material    Size  Compartments  Laptop Compartment  \\\n",
       "0        Adidas    Leather   Large           6.0                 0.0   \n",
       "1        Adidas  Polyester   Large           6.0                 1.0   \n",
       "2          Puma     Canvas   Large           9.0                 1.0   \n",
       "3  Under Armour  Polyester   Small           1.0                 1.0   \n",
       "4          Nike    Leather  Medium           5.0                 0.0   \n",
       "\n",
       "   Waterproof     Style  Color  Weight Capacity (kg)      Price  ...  \\\n",
       "0         1.0      Tote   Gray             25.388072  114.37481  ...   \n",
       "1         0.0      Tote   Pink             20.131521   86.43833  ...   \n",
       "2         1.0      Tote  Black              8.947721   21.70910  ...   \n",
       "3         1.0  Backpack   Gray             16.439833  128.81208  ...   \n",
       "4         1.0  Backpack  Green             26.826862  145.00765  ...   \n",
       "\n",
       "    Size_STD     Size_VAR  Style_Price_mean  Style_Count  Style_STD  \\\n",
       "0  39.417406  1553.731912         81.564757        48905  39.296375   \n",
       "1  39.417406  1553.731912         81.564757        48905  39.296375   \n",
       "2  39.417406  1553.731912         81.564757        48905  39.296375   \n",
       "3  39.027401  1523.138053         81.457464        47116  39.044597   \n",
       "4  38.760183  1502.351767         81.457464        47116  39.044597   \n",
       "\n",
       "     Style_VAR  Color_Price_mean  Color_Count  Color_STD    Color_VAR  \n",
       "0  1544.205068         80.906738        25201  38.632736  1492.488286  \n",
       "1  1544.205068         81.688257        25839  39.117945  1530.213638  \n",
       "2  1544.205068         80.471846        23192  39.184129  1535.395993  \n",
       "3  1524.480586         80.906738        25201  38.632736  1492.488286  \n",
       "4  1524.480586         82.411083        23292  38.851378  1509.429543  \n",
       "\n",
       "[5 rows x 33 columns]"
      ]
     },
     "execution_count": 65,
     "metadata": {},
     "output_type": "execute_result"
    }
   ],
   "source": [
    "data = preprocess(data)\n",
    "data.head()"
   ]
  },
  {
   "cell_type": "code",
   "execution_count": 66,
   "metadata": {},
   "outputs": [
    {
     "data": {
      "text/plain": [
       "Brand                            object\n",
       "Material                         object\n",
       "Size                             object\n",
       "Compartments                    float64\n",
       "Laptop Compartment              float64\n",
       "Waterproof                      float64\n",
       "Style                            object\n",
       "Color                            object\n",
       "Weight Capacity (kg)            float64\n",
       "Price                           float64\n",
       "Laptop Compartment_Missing        int32\n",
       "Waterproof_Missing                int32\n",
       "Weight Capacity (kg)_Missing      int32\n",
       "Brand_Price_mean                float64\n",
       "Brand_Count                       int64\n",
       "Brand_STD                       float64\n",
       "Brand_VAR                       float64\n",
       "Material_Price_mean             float64\n",
       "Material_Count                    int64\n",
       "Material_STD                    float64\n",
       "Material_VAR                    float64\n",
       "Size_Price_mean                 float64\n",
       "Size_Count                        int64\n",
       "Size_STD                        float64\n",
       "Size_VAR                        float64\n",
       "Style_Price_mean                float64\n",
       "Style_Count                       int64\n",
       "Style_STD                       float64\n",
       "Style_VAR                       float64\n",
       "Color_Price_mean                float64\n",
       "Color_Count                       int64\n",
       "Color_STD                       float64\n",
       "Color_VAR                       float64\n",
       "dtype: object"
      ]
     },
     "execution_count": 66,
     "metadata": {},
     "output_type": "execute_result"
    }
   ],
   "source": [
    "data.dtypes"
   ]
  },
  {
   "cell_type": "markdown",
   "metadata": {},
   "source": [
    "---"
   ]
  },
  {
   "cell_type": "markdown",
   "metadata": {},
   "source": [
    "FIRST SANDBOX - testing before implementing in preprocessing function"
   ]
  },
  {
   "cell_type": "code",
   "execution_count": 67,
   "metadata": {},
   "outputs": [],
   "source": [
    "numerical_columns = data.select_dtypes(include='number').columns\n",
    "categorical_columns = data.select_dtypes(exclude='number').columns"
   ]
  },
  {
   "cell_type": "code",
   "execution_count": 68,
   "metadata": {},
   "outputs": [
    {
     "data": {
      "text/plain": [
       "Index(['Brand', 'Material', 'Size', 'Compartments', 'Laptop Compartment',\n",
       "       'Waterproof', 'Style', 'Color', 'Weight Capacity (kg)', 'Price',\n",
       "       'Laptop Compartment_Missing', 'Waterproof_Missing',\n",
       "       'Weight Capacity (kg)_Missing', 'Brand_Price_mean', 'Brand_Count',\n",
       "       'Brand_STD', 'Brand_VAR', 'Material_Price_mean', 'Material_Count',\n",
       "       'Material_STD', 'Material_VAR', 'Size_Price_mean', 'Size_Count',\n",
       "       'Size_STD', 'Size_VAR', 'Style_Price_mean', 'Style_Count', 'Style_STD',\n",
       "       'Style_VAR', 'Color_Price_mean', 'Color_Count', 'Color_STD',\n",
       "       'Color_VAR'],\n",
       "      dtype='object')"
      ]
     },
     "execution_count": 68,
     "metadata": {},
     "output_type": "execute_result"
    }
   ],
   "source": [
    "data.columns"
   ]
  },
  {
   "cell_type": "code",
   "execution_count": 69,
   "metadata": {},
   "outputs": [
    {
     "data": {
      "text/plain": [
       "Index(['Brand', 'Material', 'Size', 'Style', 'Color'], dtype='object')"
      ]
     },
     "execution_count": 69,
     "metadata": {},
     "output_type": "execute_result"
    }
   ],
   "source": [
    "categorical_columns"
   ]
  },
  {
   "cell_type": "markdown",
   "metadata": {},
   "source": [
    "END OF THE FIRST SANDBOX"
   ]
  },
  {
   "cell_type": "markdown",
   "metadata": {},
   "source": [
    "---"
   ]
  },
  {
   "cell_type": "code",
   "execution_count": 70,
   "metadata": {},
   "outputs": [
    {
     "name": "stdout",
     "output_type": "stream",
     "text": [
      "33 = 33\n"
     ]
    }
   ],
   "source": [
    "print(f\"{(len(numerical_columns) + len(categorical_columns))} = {len(data.columns)}\")"
   ]
  },
  {
   "cell_type": "code",
   "execution_count": 71,
   "metadata": {},
   "outputs": [
    {
     "data": {
      "text/plain": [
       "Index(['Brand', 'Material', 'Size', 'Compartments', 'Laptop Compartment',\n",
       "       'Waterproof', 'Style', 'Color', 'Weight Capacity (kg)', 'Price',\n",
       "       'Laptop Compartment_Missing', 'Waterproof_Missing',\n",
       "       'Weight Capacity (kg)_Missing', 'Brand_Price_mean', 'Brand_Count',\n",
       "       'Brand_STD', 'Brand_VAR', 'Material_Price_mean', 'Material_Count',\n",
       "       'Material_STD', 'Material_VAR', 'Size_Price_mean', 'Size_Count',\n",
       "       'Size_STD', 'Size_VAR', 'Style_Price_mean', 'Style_Count', 'Style_STD',\n",
       "       'Style_VAR', 'Color_Price_mean', 'Color_Count', 'Color_STD',\n",
       "       'Color_VAR'],\n",
       "      dtype='object')"
      ]
     },
     "execution_count": 71,
     "metadata": {},
     "output_type": "execute_result"
    }
   ],
   "source": [
    "data.columns"
   ]
  },
  {
   "cell_type": "code",
   "execution_count": 72,
   "metadata": {},
   "outputs": [],
   "source": [
    "from sklearn.pipeline import Pipeline\n",
    "from sklearn.compose import ColumnTransformer\n",
    "from sklearn.preprocessing import (\n",
    "    OneHotEncoder,\n",
    "    StandardScaler\n",
    ")\n",
    "from sklearn.compose import ColumnTransformer\n",
    "from sklearn.model_selection import train_test_split, cross_validate, cross_val_score"
   ]
  },
  {
   "cell_type": "code",
   "execution_count": 73,
   "metadata": {},
   "outputs": [
    {
     "data": {
      "text/plain": [
       "Index(['Brand', 'Material', 'Size', 'Compartments', 'Laptop Compartment',\n",
       "       'Waterproof', 'Style', 'Color', 'Weight Capacity (kg)', 'Price',\n",
       "       'Laptop Compartment_Missing', 'Waterproof_Missing',\n",
       "       'Weight Capacity (kg)_Missing', 'Brand_Price_mean', 'Brand_Count',\n",
       "       'Brand_STD', 'Brand_VAR', 'Material_Price_mean', 'Material_Count',\n",
       "       'Material_STD', 'Material_VAR', 'Size_Price_mean', 'Size_Count',\n",
       "       'Size_STD', 'Size_VAR', 'Style_Price_mean', 'Style_Count', 'Style_STD',\n",
       "       'Style_VAR', 'Color_Price_mean', 'Color_Count', 'Color_STD',\n",
       "       'Color_VAR'],\n",
       "      dtype='object')"
      ]
     },
     "execution_count": 73,
     "metadata": {},
     "output_type": "execute_result"
    }
   ],
   "source": [
    "data.columns"
   ]
  },
  {
   "cell_type": "code",
   "execution_count": 74,
   "metadata": {},
   "outputs": [],
   "source": [
    "ohe_columns = [\n",
    "    \"Brand\",\n",
    "    \"Material\",\n",
    "    \"Size\",\n",
    "    #\"Compartments\",\n",
    "    \"Style\",\n",
    "    \"Color\"\n",
    "]\n",
    "\n",
    "columns_to_scale = [\n",
    "    \"Compartments\",\n",
    "    \"Weight Capacity (kg)\"\n",
    "] + [col for col in data.columns if \"mean\" in col or \"Count\" in col or \"STD\" in col or \"VAR\" in col]"
   ]
  },
  {
   "cell_type": "code",
   "execution_count": 75,
   "metadata": {},
   "outputs": [],
   "source": [
    "ohe = OneHotEncoder(handle_unknown=\"ignore\", sparse_output=False)\n",
    "std = StandardScaler()"
   ]
  },
  {
   "cell_type": "code",
   "execution_count": 76,
   "metadata": {},
   "outputs": [],
   "source": [
    "column_transformer = ColumnTransformer(\n",
    "    transformers=[\n",
    "        (\"OneHotEncoding\", ohe, ohe_columns),\n",
    "        (\"Standardization\", std, columns_to_scale)\n",
    "    ],\n",
    "    remainder=\"passthrough\",\n",
    "    n_jobs=-1,\n",
    "    verbose=True,\n",
    "    verbose_feature_names_out=False\n",
    ").set_output(transform=\"pandas\")"
   ]
  },
  {
   "cell_type": "code",
   "execution_count": null,
   "metadata": {},
   "outputs": [],
   "source": [
    "pipeline = Pipeline(\n",
    "    [\n",
    "        (\"Preprocessing\", preprocess)\n",
    "        (\"ColumnTransformer\", column_transformer),\n",
    "        (\"Model\", XGBRegressor())\n",
    "    ]\n",
    ")"
   ]
  },
  {
   "cell_type": "code",
   "execution_count": 78,
   "metadata": {},
   "outputs": [],
   "source": [
    "X = data.drop(columns='Price')\n",
    "y = data['Price']"
   ]
  },
  {
   "cell_type": "code",
   "execution_count": 79,
   "metadata": {},
   "outputs": [],
   "source": [
    "X = pipeline.fit_transform(X)"
   ]
  },
  {
   "cell_type": "code",
   "execution_count": 80,
   "metadata": {},
   "outputs": [
    {
     "data": {
      "text/plain": [
       "Index(['Brand_Adidas', 'Brand_Inconnu', 'Brand_Jansport', 'Brand_Nike',\n",
       "       'Brand_Puma', 'Brand_Under Armour', 'Material_Canvas',\n",
       "       'Material_Inconnu', 'Material_Leather', 'Material_Nylon',\n",
       "       'Material_Polyester', 'Size_Inconnu', 'Size_Large', 'Size_Medium',\n",
       "       'Size_Small', 'Style_Backpack', 'Style_Inconnu', 'Style_Messenger',\n",
       "       'Style_Tote', 'Color_Black', 'Color_Blue', 'Color_Gray', 'Color_Green',\n",
       "       'Color_Inconnu', 'Color_Pink', 'Color_Red', 'Compartments',\n",
       "       'Weight Capacity (kg)', 'Brand_Price_mean', 'Brand_Count', 'Brand_STD',\n",
       "       'Brand_VAR', 'Material_Price_mean', 'Material_Count', 'Material_STD',\n",
       "       'Material_VAR', 'Size_Price_mean', 'Size_Count', 'Size_STD', 'Size_VAR',\n",
       "       'Style_Price_mean', 'Style_Count', 'Style_STD', 'Style_VAR',\n",
       "       'Color_Price_mean', 'Color_Count', 'Color_STD', 'Color_VAR',\n",
       "       'Laptop Compartment', 'Waterproof', 'Laptop Compartment_Missing',\n",
       "       'Waterproof_Missing', 'Weight Capacity (kg)_Missing'],\n",
       "      dtype='object')"
      ]
     },
     "execution_count": 80,
     "metadata": {},
     "output_type": "execute_result"
    }
   ],
   "source": [
    "X.columns"
   ]
  },
  {
   "cell_type": "markdown",
   "metadata": {},
   "source": [
    "---\n",
    "SECOND SANDBOX"
   ]
  },
  {
   "cell_type": "markdown",
   "metadata": {},
   "source": [
    "END OF THE SECOND SANDBOX\n",
    "\n",
    "---"
   ]
  },
  {
   "cell_type": "code",
   "execution_count": null,
   "metadata": {},
   "outputs": [],
   "source": [
    "from sklearn.linear_model import LinearRegression\n",
    "import xgboost as xgb\n",
    "from sklearn.model_selection import KFold\n",
    "\n",
    "KF = KFold(n_splits=5, shuffle=True, random_state=42)"
   ]
  },
  {
   "cell_type": "code",
   "execution_count": null,
   "metadata": {},
   "outputs": [],
   "source": [
    "#model = LinearRegression()\n",
    "model = xgb.XGBRegressor()"
   ]
  },
  {
   "cell_type": "markdown",
   "metadata": {},
   "source": [
    "---"
   ]
  },
  {
   "cell_type": "markdown",
   "metadata": {},
   "source": [
    "CROSS VAL"
   ]
  },
  {
   "cell_type": "code",
   "execution_count": null,
   "metadata": {},
   "outputs": [],
   "source": [
    "cv_results = cross_validate(model, X, y, cv=KF, verbose=3, return_train_score=True, scoring='neg_root_mean_squared_error', n_jobs=-1)\n",
    "cv_results"
   ]
  },
  {
   "cell_type": "code",
   "execution_count": null,
   "metadata": {},
   "outputs": [],
   "source": [
    "cv_results['test_score'].mean()"
   ]
  },
  {
   "cell_type": "code",
   "execution_count": null,
   "metadata": {},
   "outputs": [],
   "source": [
    "model.fit(X, y, verbose=3)"
   ]
  },
  {
   "cell_type": "markdown",
   "metadata": {},
   "source": [
    "---"
   ]
  },
  {
   "cell_type": "markdown",
   "metadata": {},
   "source": [
    "GRID SEARCH"
   ]
  },
  {
   "cell_type": "code",
   "execution_count": null,
   "metadata": {},
   "outputs": [],
   "source": [
    "from sklearn.model_selection import GridSearchCV"
   ]
  },
  {
   "cell_type": "code",
   "execution_count": null,
   "metadata": {},
   "outputs": [],
   "source": [
    "xgboost_param_grid = {\n",
    "    'n_estimators': [100, 200, 300],  \n",
    "    'max_depth': [6, 10, 15],  \n",
    "    'learning_rate': [0.01, 0.1, 0.2],\n",
    "    'subsample': [0.8, 0.9, 1.0],\n",
    "    'colsample_bytree': [0.6, 0.8, 1.0],\n",
    "    'reg_alpha': [0, 0.1, 0.5],\n",
    "    'reg_lambda': [0.1, 1.0, 10.0],\n",
    "    'eval_metric': ['logloss'],\n",
    "    'booster': ['gbtree'],\n",
    "    'min_child_weight': [1, 3, 5]\n",
    "}\n",
    "\n",
    "xgboost_grid = GridSearchCV(\n",
    "    estimator=model,\n",
    "    param_grid=xgboost_param_grid,\n",
    "    scoring='neg_root_mean_squared_error',\n",
    "    cv=5,\n",
    "    verbose=3,\n",
    "    n_jobs=-1\n",
    ")"
   ]
  },
  {
   "cell_type": "code",
   "execution_count": null,
   "metadata": {},
   "outputs": [],
   "source": [
    "#xgboost_grid.fit(X, y)\n",
    "#print(f\"Best XGBoost Params: {xgboost_grid.best_params_}\")\n",
    "#xgboost_best_model = xgboost_grid.best_estimator_"
   ]
  },
  {
   "cell_type": "markdown",
   "metadata": {},
   "source": [
    "---"
   ]
  },
  {
   "cell_type": "markdown",
   "metadata": {},
   "source": [
    "DATA TEST"
   ]
  },
  {
   "cell_type": "code",
   "execution_count": null,
   "metadata": {},
   "outputs": [],
   "source": [
    "test = pd.read_csv('test.csv', index_col=0)\n",
    "test.head()"
   ]
  },
  {
   "cell_type": "code",
   "execution_count": null,
   "metadata": {},
   "outputs": [],
   "source": [
    "test = preprocess(test, submission=True)\n",
    "test.head()"
   ]
  },
  {
   "cell_type": "code",
   "execution_count": null,
   "metadata": {},
   "outputs": [],
   "source": [
    "test = pipeline.transform(test)\n",
    "test.head()"
   ]
  },
  {
   "cell_type": "code",
   "execution_count": null,
   "metadata": {},
   "outputs": [],
   "source": [
    "preds = pd.concat([pd.DataFrame(test.index), pd.DataFrame(model.predict(test))], axis=1, ignore_index=True)\n",
    "preds.columns = ['id', 'Price']\n",
    "print(len(preds))\n",
    "preds.head()"
   ]
  },
  {
   "cell_type": "code",
   "execution_count": null,
   "metadata": {},
   "outputs": [],
   "source": [
    "preds.to_csv('submission.csv', index=False)"
   ]
  }
 ],
 "metadata": {
  "kernelspec": {
   "display_name": "base",
   "language": "python",
   "name": "python3"
  },
  "language_info": {
   "codemirror_mode": {
    "name": "ipython",
    "version": 3
   },
   "file_extension": ".py",
   "mimetype": "text/x-python",
   "name": "python",
   "nbconvert_exporter": "python",
   "pygments_lexer": "ipython3",
   "version": "3.11.5"
  }
 },
 "nbformat": 4,
 "nbformat_minor": 2
}
