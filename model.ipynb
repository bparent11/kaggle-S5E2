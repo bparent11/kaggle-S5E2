{
 "cells": [
  {
   "cell_type": "code",
   "execution_count": 31,
   "metadata": {},
   "outputs": [],
   "source": [
    "import numpy as np\n",
    "import matplotlib.pyplot as plt\n",
    "import pandas as pd\n",
    "import seaborn as sns\n",
    "\n",
    "from preprocessing import preprocess"
   ]
  },
  {
   "cell_type": "code",
   "execution_count": 32,
   "metadata": {},
   "outputs": [],
   "source": [
    "data = pd.read_csv(\"train.csv\", index_col=0)\n",
    "#data_plus = pd.read_csv(\"training_extra.csv\", index_col=0)\n",
    "#data = pd.concat([data, data_plus], axis=0)"
   ]
  },
  {
   "cell_type": "code",
   "execution_count": 33,
   "metadata": {},
   "outputs": [
    {
     "data": {
      "text/html": [
       "<div>\n",
       "<style scoped>\n",
       "    .dataframe tbody tr th:only-of-type {\n",
       "        vertical-align: middle;\n",
       "    }\n",
       "\n",
       "    .dataframe tbody tr th {\n",
       "        vertical-align: top;\n",
       "    }\n",
       "\n",
       "    .dataframe thead th {\n",
       "        text-align: right;\n",
       "    }\n",
       "</style>\n",
       "<table border=\"1\" class=\"dataframe\">\n",
       "  <thead>\n",
       "    <tr style=\"text-align: right;\">\n",
       "      <th></th>\n",
       "      <th>Brand</th>\n",
       "      <th>Material</th>\n",
       "      <th>Size</th>\n",
       "      <th>Compartments</th>\n",
       "      <th>Laptop Compartment</th>\n",
       "      <th>Waterproof</th>\n",
       "      <th>Style</th>\n",
       "      <th>Color</th>\n",
       "      <th>Weight Capacity (kg)</th>\n",
       "      <th>Price</th>\n",
       "    </tr>\n",
       "    <tr>\n",
       "      <th>id</th>\n",
       "      <th></th>\n",
       "      <th></th>\n",
       "      <th></th>\n",
       "      <th></th>\n",
       "      <th></th>\n",
       "      <th></th>\n",
       "      <th></th>\n",
       "      <th></th>\n",
       "      <th></th>\n",
       "      <th></th>\n",
       "    </tr>\n",
       "  </thead>\n",
       "  <tbody>\n",
       "    <tr>\n",
       "      <th>299995</th>\n",
       "      <td>Adidas</td>\n",
       "      <td>Leather</td>\n",
       "      <td>Small</td>\n",
       "      <td>9.0</td>\n",
       "      <td>No</td>\n",
       "      <td>No</td>\n",
       "      <td>Tote</td>\n",
       "      <td>Blue</td>\n",
       "      <td>12.730812</td>\n",
       "      <td>129.99749</td>\n",
       "    </tr>\n",
       "    <tr>\n",
       "      <th>299996</th>\n",
       "      <td>Jansport</td>\n",
       "      <td>Leather</td>\n",
       "      <td>Large</td>\n",
       "      <td>6.0</td>\n",
       "      <td>No</td>\n",
       "      <td>Yes</td>\n",
       "      <td>Tote</td>\n",
       "      <td>Blue</td>\n",
       "      <td>26.633182</td>\n",
       "      <td>19.85819</td>\n",
       "    </tr>\n",
       "    <tr>\n",
       "      <th>299997</th>\n",
       "      <td>Puma</td>\n",
       "      <td>Canvas</td>\n",
       "      <td>Large</td>\n",
       "      <td>9.0</td>\n",
       "      <td>Yes</td>\n",
       "      <td>Yes</td>\n",
       "      <td>Backpack</td>\n",
       "      <td>Pink</td>\n",
       "      <td>11.898250</td>\n",
       "      <td>111.41364</td>\n",
       "    </tr>\n",
       "    <tr>\n",
       "      <th>299998</th>\n",
       "      <td>Adidas</td>\n",
       "      <td>Nylon</td>\n",
       "      <td>Small</td>\n",
       "      <td>1.0</td>\n",
       "      <td>No</td>\n",
       "      <td>Yes</td>\n",
       "      <td>Tote</td>\n",
       "      <td>Pink</td>\n",
       "      <td>6.175738</td>\n",
       "      <td>115.89080</td>\n",
       "    </tr>\n",
       "    <tr>\n",
       "      <th>299999</th>\n",
       "      <td>Under Armour</td>\n",
       "      <td>Canvas</td>\n",
       "      <td>Small</td>\n",
       "      <td>2.0</td>\n",
       "      <td>No</td>\n",
       "      <td>Yes</td>\n",
       "      <td>Backpack</td>\n",
       "      <td>Black</td>\n",
       "      <td>18.568865</td>\n",
       "      <td>26.72762</td>\n",
       "    </tr>\n",
       "  </tbody>\n",
       "</table>\n",
       "</div>"
      ],
      "text/plain": [
       "               Brand Material   Size  Compartments Laptop Compartment  \\\n",
       "id                                                                      \n",
       "299995        Adidas  Leather  Small           9.0                 No   \n",
       "299996      Jansport  Leather  Large           6.0                 No   \n",
       "299997          Puma   Canvas  Large           9.0                Yes   \n",
       "299998        Adidas    Nylon  Small           1.0                 No   \n",
       "299999  Under Armour   Canvas  Small           2.0                 No   \n",
       "\n",
       "       Waterproof     Style  Color  Weight Capacity (kg)      Price  \n",
       "id                                                                   \n",
       "299995         No      Tote   Blue             12.730812  129.99749  \n",
       "299996        Yes      Tote   Blue             26.633182   19.85819  \n",
       "299997        Yes  Backpack   Pink             11.898250  111.41364  \n",
       "299998        Yes      Tote   Pink              6.175738  115.89080  \n",
       "299999        Yes  Backpack  Black             18.568865   26.72762  "
      ]
     },
     "execution_count": 33,
     "metadata": {},
     "output_type": "execute_result"
    }
   ],
   "source": [
    "data.tail()"
   ]
  },
  {
   "cell_type": "code",
   "execution_count": 34,
   "metadata": {},
   "outputs": [],
   "source": [
    "data = data[150000:]"
   ]
  },
  {
   "cell_type": "code",
   "execution_count": 35,
   "metadata": {},
   "outputs": [
    {
     "data": {
      "text/html": [
       "<div>\n",
       "<style scoped>\n",
       "    .dataframe tbody tr th:only-of-type {\n",
       "        vertical-align: middle;\n",
       "    }\n",
       "\n",
       "    .dataframe tbody tr th {\n",
       "        vertical-align: top;\n",
       "    }\n",
       "\n",
       "    .dataframe thead th {\n",
       "        text-align: right;\n",
       "    }\n",
       "</style>\n",
       "<table border=\"1\" class=\"dataframe\">\n",
       "  <thead>\n",
       "    <tr style=\"text-align: right;\">\n",
       "      <th></th>\n",
       "      <th>Brand</th>\n",
       "      <th>Material</th>\n",
       "      <th>Size</th>\n",
       "      <th>Compartments</th>\n",
       "      <th>Laptop Compartment</th>\n",
       "      <th>Waterproof</th>\n",
       "      <th>Style</th>\n",
       "      <th>Color</th>\n",
       "      <th>Weight Capacity (kg)</th>\n",
       "      <th>Price</th>\n",
       "      <th>...</th>\n",
       "      <th>Size_STD</th>\n",
       "      <th>Size_VAR</th>\n",
       "      <th>Style_Price_mean</th>\n",
       "      <th>Style_Count</th>\n",
       "      <th>Style_STD</th>\n",
       "      <th>Style_VAR</th>\n",
       "      <th>Color_Price_mean</th>\n",
       "      <th>Color_Count</th>\n",
       "      <th>Color_STD</th>\n",
       "      <th>Color_VAR</th>\n",
       "    </tr>\n",
       "  </thead>\n",
       "  <tbody>\n",
       "    <tr>\n",
       "      <th>0</th>\n",
       "      <td>Adidas</td>\n",
       "      <td>Leather</td>\n",
       "      <td>Large</td>\n",
       "      <td>6.0</td>\n",
       "      <td>0.0</td>\n",
       "      <td>1.0</td>\n",
       "      <td>Tote</td>\n",
       "      <td>Gray</td>\n",
       "      <td>25.388072</td>\n",
       "      <td>114.37481</td>\n",
       "      <td>...</td>\n",
       "      <td>39.417406</td>\n",
       "      <td>1553.731912</td>\n",
       "      <td>81.564757</td>\n",
       "      <td>48905</td>\n",
       "      <td>39.296375</td>\n",
       "      <td>1544.205068</td>\n",
       "      <td>80.906738</td>\n",
       "      <td>25201</td>\n",
       "      <td>38.632736</td>\n",
       "      <td>1492.488286</td>\n",
       "    </tr>\n",
       "    <tr>\n",
       "      <th>1</th>\n",
       "      <td>Adidas</td>\n",
       "      <td>Polyester</td>\n",
       "      <td>Large</td>\n",
       "      <td>6.0</td>\n",
       "      <td>1.0</td>\n",
       "      <td>0.0</td>\n",
       "      <td>Tote</td>\n",
       "      <td>Pink</td>\n",
       "      <td>20.131521</td>\n",
       "      <td>86.43833</td>\n",
       "      <td>...</td>\n",
       "      <td>39.417406</td>\n",
       "      <td>1553.731912</td>\n",
       "      <td>81.564757</td>\n",
       "      <td>48905</td>\n",
       "      <td>39.296375</td>\n",
       "      <td>1544.205068</td>\n",
       "      <td>81.688257</td>\n",
       "      <td>25839</td>\n",
       "      <td>39.117945</td>\n",
       "      <td>1530.213638</td>\n",
       "    </tr>\n",
       "    <tr>\n",
       "      <th>2</th>\n",
       "      <td>Puma</td>\n",
       "      <td>Canvas</td>\n",
       "      <td>Large</td>\n",
       "      <td>9.0</td>\n",
       "      <td>1.0</td>\n",
       "      <td>1.0</td>\n",
       "      <td>Tote</td>\n",
       "      <td>Black</td>\n",
       "      <td>8.947721</td>\n",
       "      <td>21.70910</td>\n",
       "      <td>...</td>\n",
       "      <td>39.417406</td>\n",
       "      <td>1553.731912</td>\n",
       "      <td>81.564757</td>\n",
       "      <td>48905</td>\n",
       "      <td>39.296375</td>\n",
       "      <td>1544.205068</td>\n",
       "      <td>80.471846</td>\n",
       "      <td>23192</td>\n",
       "      <td>39.184129</td>\n",
       "      <td>1535.395993</td>\n",
       "    </tr>\n",
       "    <tr>\n",
       "      <th>3</th>\n",
       "      <td>Under Armour</td>\n",
       "      <td>Polyester</td>\n",
       "      <td>Small</td>\n",
       "      <td>1.0</td>\n",
       "      <td>1.0</td>\n",
       "      <td>1.0</td>\n",
       "      <td>Backpack</td>\n",
       "      <td>Gray</td>\n",
       "      <td>16.439833</td>\n",
       "      <td>128.81208</td>\n",
       "      <td>...</td>\n",
       "      <td>39.027401</td>\n",
       "      <td>1523.138053</td>\n",
       "      <td>81.457464</td>\n",
       "      <td>47116</td>\n",
       "      <td>39.044597</td>\n",
       "      <td>1524.480586</td>\n",
       "      <td>80.906738</td>\n",
       "      <td>25201</td>\n",
       "      <td>38.632736</td>\n",
       "      <td>1492.488286</td>\n",
       "    </tr>\n",
       "    <tr>\n",
       "      <th>4</th>\n",
       "      <td>Nike</td>\n",
       "      <td>Leather</td>\n",
       "      <td>Medium</td>\n",
       "      <td>5.0</td>\n",
       "      <td>0.0</td>\n",
       "      <td>1.0</td>\n",
       "      <td>Backpack</td>\n",
       "      <td>Green</td>\n",
       "      <td>26.826862</td>\n",
       "      <td>145.00765</td>\n",
       "      <td>...</td>\n",
       "      <td>38.760183</td>\n",
       "      <td>1502.351767</td>\n",
       "      <td>81.457464</td>\n",
       "      <td>47116</td>\n",
       "      <td>39.044597</td>\n",
       "      <td>1524.480586</td>\n",
       "      <td>82.411083</td>\n",
       "      <td>23292</td>\n",
       "      <td>38.851378</td>\n",
       "      <td>1509.429543</td>\n",
       "    </tr>\n",
       "  </tbody>\n",
       "</table>\n",
       "<p>5 rows × 33 columns</p>\n",
       "</div>"
      ],
      "text/plain": [
       "          Brand   Material    Size  Compartments  Laptop Compartment  \\\n",
       "0        Adidas    Leather   Large           6.0                 0.0   \n",
       "1        Adidas  Polyester   Large           6.0                 1.0   \n",
       "2          Puma     Canvas   Large           9.0                 1.0   \n",
       "3  Under Armour  Polyester   Small           1.0                 1.0   \n",
       "4          Nike    Leather  Medium           5.0                 0.0   \n",
       "\n",
       "   Waterproof     Style  Color  Weight Capacity (kg)      Price  ...  \\\n",
       "0         1.0      Tote   Gray             25.388072  114.37481  ...   \n",
       "1         0.0      Tote   Pink             20.131521   86.43833  ...   \n",
       "2         1.0      Tote  Black              8.947721   21.70910  ...   \n",
       "3         1.0  Backpack   Gray             16.439833  128.81208  ...   \n",
       "4         1.0  Backpack  Green             26.826862  145.00765  ...   \n",
       "\n",
       "    Size_STD     Size_VAR  Style_Price_mean  Style_Count  Style_STD  \\\n",
       "0  39.417406  1553.731912         81.564757        48905  39.296375   \n",
       "1  39.417406  1553.731912         81.564757        48905  39.296375   \n",
       "2  39.417406  1553.731912         81.564757        48905  39.296375   \n",
       "3  39.027401  1523.138053         81.457464        47116  39.044597   \n",
       "4  38.760183  1502.351767         81.457464        47116  39.044597   \n",
       "\n",
       "     Style_VAR  Color_Price_mean  Color_Count  Color_STD    Color_VAR  \n",
       "0  1544.205068         80.906738        25201  38.632736  1492.488286  \n",
       "1  1544.205068         81.688257        25839  39.117945  1530.213638  \n",
       "2  1544.205068         80.471846        23192  39.184129  1535.395993  \n",
       "3  1524.480586         80.906738        25201  38.632736  1492.488286  \n",
       "4  1524.480586         82.411083        23292  38.851378  1509.429543  \n",
       "\n",
       "[5 rows x 33 columns]"
      ]
     },
     "execution_count": 35,
     "metadata": {},
     "output_type": "execute_result"
    }
   ],
   "source": [
    "data = preprocess(data)\n",
    "data.head()"
   ]
  },
  {
   "cell_type": "code",
   "execution_count": 36,
   "metadata": {},
   "outputs": [
    {
     "data": {
      "text/plain": [
       "Brand                            object\n",
       "Material                         object\n",
       "Size                             object\n",
       "Compartments                    float64\n",
       "Laptop Compartment              float64\n",
       "Waterproof                      float64\n",
       "Style                            object\n",
       "Color                            object\n",
       "Weight Capacity (kg)            float64\n",
       "Price                           float64\n",
       "Laptop Compartment_Missing        int32\n",
       "Waterproof_Missing                int32\n",
       "Weight Capacity (kg)_Missing      int32\n",
       "Brand_Price_mean                float64\n",
       "Brand_Count                       int64\n",
       "Brand_STD                       float64\n",
       "Brand_VAR                       float64\n",
       "Material_Price_mean             float64\n",
       "Material_Count                    int64\n",
       "Material_STD                    float64\n",
       "Material_VAR                    float64\n",
       "Size_Price_mean                 float64\n",
       "Size_Count                        int64\n",
       "Size_STD                        float64\n",
       "Size_VAR                        float64\n",
       "Style_Price_mean                float64\n",
       "Style_Count                       int64\n",
       "Style_STD                       float64\n",
       "Style_VAR                       float64\n",
       "Color_Price_mean                float64\n",
       "Color_Count                       int64\n",
       "Color_STD                       float64\n",
       "Color_VAR                       float64\n",
       "dtype: object"
      ]
     },
     "execution_count": 36,
     "metadata": {},
     "output_type": "execute_result"
    }
   ],
   "source": [
    "data.dtypes"
   ]
  },
  {
   "cell_type": "markdown",
   "metadata": {},
   "source": [
    "---"
   ]
  },
  {
   "cell_type": "markdown",
   "metadata": {},
   "source": [
    "FIRST SANDBOX - testing before implementing in preprocessing function"
   ]
  },
  {
   "cell_type": "code",
   "execution_count": 37,
   "metadata": {},
   "outputs": [],
   "source": [
    "numerical_columns = data.select_dtypes(include='number').columns\n",
    "categorical_columns = data.select_dtypes(exclude='number').columns"
   ]
  },
  {
   "cell_type": "code",
   "execution_count": 38,
   "metadata": {},
   "outputs": [
    {
     "data": {
      "text/plain": [
       "Index(['Brand', 'Material', 'Size', 'Compartments', 'Laptop Compartment',\n",
       "       'Waterproof', 'Style', 'Color', 'Weight Capacity (kg)', 'Price',\n",
       "       'Laptop Compartment_Missing', 'Waterproof_Missing',\n",
       "       'Weight Capacity (kg)_Missing', 'Brand_Price_mean', 'Brand_Count',\n",
       "       'Brand_STD', 'Brand_VAR', 'Material_Price_mean', 'Material_Count',\n",
       "       'Material_STD', 'Material_VAR', 'Size_Price_mean', 'Size_Count',\n",
       "       'Size_STD', 'Size_VAR', 'Style_Price_mean', 'Style_Count', 'Style_STD',\n",
       "       'Style_VAR', 'Color_Price_mean', 'Color_Count', 'Color_STD',\n",
       "       'Color_VAR'],\n",
       "      dtype='object')"
      ]
     },
     "execution_count": 38,
     "metadata": {},
     "output_type": "execute_result"
    }
   ],
   "source": [
    "data.columns"
   ]
  },
  {
   "cell_type": "code",
   "execution_count": 39,
   "metadata": {},
   "outputs": [
    {
     "data": {
      "text/plain": [
       "Index(['Brand', 'Material', 'Size', 'Style', 'Color'], dtype='object')"
      ]
     },
     "execution_count": 39,
     "metadata": {},
     "output_type": "execute_result"
    }
   ],
   "source": [
    "categorical_columns"
   ]
  },
  {
   "cell_type": "markdown",
   "metadata": {},
   "source": [
    "END OF THE FIRST SANDBOX"
   ]
  },
  {
   "cell_type": "markdown",
   "metadata": {},
   "source": [
    "---"
   ]
  },
  {
   "cell_type": "code",
   "execution_count": 40,
   "metadata": {},
   "outputs": [
    {
     "name": "stdout",
     "output_type": "stream",
     "text": [
      "33 = 33\n"
     ]
    }
   ],
   "source": [
    "print(f\"{(len(numerical_columns) + len(categorical_columns))} = {len(data.columns)}\")"
   ]
  },
  {
   "cell_type": "code",
   "execution_count": 41,
   "metadata": {},
   "outputs": [
    {
     "data": {
      "text/plain": [
       "Index(['Brand', 'Material', 'Size', 'Compartments', 'Laptop Compartment',\n",
       "       'Waterproof', 'Style', 'Color', 'Weight Capacity (kg)', 'Price',\n",
       "       'Laptop Compartment_Missing', 'Waterproof_Missing',\n",
       "       'Weight Capacity (kg)_Missing', 'Brand_Price_mean', 'Brand_Count',\n",
       "       'Brand_STD', 'Brand_VAR', 'Material_Price_mean', 'Material_Count',\n",
       "       'Material_STD', 'Material_VAR', 'Size_Price_mean', 'Size_Count',\n",
       "       'Size_STD', 'Size_VAR', 'Style_Price_mean', 'Style_Count', 'Style_STD',\n",
       "       'Style_VAR', 'Color_Price_mean', 'Color_Count', 'Color_STD',\n",
       "       'Color_VAR'],\n",
       "      dtype='object')"
      ]
     },
     "execution_count": 41,
     "metadata": {},
     "output_type": "execute_result"
    }
   ],
   "source": [
    "data.columns"
   ]
  },
  {
   "cell_type": "code",
   "execution_count": 42,
   "metadata": {},
   "outputs": [],
   "source": [
    "from sklearn.pipeline import Pipeline\n",
    "from sklearn.compose import ColumnTransformer\n",
    "from sklearn.preprocessing import (\n",
    "    OneHotEncoder,\n",
    "    StandardScaler\n",
    ")\n",
    "from sklearn.compose import ColumnTransformer\n",
    "from sklearn.model_selection import train_test_split, cross_validate, cross_val_score"
   ]
  },
  {
   "cell_type": "code",
   "execution_count": 43,
   "metadata": {},
   "outputs": [
    {
     "data": {
      "text/plain": [
       "Index(['Brand', 'Material', 'Size', 'Compartments', 'Laptop Compartment',\n",
       "       'Waterproof', 'Style', 'Color', 'Weight Capacity (kg)', 'Price',\n",
       "       'Laptop Compartment_Missing', 'Waterproof_Missing',\n",
       "       'Weight Capacity (kg)_Missing', 'Brand_Price_mean', 'Brand_Count',\n",
       "       'Brand_STD', 'Brand_VAR', 'Material_Price_mean', 'Material_Count',\n",
       "       'Material_STD', 'Material_VAR', 'Size_Price_mean', 'Size_Count',\n",
       "       'Size_STD', 'Size_VAR', 'Style_Price_mean', 'Style_Count', 'Style_STD',\n",
       "       'Style_VAR', 'Color_Price_mean', 'Color_Count', 'Color_STD',\n",
       "       'Color_VAR'],\n",
       "      dtype='object')"
      ]
     },
     "execution_count": 43,
     "metadata": {},
     "output_type": "execute_result"
    }
   ],
   "source": [
    "data.columns"
   ]
  },
  {
   "cell_type": "code",
   "execution_count": 44,
   "metadata": {},
   "outputs": [],
   "source": [
    "ohe_columns = [\n",
    "    \"Brand\",\n",
    "    \"Material\",\n",
    "    \"Size\",\n",
    "    #\"Compartments\",\n",
    "    \"Style\",\n",
    "    \"Color\"\n",
    "]\n",
    "\n",
    "columns_to_scale = [\n",
    "    \"Compartments\",\n",
    "    \"Weight Capacity (kg)\"\n",
    "] + [col for col in data.columns if \"mean\" in col or \"Count\" in col or \"STD\" in col or \"VAR\" in col]"
   ]
  },
  {
   "cell_type": "code",
   "execution_count": 45,
   "metadata": {},
   "outputs": [],
   "source": [
    "ohe = OneHotEncoder(handle_unknown=\"ignore\", sparse_output=False)\n",
    "std = StandardScaler()"
   ]
  },
  {
   "cell_type": "code",
   "execution_count": 46,
   "metadata": {},
   "outputs": [],
   "source": [
    "column_transformer = ColumnTransformer(\n",
    "    transformers=[\n",
    "        (\"OneHotEncoding\", ohe, ohe_columns),\n",
    "        (\"Standardization\", std, columns_to_scale)\n",
    "    ],\n",
    "    remainder=\"passthrough\",\n",
    "    n_jobs=-1,\n",
    "    verbose=True,\n",
    "    verbose_feature_names_out=False\n",
    ").set_output(transform=\"pandas\")"
   ]
  },
  {
   "cell_type": "code",
   "execution_count": 47,
   "metadata": {},
   "outputs": [],
   "source": [
    "pipeline = Pipeline(\n",
    "    [\n",
    "        (\"ColumnTransformer\", column_transformer),\n",
    "    ]\n",
    ")"
   ]
  },
  {
   "cell_type": "code",
   "execution_count": 48,
   "metadata": {},
   "outputs": [],
   "source": [
    "X = data.drop(columns='Price')\n",
    "y = data['Price']"
   ]
  },
  {
   "cell_type": "code",
   "execution_count": 49,
   "metadata": {},
   "outputs": [],
   "source": [
    "X = pipeline.fit_transform(X)"
   ]
  },
  {
   "cell_type": "code",
   "execution_count": 50,
   "metadata": {},
   "outputs": [
    {
     "data": {
      "text/plain": [
       "Index(['Brand_Adidas', 'Brand_Inconnu', 'Brand_Jansport', 'Brand_Nike',\n",
       "       'Brand_Puma', 'Brand_Under Armour', 'Material_Canvas',\n",
       "       'Material_Inconnu', 'Material_Leather', 'Material_Nylon',\n",
       "       'Material_Polyester', 'Size_Inconnu', 'Size_Large', 'Size_Medium',\n",
       "       'Size_Small', 'Style_Backpack', 'Style_Inconnu', 'Style_Messenger',\n",
       "       'Style_Tote', 'Color_Black', 'Color_Blue', 'Color_Gray', 'Color_Green',\n",
       "       'Color_Inconnu', 'Color_Pink', 'Color_Red', 'Compartments',\n",
       "       'Weight Capacity (kg)', 'Brand_Price_mean', 'Brand_Count', 'Brand_STD',\n",
       "       'Brand_VAR', 'Material_Price_mean', 'Material_Count', 'Material_STD',\n",
       "       'Material_VAR', 'Size_Price_mean', 'Size_Count', 'Size_STD', 'Size_VAR',\n",
       "       'Style_Price_mean', 'Style_Count', 'Style_STD', 'Style_VAR',\n",
       "       'Color_Price_mean', 'Color_Count', 'Color_STD', 'Color_VAR',\n",
       "       'Laptop Compartment', 'Waterproof', 'Laptop Compartment_Missing',\n",
       "       'Waterproof_Missing', 'Weight Capacity (kg)_Missing'],\n",
       "      dtype='object')"
      ]
     },
     "execution_count": 50,
     "metadata": {},
     "output_type": "execute_result"
    }
   ],
   "source": [
    "X.columns"
   ]
  },
  {
   "cell_type": "markdown",
   "metadata": {},
   "source": [
    "---\n",
    "SECOND SANDBOX"
   ]
  },
  {
   "cell_type": "code",
   "execution_count": 51,
   "metadata": {},
   "outputs": [
    {
     "name": "stdout",
     "output_type": "stream",
     "text": [
      "1378\n",
      "[('Brand_Adidas', 'Material_Canvas'), ('Brand_Adidas', 'Material_Inconnu'), ('Brand_Adidas', 'Material_Leather'), ('Brand_Adidas', 'Material_Nylon'), ('Brand_Adidas', 'Material_Polyester'), ('Brand_Adidas', 'Size_Inconnu'), ('Brand_Adidas', 'Size_Large'), ('Brand_Adidas', 'Size_Medium'), ('Brand_Adidas', 'Size_Small'), ('Brand_Adidas', 'Style_Backpack'), ('Brand_Adidas', 'Style_Inconnu'), ('Brand_Adidas', 'Style_Messenger'), ('Brand_Adidas', 'Style_Tote'), ('Brand_Adidas', 'Color_Black'), ('Brand_Adidas', 'Color_Blue'), ('Brand_Adidas', 'Color_Gray'), ('Brand_Adidas', 'Color_Green'), ('Brand_Adidas', 'Color_Inconnu'), ('Brand_Adidas', 'Color_Pink'), ('Brand_Adidas', 'Color_Red'), ('Brand_Adidas', 'Compartments'), ('Brand_Adidas', 'Weight Capacity (kg)'), ('Brand_Adidas', 'Material_Price_mean'), ('Brand_Adidas', 'Material_Count'), ('Brand_Adidas', 'Material_STD'), ('Brand_Adidas', 'Material_VAR'), ('Brand_Adidas', 'Size_Price_mean'), ('Brand_Adidas', 'Size_Count'), ('Brand_Adidas', 'Size_STD'), ('Brand_Adidas', 'Size_VAR'), ('Brand_Adidas', 'Style_Price_mean'), ('Brand_Adidas', 'Style_Count'), ('Brand_Adidas', 'Style_STD'), ('Brand_Adidas', 'Style_VAR'), ('Brand_Adidas', 'Color_Price_mean'), ('Brand_Adidas', 'Color_Count'), ('Brand_Adidas', 'Color_STD'), ('Brand_Adidas', 'Color_VAR'), ('Brand_Adidas', 'Laptop Compartment'), ('Brand_Adidas', 'Waterproof'), ('Brand_Adidas', 'Laptop Compartment_Missing'), ('Brand_Adidas', 'Waterproof_Missing'), ('Brand_Adidas', 'Weight Capacity (kg)_Missing'), ('Brand_Inconnu', 'Material_Canvas'), ('Brand_Inconnu', 'Material_Inconnu'), ('Brand_Inconnu', 'Material_Leather'), ('Brand_Inconnu', 'Material_Nylon'), ('Brand_Inconnu', 'Material_Polyester'), ('Brand_Inconnu', 'Size_Inconnu'), ('Brand_Inconnu', 'Size_Large'), ('Brand_Inconnu', 'Size_Medium'), ('Brand_Inconnu', 'Size_Small'), ('Brand_Inconnu', 'Style_Backpack'), ('Brand_Inconnu', 'Style_Inconnu'), ('Brand_Inconnu', 'Style_Messenger'), ('Brand_Inconnu', 'Style_Tote'), ('Brand_Inconnu', 'Color_Black'), ('Brand_Inconnu', 'Color_Blue'), ('Brand_Inconnu', 'Color_Gray'), ('Brand_Inconnu', 'Color_Green'), ('Brand_Inconnu', 'Color_Inconnu'), ('Brand_Inconnu', 'Color_Pink'), ('Brand_Inconnu', 'Color_Red'), ('Brand_Inconnu', 'Compartments'), ('Brand_Inconnu', 'Weight Capacity (kg)'), ('Brand_Inconnu', 'Material_Price_mean'), ('Brand_Inconnu', 'Material_Count'), ('Brand_Inconnu', 'Material_STD'), ('Brand_Inconnu', 'Material_VAR'), ('Brand_Inconnu', 'Size_Price_mean'), ('Brand_Inconnu', 'Size_Count'), ('Brand_Inconnu', 'Size_STD'), ('Brand_Inconnu', 'Size_VAR'), ('Brand_Inconnu', 'Style_Price_mean'), ('Brand_Inconnu', 'Style_Count'), ('Brand_Inconnu', 'Style_STD'), ('Brand_Inconnu', 'Style_VAR'), ('Brand_Inconnu', 'Color_Price_mean'), ('Brand_Inconnu', 'Color_Count'), ('Brand_Inconnu', 'Color_STD'), ('Brand_Inconnu', 'Color_VAR'), ('Brand_Inconnu', 'Laptop Compartment'), ('Brand_Inconnu', 'Waterproof'), ('Brand_Inconnu', 'Laptop Compartment_Missing'), ('Brand_Inconnu', 'Waterproof_Missing'), ('Brand_Inconnu', 'Weight Capacity (kg)_Missing'), ('Brand_Jansport', 'Material_Canvas'), ('Brand_Jansport', 'Material_Inconnu'), ('Brand_Jansport', 'Material_Leather'), ('Brand_Jansport', 'Material_Nylon'), ('Brand_Jansport', 'Material_Polyester'), ('Brand_Jansport', 'Size_Inconnu'), ('Brand_Jansport', 'Size_Large'), ('Brand_Jansport', 'Size_Medium'), ('Brand_Jansport', 'Size_Small'), ('Brand_Jansport', 'Style_Backpack'), ('Brand_Jansport', 'Style_Inconnu'), ('Brand_Jansport', 'Style_Messenger'), ('Brand_Jansport', 'Style_Tote'), ('Brand_Jansport', 'Color_Black'), ('Brand_Jansport', 'Color_Blue'), ('Brand_Jansport', 'Color_Gray'), ('Brand_Jansport', 'Color_Green'), ('Brand_Jansport', 'Color_Inconnu'), ('Brand_Jansport', 'Color_Pink'), ('Brand_Jansport', 'Color_Red'), ('Brand_Jansport', 'Compartments'), ('Brand_Jansport', 'Weight Capacity (kg)'), ('Brand_Jansport', 'Material_Price_mean'), ('Brand_Jansport', 'Material_Count'), ('Brand_Jansport', 'Material_STD'), ('Brand_Jansport', 'Material_VAR'), ('Brand_Jansport', 'Size_Price_mean'), ('Brand_Jansport', 'Size_Count'), ('Brand_Jansport', 'Size_STD'), ('Brand_Jansport', 'Size_VAR'), ('Brand_Jansport', 'Style_Price_mean'), ('Brand_Jansport', 'Style_Count'), ('Brand_Jansport', 'Style_STD'), ('Brand_Jansport', 'Style_VAR'), ('Brand_Jansport', 'Color_Price_mean'), ('Brand_Jansport', 'Color_Count'), ('Brand_Jansport', 'Color_STD'), ('Brand_Jansport', 'Color_VAR'), ('Brand_Jansport', 'Laptop Compartment'), ('Brand_Jansport', 'Waterproof'), ('Brand_Jansport', 'Laptop Compartment_Missing'), ('Brand_Jansport', 'Waterproof_Missing'), ('Brand_Jansport', 'Weight Capacity (kg)_Missing'), ('Brand_Nike', 'Material_Canvas'), ('Brand_Nike', 'Material_Inconnu'), ('Brand_Nike', 'Material_Leather'), ('Brand_Nike', 'Material_Nylon'), ('Brand_Nike', 'Material_Polyester'), ('Brand_Nike', 'Size_Inconnu'), ('Brand_Nike', 'Size_Large'), ('Brand_Nike', 'Size_Medium'), ('Brand_Nike', 'Size_Small'), ('Brand_Nike', 'Style_Backpack'), ('Brand_Nike', 'Style_Inconnu'), ('Brand_Nike', 'Style_Messenger'), ('Brand_Nike', 'Style_Tote'), ('Brand_Nike', 'Color_Black'), ('Brand_Nike', 'Color_Blue'), ('Brand_Nike', 'Color_Gray'), ('Brand_Nike', 'Color_Green'), ('Brand_Nike', 'Color_Inconnu'), ('Brand_Nike', 'Color_Pink'), ('Brand_Nike', 'Color_Red'), ('Brand_Nike', 'Compartments'), ('Brand_Nike', 'Weight Capacity (kg)'), ('Brand_Nike', 'Material_Price_mean'), ('Brand_Nike', 'Material_Count'), ('Brand_Nike', 'Material_STD'), ('Brand_Nike', 'Material_VAR'), ('Brand_Nike', 'Size_Price_mean'), ('Brand_Nike', 'Size_Count'), ('Brand_Nike', 'Size_STD'), ('Brand_Nike', 'Size_VAR'), ('Brand_Nike', 'Style_Price_mean'), ('Brand_Nike', 'Style_Count'), ('Brand_Nike', 'Style_STD'), ('Brand_Nike', 'Style_VAR'), ('Brand_Nike', 'Color_Price_mean'), ('Brand_Nike', 'Color_Count'), ('Brand_Nike', 'Color_STD'), ('Brand_Nike', 'Color_VAR'), ('Brand_Nike', 'Laptop Compartment'), ('Brand_Nike', 'Waterproof'), ('Brand_Nike', 'Laptop Compartment_Missing'), ('Brand_Nike', 'Waterproof_Missing'), ('Brand_Nike', 'Weight Capacity (kg)_Missing'), ('Brand_Puma', 'Material_Canvas'), ('Brand_Puma', 'Material_Inconnu'), ('Brand_Puma', 'Material_Leather'), ('Brand_Puma', 'Material_Nylon'), ('Brand_Puma', 'Material_Polyester'), ('Brand_Puma', 'Size_Inconnu'), ('Brand_Puma', 'Size_Large'), ('Brand_Puma', 'Size_Medium'), ('Brand_Puma', 'Size_Small'), ('Brand_Puma', 'Style_Backpack'), ('Brand_Puma', 'Style_Inconnu'), ('Brand_Puma', 'Style_Messenger'), ('Brand_Puma', 'Style_Tote'), ('Brand_Puma', 'Color_Black'), ('Brand_Puma', 'Color_Blue'), ('Brand_Puma', 'Color_Gray'), ('Brand_Puma', 'Color_Green'), ('Brand_Puma', 'Color_Inconnu'), ('Brand_Puma', 'Color_Pink'), ('Brand_Puma', 'Color_Red'), ('Brand_Puma', 'Compartments'), ('Brand_Puma', 'Weight Capacity (kg)'), ('Brand_Puma', 'Material_Price_mean'), ('Brand_Puma', 'Material_Count'), ('Brand_Puma', 'Material_STD'), ('Brand_Puma', 'Material_VAR'), ('Brand_Puma', 'Size_Price_mean'), ('Brand_Puma', 'Size_Count'), ('Brand_Puma', 'Size_STD'), ('Brand_Puma', 'Size_VAR'), ('Brand_Puma', 'Style_Price_mean'), ('Brand_Puma', 'Style_Count'), ('Brand_Puma', 'Style_STD'), ('Brand_Puma', 'Style_VAR'), ('Brand_Puma', 'Color_Price_mean'), ('Brand_Puma', 'Color_Count'), ('Brand_Puma', 'Color_STD'), ('Brand_Puma', 'Color_VAR'), ('Brand_Puma', 'Laptop Compartment'), ('Brand_Puma', 'Waterproof'), ('Brand_Puma', 'Laptop Compartment_Missing'), ('Brand_Puma', 'Waterproof_Missing'), ('Brand_Puma', 'Weight Capacity (kg)_Missing'), ('Brand_Under Armour', 'Material_Canvas'), ('Brand_Under Armour', 'Material_Inconnu'), ('Brand_Under Armour', 'Material_Leather'), ('Brand_Under Armour', 'Material_Nylon'), ('Brand_Under Armour', 'Material_Polyester'), ('Brand_Under Armour', 'Size_Inconnu'), ('Brand_Under Armour', 'Size_Large'), ('Brand_Under Armour', 'Size_Medium'), ('Brand_Under Armour', 'Size_Small'), ('Brand_Under Armour', 'Style_Backpack'), ('Brand_Under Armour', 'Style_Inconnu'), ('Brand_Under Armour', 'Style_Messenger'), ('Brand_Under Armour', 'Style_Tote'), ('Brand_Under Armour', 'Color_Black'), ('Brand_Under Armour', 'Color_Blue'), ('Brand_Under Armour', 'Color_Gray'), ('Brand_Under Armour', 'Color_Green'), ('Brand_Under Armour', 'Color_Inconnu'), ('Brand_Under Armour', 'Color_Pink'), ('Brand_Under Armour', 'Color_Red'), ('Brand_Under Armour', 'Compartments'), ('Brand_Under Armour', 'Weight Capacity (kg)'), ('Brand_Under Armour', 'Material_Price_mean'), ('Brand_Under Armour', 'Material_Count'), ('Brand_Under Armour', 'Material_STD'), ('Brand_Under Armour', 'Material_VAR'), ('Brand_Under Armour', 'Size_Price_mean'), ('Brand_Under Armour', 'Size_Count'), ('Brand_Under Armour', 'Size_STD'), ('Brand_Under Armour', 'Size_VAR'), ('Brand_Under Armour', 'Style_Price_mean'), ('Brand_Under Armour', 'Style_Count'), ('Brand_Under Armour', 'Style_STD'), ('Brand_Under Armour', 'Style_VAR'), ('Brand_Under Armour', 'Color_Price_mean'), ('Brand_Under Armour', 'Color_Count'), ('Brand_Under Armour', 'Color_STD'), ('Brand_Under Armour', 'Color_VAR'), ('Brand_Under Armour', 'Laptop Compartment'), ('Brand_Under Armour', 'Waterproof'), ('Brand_Under Armour', 'Laptop Compartment_Missing'), ('Brand_Under Armour', 'Waterproof_Missing'), ('Brand_Under Armour', 'Weight Capacity (kg)_Missing'), ('Material_Canvas', 'Size_Inconnu'), ('Material_Canvas', 'Size_Large'), ('Material_Canvas', 'Size_Medium'), ('Material_Canvas', 'Size_Small'), ('Material_Canvas', 'Style_Backpack'), ('Material_Canvas', 'Style_Inconnu'), ('Material_Canvas', 'Style_Messenger'), ('Material_Canvas', 'Style_Tote'), ('Material_Canvas', 'Color_Black'), ('Material_Canvas', 'Color_Blue'), ('Material_Canvas', 'Color_Gray'), ('Material_Canvas', 'Color_Green'), ('Material_Canvas', 'Color_Inconnu'), ('Material_Canvas', 'Color_Pink'), ('Material_Canvas', 'Color_Red'), ('Material_Canvas', 'Compartments'), ('Material_Canvas', 'Weight Capacity (kg)'), ('Material_Canvas', 'Brand_Price_mean'), ('Material_Canvas', 'Brand_Count'), ('Material_Canvas', 'Brand_STD'), ('Material_Canvas', 'Brand_VAR'), ('Material_Canvas', 'Size_Price_mean'), ('Material_Canvas', 'Size_Count'), ('Material_Canvas', 'Size_STD'), ('Material_Canvas', 'Size_VAR'), ('Material_Canvas', 'Style_Price_mean'), ('Material_Canvas', 'Style_Count'), ('Material_Canvas', 'Style_STD'), ('Material_Canvas', 'Style_VAR'), ('Material_Canvas', 'Color_Price_mean'), ('Material_Canvas', 'Color_Count'), ('Material_Canvas', 'Color_STD'), ('Material_Canvas', 'Color_VAR'), ('Material_Canvas', 'Laptop Compartment'), ('Material_Canvas', 'Waterproof'), ('Material_Canvas', 'Laptop Compartment_Missing'), ('Material_Canvas', 'Waterproof_Missing'), ('Material_Canvas', 'Weight Capacity (kg)_Missing'), ('Material_Inconnu', 'Size_Inconnu'), ('Material_Inconnu', 'Size_Large'), ('Material_Inconnu', 'Size_Medium'), ('Material_Inconnu', 'Size_Small'), ('Material_Inconnu', 'Style_Backpack'), ('Material_Inconnu', 'Style_Inconnu'), ('Material_Inconnu', 'Style_Messenger'), ('Material_Inconnu', 'Style_Tote'), ('Material_Inconnu', 'Color_Black'), ('Material_Inconnu', 'Color_Blue'), ('Material_Inconnu', 'Color_Gray'), ('Material_Inconnu', 'Color_Green'), ('Material_Inconnu', 'Color_Inconnu'), ('Material_Inconnu', 'Color_Pink'), ('Material_Inconnu', 'Color_Red'), ('Material_Inconnu', 'Compartments'), ('Material_Inconnu', 'Weight Capacity (kg)'), ('Material_Inconnu', 'Brand_Price_mean'), ('Material_Inconnu', 'Brand_Count'), ('Material_Inconnu', 'Brand_STD'), ('Material_Inconnu', 'Brand_VAR'), ('Material_Inconnu', 'Size_Price_mean'), ('Material_Inconnu', 'Size_Count'), ('Material_Inconnu', 'Size_STD'), ('Material_Inconnu', 'Size_VAR'), ('Material_Inconnu', 'Style_Price_mean'), ('Material_Inconnu', 'Style_Count'), ('Material_Inconnu', 'Style_STD'), ('Material_Inconnu', 'Style_VAR'), ('Material_Inconnu', 'Color_Price_mean'), ('Material_Inconnu', 'Color_Count'), ('Material_Inconnu', 'Color_STD'), ('Material_Inconnu', 'Color_VAR'), ('Material_Inconnu', 'Laptop Compartment'), ('Material_Inconnu', 'Waterproof'), ('Material_Inconnu', 'Laptop Compartment_Missing'), ('Material_Inconnu', 'Waterproof_Missing'), ('Material_Inconnu', 'Weight Capacity (kg)_Missing'), ('Material_Leather', 'Size_Inconnu'), ('Material_Leather', 'Size_Large'), ('Material_Leather', 'Size_Medium'), ('Material_Leather', 'Size_Small'), ('Material_Leather', 'Style_Backpack'), ('Material_Leather', 'Style_Inconnu'), ('Material_Leather', 'Style_Messenger'), ('Material_Leather', 'Style_Tote'), ('Material_Leather', 'Color_Black'), ('Material_Leather', 'Color_Blue'), ('Material_Leather', 'Color_Gray'), ('Material_Leather', 'Color_Green'), ('Material_Leather', 'Color_Inconnu'), ('Material_Leather', 'Color_Pink'), ('Material_Leather', 'Color_Red'), ('Material_Leather', 'Compartments'), ('Material_Leather', 'Weight Capacity (kg)'), ('Material_Leather', 'Brand_Price_mean'), ('Material_Leather', 'Brand_Count'), ('Material_Leather', 'Brand_STD'), ('Material_Leather', 'Brand_VAR'), ('Material_Leather', 'Size_Price_mean'), ('Material_Leather', 'Size_Count'), ('Material_Leather', 'Size_STD'), ('Material_Leather', 'Size_VAR'), ('Material_Leather', 'Style_Price_mean'), ('Material_Leather', 'Style_Count'), ('Material_Leather', 'Style_STD'), ('Material_Leather', 'Style_VAR'), ('Material_Leather', 'Color_Price_mean'), ('Material_Leather', 'Color_Count'), ('Material_Leather', 'Color_STD'), ('Material_Leather', 'Color_VAR'), ('Material_Leather', 'Laptop Compartment'), ('Material_Leather', 'Waterproof'), ('Material_Leather', 'Laptop Compartment_Missing'), ('Material_Leather', 'Waterproof_Missing'), ('Material_Leather', 'Weight Capacity (kg)_Missing'), ('Material_Nylon', 'Size_Inconnu'), ('Material_Nylon', 'Size_Large'), ('Material_Nylon', 'Size_Medium'), ('Material_Nylon', 'Size_Small'), ('Material_Nylon', 'Style_Backpack'), ('Material_Nylon', 'Style_Inconnu'), ('Material_Nylon', 'Style_Messenger'), ('Material_Nylon', 'Style_Tote'), ('Material_Nylon', 'Color_Black'), ('Material_Nylon', 'Color_Blue'), ('Material_Nylon', 'Color_Gray'), ('Material_Nylon', 'Color_Green'), ('Material_Nylon', 'Color_Inconnu'), ('Material_Nylon', 'Color_Pink'), ('Material_Nylon', 'Color_Red'), ('Material_Nylon', 'Compartments'), ('Material_Nylon', 'Weight Capacity (kg)'), ('Material_Nylon', 'Brand_Price_mean'), ('Material_Nylon', 'Brand_Count'), ('Material_Nylon', 'Brand_STD'), ('Material_Nylon', 'Brand_VAR'), ('Material_Nylon', 'Size_Price_mean'), ('Material_Nylon', 'Size_Count'), ('Material_Nylon', 'Size_STD'), ('Material_Nylon', 'Size_VAR'), ('Material_Nylon', 'Style_Price_mean'), ('Material_Nylon', 'Style_Count'), ('Material_Nylon', 'Style_STD'), ('Material_Nylon', 'Style_VAR'), ('Material_Nylon', 'Color_Price_mean'), ('Material_Nylon', 'Color_Count'), ('Material_Nylon', 'Color_STD'), ('Material_Nylon', 'Color_VAR'), ('Material_Nylon', 'Laptop Compartment'), ('Material_Nylon', 'Waterproof'), ('Material_Nylon', 'Laptop Compartment_Missing'), ('Material_Nylon', 'Waterproof_Missing'), ('Material_Nylon', 'Weight Capacity (kg)_Missing'), ('Material_Polyester', 'Size_Inconnu'), ('Material_Polyester', 'Size_Large'), ('Material_Polyester', 'Size_Medium'), ('Material_Polyester', 'Size_Small'), ('Material_Polyester', 'Style_Backpack'), ('Material_Polyester', 'Style_Inconnu'), ('Material_Polyester', 'Style_Messenger'), ('Material_Polyester', 'Style_Tote'), ('Material_Polyester', 'Color_Black'), ('Material_Polyester', 'Color_Blue'), ('Material_Polyester', 'Color_Gray'), ('Material_Polyester', 'Color_Green'), ('Material_Polyester', 'Color_Inconnu'), ('Material_Polyester', 'Color_Pink'), ('Material_Polyester', 'Color_Red'), ('Material_Polyester', 'Compartments'), ('Material_Polyester', 'Weight Capacity (kg)'), ('Material_Polyester', 'Brand_Price_mean'), ('Material_Polyester', 'Brand_Count'), ('Material_Polyester', 'Brand_STD'), ('Material_Polyester', 'Brand_VAR'), ('Material_Polyester', 'Size_Price_mean'), ('Material_Polyester', 'Size_Count'), ('Material_Polyester', 'Size_STD'), ('Material_Polyester', 'Size_VAR'), ('Material_Polyester', 'Style_Price_mean'), ('Material_Polyester', 'Style_Count'), ('Material_Polyester', 'Style_STD'), ('Material_Polyester', 'Style_VAR'), ('Material_Polyester', 'Color_Price_mean'), ('Material_Polyester', 'Color_Count'), ('Material_Polyester', 'Color_STD'), ('Material_Polyester', 'Color_VAR'), ('Material_Polyester', 'Laptop Compartment'), ('Material_Polyester', 'Waterproof'), ('Material_Polyester', 'Laptop Compartment_Missing'), ('Material_Polyester', 'Waterproof_Missing'), ('Material_Polyester', 'Weight Capacity (kg)_Missing'), ('Size_Inconnu', 'Style_Backpack'), ('Size_Inconnu', 'Style_Inconnu'), ('Size_Inconnu', 'Style_Messenger'), ('Size_Inconnu', 'Style_Tote'), ('Size_Inconnu', 'Color_Black'), ('Size_Inconnu', 'Color_Blue'), ('Size_Inconnu', 'Color_Gray'), ('Size_Inconnu', 'Color_Green'), ('Size_Inconnu', 'Color_Inconnu'), ('Size_Inconnu', 'Color_Pink'), ('Size_Inconnu', 'Color_Red'), ('Size_Inconnu', 'Compartments'), ('Size_Inconnu', 'Weight Capacity (kg)'), ('Size_Inconnu', 'Brand_Price_mean'), ('Size_Inconnu', 'Brand_Count'), ('Size_Inconnu', 'Brand_STD'), ('Size_Inconnu', 'Brand_VAR'), ('Size_Inconnu', 'Material_Price_mean'), ('Size_Inconnu', 'Material_Count'), ('Size_Inconnu', 'Material_STD'), ('Size_Inconnu', 'Material_VAR'), ('Size_Inconnu', 'Style_Price_mean'), ('Size_Inconnu', 'Style_Count'), ('Size_Inconnu', 'Style_STD'), ('Size_Inconnu', 'Style_VAR'), ('Size_Inconnu', 'Color_Price_mean'), ('Size_Inconnu', 'Color_Count'), ('Size_Inconnu', 'Color_STD'), ('Size_Inconnu', 'Color_VAR'), ('Size_Inconnu', 'Laptop Compartment'), ('Size_Inconnu', 'Waterproof'), ('Size_Inconnu', 'Laptop Compartment_Missing'), ('Size_Inconnu', 'Waterproof_Missing'), ('Size_Inconnu', 'Weight Capacity (kg)_Missing'), ('Size_Large', 'Style_Backpack'), ('Size_Large', 'Style_Inconnu'), ('Size_Large', 'Style_Messenger'), ('Size_Large', 'Style_Tote'), ('Size_Large', 'Color_Black'), ('Size_Large', 'Color_Blue'), ('Size_Large', 'Color_Gray'), ('Size_Large', 'Color_Green'), ('Size_Large', 'Color_Inconnu'), ('Size_Large', 'Color_Pink'), ('Size_Large', 'Color_Red'), ('Size_Large', 'Compartments'), ('Size_Large', 'Weight Capacity (kg)'), ('Size_Large', 'Brand_Price_mean'), ('Size_Large', 'Brand_Count'), ('Size_Large', 'Brand_STD'), ('Size_Large', 'Brand_VAR'), ('Size_Large', 'Material_Price_mean'), ('Size_Large', 'Material_Count'), ('Size_Large', 'Material_STD'), ('Size_Large', 'Material_VAR'), ('Size_Large', 'Style_Price_mean'), ('Size_Large', 'Style_Count'), ('Size_Large', 'Style_STD'), ('Size_Large', 'Style_VAR'), ('Size_Large', 'Color_Price_mean'), ('Size_Large', 'Color_Count'), ('Size_Large', 'Color_STD'), ('Size_Large', 'Color_VAR'), ('Size_Large', 'Laptop Compartment'), ('Size_Large', 'Waterproof'), ('Size_Large', 'Laptop Compartment_Missing'), ('Size_Large', 'Waterproof_Missing'), ('Size_Large', 'Weight Capacity (kg)_Missing'), ('Size_Medium', 'Style_Backpack'), ('Size_Medium', 'Style_Inconnu'), ('Size_Medium', 'Style_Messenger'), ('Size_Medium', 'Style_Tote'), ('Size_Medium', 'Color_Black'), ('Size_Medium', 'Color_Blue'), ('Size_Medium', 'Color_Gray'), ('Size_Medium', 'Color_Green'), ('Size_Medium', 'Color_Inconnu'), ('Size_Medium', 'Color_Pink'), ('Size_Medium', 'Color_Red'), ('Size_Medium', 'Compartments'), ('Size_Medium', 'Weight Capacity (kg)'), ('Size_Medium', 'Brand_Price_mean'), ('Size_Medium', 'Brand_Count'), ('Size_Medium', 'Brand_STD'), ('Size_Medium', 'Brand_VAR'), ('Size_Medium', 'Material_Price_mean'), ('Size_Medium', 'Material_Count'), ('Size_Medium', 'Material_STD'), ('Size_Medium', 'Material_VAR'), ('Size_Medium', 'Style_Price_mean'), ('Size_Medium', 'Style_Count'), ('Size_Medium', 'Style_STD'), ('Size_Medium', 'Style_VAR'), ('Size_Medium', 'Color_Price_mean'), ('Size_Medium', 'Color_Count'), ('Size_Medium', 'Color_STD'), ('Size_Medium', 'Color_VAR'), ('Size_Medium', 'Laptop Compartment'), ('Size_Medium', 'Waterproof'), ('Size_Medium', 'Laptop Compartment_Missing'), ('Size_Medium', 'Waterproof_Missing'), ('Size_Medium', 'Weight Capacity (kg)_Missing'), ('Size_Small', 'Style_Backpack'), ('Size_Small', 'Style_Inconnu'), ('Size_Small', 'Style_Messenger'), ('Size_Small', 'Style_Tote'), ('Size_Small', 'Color_Black'), ('Size_Small', 'Color_Blue'), ('Size_Small', 'Color_Gray'), ('Size_Small', 'Color_Green'), ('Size_Small', 'Color_Inconnu'), ('Size_Small', 'Color_Pink'), ('Size_Small', 'Color_Red'), ('Size_Small', 'Compartments'), ('Size_Small', 'Weight Capacity (kg)'), ('Size_Small', 'Brand_Price_mean'), ('Size_Small', 'Brand_Count'), ('Size_Small', 'Brand_STD'), ('Size_Small', 'Brand_VAR'), ('Size_Small', 'Material_Price_mean'), ('Size_Small', 'Material_Count'), ('Size_Small', 'Material_STD'), ('Size_Small', 'Material_VAR'), ('Size_Small', 'Style_Price_mean'), ('Size_Small', 'Style_Count'), ('Size_Small', 'Style_STD'), ('Size_Small', 'Style_VAR'), ('Size_Small', 'Color_Price_mean'), ('Size_Small', 'Color_Count'), ('Size_Small', 'Color_STD'), ('Size_Small', 'Color_VAR'), ('Size_Small', 'Laptop Compartment'), ('Size_Small', 'Waterproof'), ('Size_Small', 'Laptop Compartment_Missing'), ('Size_Small', 'Waterproof_Missing'), ('Size_Small', 'Weight Capacity (kg)_Missing'), ('Style_Backpack', 'Color_Black'), ('Style_Backpack', 'Color_Blue'), ('Style_Backpack', 'Color_Gray'), ('Style_Backpack', 'Color_Green'), ('Style_Backpack', 'Color_Inconnu'), ('Style_Backpack', 'Color_Pink'), ('Style_Backpack', 'Color_Red'), ('Style_Backpack', 'Compartments'), ('Style_Backpack', 'Weight Capacity (kg)'), ('Style_Backpack', 'Brand_Price_mean'), ('Style_Backpack', 'Brand_Count'), ('Style_Backpack', 'Brand_STD'), ('Style_Backpack', 'Brand_VAR'), ('Style_Backpack', 'Material_Price_mean'), ('Style_Backpack', 'Material_Count'), ('Style_Backpack', 'Material_STD'), ('Style_Backpack', 'Material_VAR'), ('Style_Backpack', 'Size_Price_mean'), ('Style_Backpack', 'Size_Count'), ('Style_Backpack', 'Size_STD'), ('Style_Backpack', 'Size_VAR'), ('Style_Backpack', 'Color_Price_mean'), ('Style_Backpack', 'Color_Count'), ('Style_Backpack', 'Color_STD'), ('Style_Backpack', 'Color_VAR'), ('Style_Backpack', 'Laptop Compartment'), ('Style_Backpack', 'Waterproof'), ('Style_Backpack', 'Laptop Compartment_Missing'), ('Style_Backpack', 'Waterproof_Missing'), ('Style_Backpack', 'Weight Capacity (kg)_Missing'), ('Style_Inconnu', 'Color_Black'), ('Style_Inconnu', 'Color_Blue'), ('Style_Inconnu', 'Color_Gray'), ('Style_Inconnu', 'Color_Green'), ('Style_Inconnu', 'Color_Inconnu'), ('Style_Inconnu', 'Color_Pink'), ('Style_Inconnu', 'Color_Red'), ('Style_Inconnu', 'Compartments'), ('Style_Inconnu', 'Weight Capacity (kg)'), ('Style_Inconnu', 'Brand_Price_mean'), ('Style_Inconnu', 'Brand_Count'), ('Style_Inconnu', 'Brand_STD'), ('Style_Inconnu', 'Brand_VAR'), ('Style_Inconnu', 'Material_Price_mean'), ('Style_Inconnu', 'Material_Count'), ('Style_Inconnu', 'Material_STD'), ('Style_Inconnu', 'Material_VAR'), ('Style_Inconnu', 'Size_Price_mean'), ('Style_Inconnu', 'Size_Count'), ('Style_Inconnu', 'Size_STD'), ('Style_Inconnu', 'Size_VAR'), ('Style_Inconnu', 'Color_Price_mean'), ('Style_Inconnu', 'Color_Count'), ('Style_Inconnu', 'Color_STD'), ('Style_Inconnu', 'Color_VAR'), ('Style_Inconnu', 'Laptop Compartment'), ('Style_Inconnu', 'Waterproof'), ('Style_Inconnu', 'Laptop Compartment_Missing'), ('Style_Inconnu', 'Waterproof_Missing'), ('Style_Inconnu', 'Weight Capacity (kg)_Missing'), ('Style_Messenger', 'Color_Black'), ('Style_Messenger', 'Color_Blue'), ('Style_Messenger', 'Color_Gray'), ('Style_Messenger', 'Color_Green'), ('Style_Messenger', 'Color_Inconnu'), ('Style_Messenger', 'Color_Pink'), ('Style_Messenger', 'Color_Red'), ('Style_Messenger', 'Compartments'), ('Style_Messenger', 'Weight Capacity (kg)'), ('Style_Messenger', 'Brand_Price_mean'), ('Style_Messenger', 'Brand_Count'), ('Style_Messenger', 'Brand_STD'), ('Style_Messenger', 'Brand_VAR'), ('Style_Messenger', 'Material_Price_mean'), ('Style_Messenger', 'Material_Count'), ('Style_Messenger', 'Material_STD'), ('Style_Messenger', 'Material_VAR'), ('Style_Messenger', 'Size_Price_mean'), ('Style_Messenger', 'Size_Count'), ('Style_Messenger', 'Size_STD'), ('Style_Messenger', 'Size_VAR'), ('Style_Messenger', 'Color_Price_mean'), ('Style_Messenger', 'Color_Count'), ('Style_Messenger', 'Color_STD'), ('Style_Messenger', 'Color_VAR'), ('Style_Messenger', 'Laptop Compartment'), ('Style_Messenger', 'Waterproof'), ('Style_Messenger', 'Laptop Compartment_Missing'), ('Style_Messenger', 'Waterproof_Missing'), ('Style_Messenger', 'Weight Capacity (kg)_Missing'), ('Style_Tote', 'Color_Black'), ('Style_Tote', 'Color_Blue'), ('Style_Tote', 'Color_Gray'), ('Style_Tote', 'Color_Green'), ('Style_Tote', 'Color_Inconnu'), ('Style_Tote', 'Color_Pink'), ('Style_Tote', 'Color_Red'), ('Style_Tote', 'Compartments'), ('Style_Tote', 'Weight Capacity (kg)'), ('Style_Tote', 'Brand_Price_mean'), ('Style_Tote', 'Brand_Count'), ('Style_Tote', 'Brand_STD'), ('Style_Tote', 'Brand_VAR'), ('Style_Tote', 'Material_Price_mean'), ('Style_Tote', 'Material_Count'), ('Style_Tote', 'Material_STD'), ('Style_Tote', 'Material_VAR'), ('Style_Tote', 'Size_Price_mean'), ('Style_Tote', 'Size_Count'), ('Style_Tote', 'Size_STD'), ('Style_Tote', 'Size_VAR'), ('Style_Tote', 'Color_Price_mean'), ('Style_Tote', 'Color_Count'), ('Style_Tote', 'Color_STD'), ('Style_Tote', 'Color_VAR'), ('Style_Tote', 'Laptop Compartment'), ('Style_Tote', 'Waterproof'), ('Style_Tote', 'Laptop Compartment_Missing'), ('Style_Tote', 'Waterproof_Missing'), ('Style_Tote', 'Weight Capacity (kg)_Missing'), ('Color_Black', 'Compartments'), ('Color_Black', 'Weight Capacity (kg)'), ('Color_Black', 'Brand_Price_mean'), ('Color_Black', 'Brand_Count'), ('Color_Black', 'Brand_STD'), ('Color_Black', 'Brand_VAR'), ('Color_Black', 'Material_Price_mean'), ('Color_Black', 'Material_Count'), ('Color_Black', 'Material_STD'), ('Color_Black', 'Material_VAR'), ('Color_Black', 'Size_Price_mean'), ('Color_Black', 'Size_Count'), ('Color_Black', 'Size_STD'), ('Color_Black', 'Size_VAR'), ('Color_Black', 'Style_Price_mean'), ('Color_Black', 'Style_Count'), ('Color_Black', 'Style_STD'), ('Color_Black', 'Style_VAR'), ('Color_Black', 'Laptop Compartment'), ('Color_Black', 'Waterproof'), ('Color_Black', 'Laptop Compartment_Missing'), ('Color_Black', 'Waterproof_Missing'), ('Color_Black', 'Weight Capacity (kg)_Missing'), ('Color_Blue', 'Compartments'), ('Color_Blue', 'Weight Capacity (kg)'), ('Color_Blue', 'Brand_Price_mean'), ('Color_Blue', 'Brand_Count'), ('Color_Blue', 'Brand_STD'), ('Color_Blue', 'Brand_VAR'), ('Color_Blue', 'Material_Price_mean'), ('Color_Blue', 'Material_Count'), ('Color_Blue', 'Material_STD'), ('Color_Blue', 'Material_VAR'), ('Color_Blue', 'Size_Price_mean'), ('Color_Blue', 'Size_Count'), ('Color_Blue', 'Size_STD'), ('Color_Blue', 'Size_VAR'), ('Color_Blue', 'Style_Price_mean'), ('Color_Blue', 'Style_Count'), ('Color_Blue', 'Style_STD'), ('Color_Blue', 'Style_VAR'), ('Color_Blue', 'Laptop Compartment'), ('Color_Blue', 'Waterproof'), ('Color_Blue', 'Laptop Compartment_Missing'), ('Color_Blue', 'Waterproof_Missing'), ('Color_Blue', 'Weight Capacity (kg)_Missing'), ('Color_Gray', 'Compartments'), ('Color_Gray', 'Weight Capacity (kg)'), ('Color_Gray', 'Brand_Price_mean'), ('Color_Gray', 'Brand_Count'), ('Color_Gray', 'Brand_STD'), ('Color_Gray', 'Brand_VAR'), ('Color_Gray', 'Material_Price_mean'), ('Color_Gray', 'Material_Count'), ('Color_Gray', 'Material_STD'), ('Color_Gray', 'Material_VAR'), ('Color_Gray', 'Size_Price_mean'), ('Color_Gray', 'Size_Count'), ('Color_Gray', 'Size_STD'), ('Color_Gray', 'Size_VAR'), ('Color_Gray', 'Style_Price_mean'), ('Color_Gray', 'Style_Count'), ('Color_Gray', 'Style_STD'), ('Color_Gray', 'Style_VAR'), ('Color_Gray', 'Laptop Compartment'), ('Color_Gray', 'Waterproof'), ('Color_Gray', 'Laptop Compartment_Missing'), ('Color_Gray', 'Waterproof_Missing'), ('Color_Gray', 'Weight Capacity (kg)_Missing'), ('Color_Green', 'Compartments'), ('Color_Green', 'Weight Capacity (kg)'), ('Color_Green', 'Brand_Price_mean'), ('Color_Green', 'Brand_Count'), ('Color_Green', 'Brand_STD'), ('Color_Green', 'Brand_VAR'), ('Color_Green', 'Material_Price_mean'), ('Color_Green', 'Material_Count'), ('Color_Green', 'Material_STD'), ('Color_Green', 'Material_VAR'), ('Color_Green', 'Size_Price_mean'), ('Color_Green', 'Size_Count'), ('Color_Green', 'Size_STD'), ('Color_Green', 'Size_VAR'), ('Color_Green', 'Style_Price_mean'), ('Color_Green', 'Style_Count'), ('Color_Green', 'Style_STD'), ('Color_Green', 'Style_VAR'), ('Color_Green', 'Laptop Compartment'), ('Color_Green', 'Waterproof'), ('Color_Green', 'Laptop Compartment_Missing'), ('Color_Green', 'Waterproof_Missing'), ('Color_Green', 'Weight Capacity (kg)_Missing'), ('Color_Inconnu', 'Compartments'), ('Color_Inconnu', 'Weight Capacity (kg)'), ('Color_Inconnu', 'Brand_Price_mean'), ('Color_Inconnu', 'Brand_Count'), ('Color_Inconnu', 'Brand_STD'), ('Color_Inconnu', 'Brand_VAR'), ('Color_Inconnu', 'Material_Price_mean'), ('Color_Inconnu', 'Material_Count'), ('Color_Inconnu', 'Material_STD'), ('Color_Inconnu', 'Material_VAR'), ('Color_Inconnu', 'Size_Price_mean'), ('Color_Inconnu', 'Size_Count'), ('Color_Inconnu', 'Size_STD'), ('Color_Inconnu', 'Size_VAR'), ('Color_Inconnu', 'Style_Price_mean'), ('Color_Inconnu', 'Style_Count'), ('Color_Inconnu', 'Style_STD'), ('Color_Inconnu', 'Style_VAR'), ('Color_Inconnu', 'Laptop Compartment'), ('Color_Inconnu', 'Waterproof'), ('Color_Inconnu', 'Laptop Compartment_Missing'), ('Color_Inconnu', 'Waterproof_Missing'), ('Color_Inconnu', 'Weight Capacity (kg)_Missing'), ('Color_Pink', 'Compartments'), ('Color_Pink', 'Weight Capacity (kg)'), ('Color_Pink', 'Brand_Price_mean'), ('Color_Pink', 'Brand_Count'), ('Color_Pink', 'Brand_STD'), ('Color_Pink', 'Brand_VAR'), ('Color_Pink', 'Material_Price_mean'), ('Color_Pink', 'Material_Count'), ('Color_Pink', 'Material_STD'), ('Color_Pink', 'Material_VAR'), ('Color_Pink', 'Size_Price_mean'), ('Color_Pink', 'Size_Count'), ('Color_Pink', 'Size_STD'), ('Color_Pink', 'Size_VAR'), ('Color_Pink', 'Style_Price_mean'), ('Color_Pink', 'Style_Count'), ('Color_Pink', 'Style_STD'), ('Color_Pink', 'Style_VAR'), ('Color_Pink', 'Laptop Compartment'), ('Color_Pink', 'Waterproof'), ('Color_Pink', 'Laptop Compartment_Missing'), ('Color_Pink', 'Waterproof_Missing'), ('Color_Pink', 'Weight Capacity (kg)_Missing'), ('Color_Red', 'Compartments'), ('Color_Red', 'Weight Capacity (kg)'), ('Color_Red', 'Brand_Price_mean'), ('Color_Red', 'Brand_Count'), ('Color_Red', 'Brand_STD'), ('Color_Red', 'Brand_VAR'), ('Color_Red', 'Material_Price_mean'), ('Color_Red', 'Material_Count'), ('Color_Red', 'Material_STD'), ('Color_Red', 'Material_VAR'), ('Color_Red', 'Size_Price_mean'), ('Color_Red', 'Size_Count'), ('Color_Red', 'Size_STD'), ('Color_Red', 'Size_VAR'), ('Color_Red', 'Style_Price_mean'), ('Color_Red', 'Style_Count'), ('Color_Red', 'Style_STD'), ('Color_Red', 'Style_VAR'), ('Color_Red', 'Laptop Compartment'), ('Color_Red', 'Waterproof'), ('Color_Red', 'Laptop Compartment_Missing'), ('Color_Red', 'Waterproof_Missing'), ('Color_Red', 'Weight Capacity (kg)_Missing'), ('Compartments', 'Weight Capacity (kg)'), ('Compartments', 'Brand_Price_mean'), ('Compartments', 'Brand_Count'), ('Compartments', 'Brand_STD'), ('Compartments', 'Brand_VAR'), ('Compartments', 'Material_Price_mean'), ('Compartments', 'Material_Count'), ('Compartments', 'Material_STD'), ('Compartments', 'Material_VAR'), ('Compartments', 'Size_Price_mean'), ('Compartments', 'Size_Count'), ('Compartments', 'Size_STD'), ('Compartments', 'Size_VAR'), ('Compartments', 'Style_Price_mean'), ('Compartments', 'Style_Count'), ('Compartments', 'Style_STD'), ('Compartments', 'Style_VAR'), ('Compartments', 'Color_Price_mean'), ('Compartments', 'Color_Count'), ('Compartments', 'Color_STD'), ('Compartments', 'Color_VAR'), ('Compartments', 'Laptop Compartment'), ('Compartments', 'Waterproof'), ('Compartments', 'Laptop Compartment_Missing'), ('Compartments', 'Waterproof_Missing'), ('Compartments', 'Weight Capacity (kg)_Missing'), ('Weight Capacity (kg)', 'Brand_Price_mean'), ('Weight Capacity (kg)', 'Brand_Count'), ('Weight Capacity (kg)', 'Brand_STD'), ('Weight Capacity (kg)', 'Brand_VAR'), ('Weight Capacity (kg)', 'Material_Price_mean'), ('Weight Capacity (kg)', 'Material_Count'), ('Weight Capacity (kg)', 'Material_STD'), ('Weight Capacity (kg)', 'Material_VAR'), ('Weight Capacity (kg)', 'Size_Price_mean'), ('Weight Capacity (kg)', 'Size_Count'), ('Weight Capacity (kg)', 'Size_STD'), ('Weight Capacity (kg)', 'Size_VAR'), ('Weight Capacity (kg)', 'Style_Price_mean'), ('Weight Capacity (kg)', 'Style_Count'), ('Weight Capacity (kg)', 'Style_STD'), ('Weight Capacity (kg)', 'Style_VAR'), ('Weight Capacity (kg)', 'Color_Price_mean'), ('Weight Capacity (kg)', 'Color_Count'), ('Weight Capacity (kg)', 'Color_STD'), ('Weight Capacity (kg)', 'Color_VAR'), ('Weight Capacity (kg)', 'Laptop Compartment'), ('Weight Capacity (kg)', 'Waterproof'), ('Weight Capacity (kg)', 'Laptop Compartment_Missing'), ('Weight Capacity (kg)', 'Waterproof_Missing'), ('Brand_Price_mean', 'Material_Price_mean'), ('Brand_Price_mean', 'Material_Count'), ('Brand_Price_mean', 'Material_STD'), ('Brand_Price_mean', 'Material_VAR'), ('Brand_Price_mean', 'Size_Price_mean'), ('Brand_Price_mean', 'Size_Count'), ('Brand_Price_mean', 'Size_STD'), ('Brand_Price_mean', 'Size_VAR'), ('Brand_Price_mean', 'Style_Price_mean'), ('Brand_Price_mean', 'Style_Count'), ('Brand_Price_mean', 'Style_STD'), ('Brand_Price_mean', 'Style_VAR'), ('Brand_Price_mean', 'Color_Price_mean'), ('Brand_Price_mean', 'Color_Count'), ('Brand_Price_mean', 'Color_STD'), ('Brand_Price_mean', 'Color_VAR'), ('Brand_Price_mean', 'Laptop Compartment'), ('Brand_Price_mean', 'Waterproof'), ('Brand_Price_mean', 'Laptop Compartment_Missing'), ('Brand_Price_mean', 'Waterproof_Missing'), ('Brand_Price_mean', 'Weight Capacity (kg)_Missing'), ('Brand_Count', 'Material_Price_mean'), ('Brand_Count', 'Material_Count'), ('Brand_Count', 'Material_STD'), ('Brand_Count', 'Material_VAR'), ('Brand_Count', 'Size_Price_mean'), ('Brand_Count', 'Size_Count'), ('Brand_Count', 'Size_STD'), ('Brand_Count', 'Size_VAR'), ('Brand_Count', 'Style_Price_mean'), ('Brand_Count', 'Style_Count'), ('Brand_Count', 'Style_STD'), ('Brand_Count', 'Style_VAR'), ('Brand_Count', 'Color_Price_mean'), ('Brand_Count', 'Color_Count'), ('Brand_Count', 'Color_STD'), ('Brand_Count', 'Color_VAR'), ('Brand_Count', 'Laptop Compartment'), ('Brand_Count', 'Waterproof'), ('Brand_Count', 'Laptop Compartment_Missing'), ('Brand_Count', 'Waterproof_Missing'), ('Brand_Count', 'Weight Capacity (kg)_Missing'), ('Brand_STD', 'Material_Price_mean'), ('Brand_STD', 'Material_Count'), ('Brand_STD', 'Material_STD'), ('Brand_STD', 'Material_VAR'), ('Brand_STD', 'Size_Price_mean'), ('Brand_STD', 'Size_Count'), ('Brand_STD', 'Size_STD'), ('Brand_STD', 'Size_VAR'), ('Brand_STD', 'Style_Price_mean'), ('Brand_STD', 'Style_Count'), ('Brand_STD', 'Style_STD'), ('Brand_STD', 'Style_VAR'), ('Brand_STD', 'Color_Price_mean'), ('Brand_STD', 'Color_Count'), ('Brand_STD', 'Color_STD'), ('Brand_STD', 'Color_VAR'), ('Brand_STD', 'Laptop Compartment'), ('Brand_STD', 'Waterproof'), ('Brand_STD', 'Laptop Compartment_Missing'), ('Brand_STD', 'Waterproof_Missing'), ('Brand_STD', 'Weight Capacity (kg)_Missing'), ('Brand_VAR', 'Material_Price_mean'), ('Brand_VAR', 'Material_Count'), ('Brand_VAR', 'Material_STD'), ('Brand_VAR', 'Material_VAR'), ('Brand_VAR', 'Size_Price_mean'), ('Brand_VAR', 'Size_Count'), ('Brand_VAR', 'Size_STD'), ('Brand_VAR', 'Size_VAR'), ('Brand_VAR', 'Style_Price_mean'), ('Brand_VAR', 'Style_Count'), ('Brand_VAR', 'Style_STD'), ('Brand_VAR', 'Style_VAR'), ('Brand_VAR', 'Color_Price_mean'), ('Brand_VAR', 'Color_Count'), ('Brand_VAR', 'Color_STD'), ('Brand_VAR', 'Color_VAR'), ('Brand_VAR', 'Laptop Compartment'), ('Brand_VAR', 'Waterproof'), ('Brand_VAR', 'Laptop Compartment_Missing'), ('Brand_VAR', 'Waterproof_Missing'), ('Brand_VAR', 'Weight Capacity (kg)_Missing'), ('Material_Price_mean', 'Size_Price_mean'), ('Material_Price_mean', 'Size_Count'), ('Material_Price_mean', 'Size_STD'), ('Material_Price_mean', 'Size_VAR'), ('Material_Price_mean', 'Style_Price_mean'), ('Material_Price_mean', 'Style_Count'), ('Material_Price_mean', 'Style_STD'), ('Material_Price_mean', 'Style_VAR'), ('Material_Price_mean', 'Color_Price_mean'), ('Material_Price_mean', 'Color_Count'), ('Material_Price_mean', 'Color_STD'), ('Material_Price_mean', 'Color_VAR'), ('Material_Price_mean', 'Laptop Compartment'), ('Material_Price_mean', 'Waterproof'), ('Material_Price_mean', 'Laptop Compartment_Missing'), ('Material_Price_mean', 'Waterproof_Missing'), ('Material_Price_mean', 'Weight Capacity (kg)_Missing'), ('Material_Count', 'Size_Price_mean'), ('Material_Count', 'Size_Count'), ('Material_Count', 'Size_STD'), ('Material_Count', 'Size_VAR'), ('Material_Count', 'Style_Price_mean'), ('Material_Count', 'Style_Count'), ('Material_Count', 'Style_STD'), ('Material_Count', 'Style_VAR'), ('Material_Count', 'Color_Price_mean'), ('Material_Count', 'Color_Count'), ('Material_Count', 'Color_STD'), ('Material_Count', 'Color_VAR'), ('Material_Count', 'Laptop Compartment'), ('Material_Count', 'Waterproof'), ('Material_Count', 'Laptop Compartment_Missing'), ('Material_Count', 'Waterproof_Missing'), ('Material_Count', 'Weight Capacity (kg)_Missing'), ('Material_STD', 'Size_Price_mean'), ('Material_STD', 'Size_Count'), ('Material_STD', 'Size_STD'), ('Material_STD', 'Size_VAR'), ('Material_STD', 'Style_Price_mean'), ('Material_STD', 'Style_Count'), ('Material_STD', 'Style_STD'), ('Material_STD', 'Style_VAR'), ('Material_STD', 'Color_Price_mean'), ('Material_STD', 'Color_Count'), ('Material_STD', 'Color_STD'), ('Material_STD', 'Color_VAR'), ('Material_STD', 'Laptop Compartment'), ('Material_STD', 'Waterproof'), ('Material_STD', 'Laptop Compartment_Missing'), ('Material_STD', 'Waterproof_Missing'), ('Material_STD', 'Weight Capacity (kg)_Missing'), ('Material_VAR', 'Size_Price_mean'), ('Material_VAR', 'Size_Count'), ('Material_VAR', 'Size_STD'), ('Material_VAR', 'Size_VAR'), ('Material_VAR', 'Style_Price_mean'), ('Material_VAR', 'Style_Count'), ('Material_VAR', 'Style_STD'), ('Material_VAR', 'Style_VAR'), ('Material_VAR', 'Color_Price_mean'), ('Material_VAR', 'Color_Count'), ('Material_VAR', 'Color_STD'), ('Material_VAR', 'Color_VAR'), ('Material_VAR', 'Laptop Compartment'), ('Material_VAR', 'Waterproof'), ('Material_VAR', 'Laptop Compartment_Missing'), ('Material_VAR', 'Waterproof_Missing'), ('Material_VAR', 'Weight Capacity (kg)_Missing'), ('Size_Price_mean', 'Style_Price_mean'), ('Size_Price_mean', 'Style_Count'), ('Size_Price_mean', 'Style_STD'), ('Size_Price_mean', 'Style_VAR'), ('Size_Price_mean', 'Color_Price_mean'), ('Size_Price_mean', 'Color_Count'), ('Size_Price_mean', 'Color_STD'), ('Size_Price_mean', 'Color_VAR'), ('Size_Price_mean', 'Laptop Compartment'), ('Size_Price_mean', 'Waterproof'), ('Size_Price_mean', 'Laptop Compartment_Missing'), ('Size_Price_mean', 'Waterproof_Missing'), ('Size_Price_mean', 'Weight Capacity (kg)_Missing'), ('Size_Count', 'Style_Price_mean'), ('Size_Count', 'Style_Count'), ('Size_Count', 'Style_STD'), ('Size_Count', 'Style_VAR'), ('Size_Count', 'Color_Price_mean'), ('Size_Count', 'Color_Count'), ('Size_Count', 'Color_STD'), ('Size_Count', 'Color_VAR'), ('Size_Count', 'Laptop Compartment'), ('Size_Count', 'Waterproof'), ('Size_Count', 'Laptop Compartment_Missing'), ('Size_Count', 'Waterproof_Missing'), ('Size_Count', 'Weight Capacity (kg)_Missing'), ('Size_STD', 'Style_Price_mean'), ('Size_STD', 'Style_Count'), ('Size_STD', 'Style_STD'), ('Size_STD', 'Style_VAR'), ('Size_STD', 'Color_Price_mean'), ('Size_STD', 'Color_Count'), ('Size_STD', 'Color_STD'), ('Size_STD', 'Color_VAR'), ('Size_STD', 'Laptop Compartment'), ('Size_STD', 'Waterproof'), ('Size_STD', 'Laptop Compartment_Missing'), ('Size_STD', 'Waterproof_Missing'), ('Size_STD', 'Weight Capacity (kg)_Missing'), ('Size_VAR', 'Style_Price_mean'), ('Size_VAR', 'Style_Count'), ('Size_VAR', 'Style_STD'), ('Size_VAR', 'Style_VAR'), ('Size_VAR', 'Color_Price_mean'), ('Size_VAR', 'Color_Count'), ('Size_VAR', 'Color_STD'), ('Size_VAR', 'Color_VAR'), ('Size_VAR', 'Laptop Compartment'), ('Size_VAR', 'Waterproof'), ('Size_VAR', 'Laptop Compartment_Missing'), ('Size_VAR', 'Waterproof_Missing'), ('Size_VAR', 'Weight Capacity (kg)_Missing'), ('Style_Price_mean', 'Color_Price_mean'), ('Style_Price_mean', 'Color_Count'), ('Style_Price_mean', 'Color_STD'), ('Style_Price_mean', 'Color_VAR'), ('Style_Price_mean', 'Laptop Compartment'), ('Style_Price_mean', 'Waterproof'), ('Style_Price_mean', 'Laptop Compartment_Missing'), ('Style_Price_mean', 'Waterproof_Missing'), ('Style_Price_mean', 'Weight Capacity (kg)_Missing'), ('Style_Count', 'Color_Price_mean'), ('Style_Count', 'Color_Count'), ('Style_Count', 'Color_STD'), ('Style_Count', 'Color_VAR'), ('Style_Count', 'Laptop Compartment'), ('Style_Count', 'Waterproof'), ('Style_Count', 'Laptop Compartment_Missing'), ('Style_Count', 'Waterproof_Missing'), ('Style_Count', 'Weight Capacity (kg)_Missing'), ('Style_STD', 'Color_Price_mean'), ('Style_STD', 'Color_Count'), ('Style_STD', 'Color_STD'), ('Style_STD', 'Color_VAR'), ('Style_STD', 'Laptop Compartment'), ('Style_STD', 'Waterproof'), ('Style_STD', 'Laptop Compartment_Missing'), ('Style_STD', 'Waterproof_Missing'), ('Style_STD', 'Weight Capacity (kg)_Missing'), ('Style_VAR', 'Color_Price_mean'), ('Style_VAR', 'Color_Count'), ('Style_VAR', 'Color_STD'), ('Style_VAR', 'Color_VAR'), ('Style_VAR', 'Laptop Compartment'), ('Style_VAR', 'Waterproof'), ('Style_VAR', 'Laptop Compartment_Missing'), ('Style_VAR', 'Waterproof_Missing'), ('Style_VAR', 'Weight Capacity (kg)_Missing'), ('Color_Price_mean', 'Laptop Compartment'), ('Color_Price_mean', 'Waterproof'), ('Color_Price_mean', 'Laptop Compartment_Missing'), ('Color_Price_mean', 'Waterproof_Missing'), ('Color_Price_mean', 'Weight Capacity (kg)_Missing'), ('Color_Count', 'Laptop Compartment'), ('Color_Count', 'Waterproof'), ('Color_Count', 'Laptop Compartment_Missing'), ('Color_Count', 'Waterproof_Missing'), ('Color_Count', 'Weight Capacity (kg)_Missing'), ('Color_STD', 'Laptop Compartment'), ('Color_STD', 'Waterproof'), ('Color_STD', 'Laptop Compartment_Missing'), ('Color_STD', 'Waterproof_Missing'), ('Color_STD', 'Weight Capacity (kg)_Missing'), ('Color_VAR', 'Laptop Compartment'), ('Color_VAR', 'Waterproof'), ('Color_VAR', 'Laptop Compartment_Missing'), ('Color_VAR', 'Waterproof_Missing'), ('Color_VAR', 'Weight Capacity (kg)_Missing'), ('Laptop Compartment', 'Waterproof'), ('Laptop Compartment', 'Waterproof_Missing'), ('Laptop Compartment', 'Weight Capacity (kg)_Missing'), ('Waterproof', 'Laptop Compartment_Missing'), ('Waterproof', 'Weight Capacity (kg)_Missing'), ('Laptop Compartment_Missing', 'Waterproof_Missing'), ('Laptop Compartment_Missing', 'Weight Capacity (kg)_Missing'), ('Waterproof_Missing', 'Weight Capacity (kg)_Missing')]\n",
      "1183\n"
     ]
    }
   ],
   "source": [
    "from itertools import product, combinations\n",
    "\n",
    "# combinations = list(product(X.columns, X.columns)) # cartesian product\n",
    "columns_combinations = list(combinations(X.columns, 2)) # combinations without duplicates\n",
    "print(len(columns_combinations))\n",
    "combinations_filtered = list(filter(lambda tuple: tuple[0].split(\"_\")[0] != tuple[1].split(\"_\")[0], columns_combinations)) #filtered\n",
    "\n",
    "# Afficher les combinaisons filtrées et leur nombre\n",
    "print(combinations_filtered)\n",
    "print(len(combinations_filtered))"
   ]
  },
  {
   "cell_type": "code",
   "execution_count": 53,
   "metadata": {},
   "outputs": [
    {
     "name": "stdout",
     "output_type": "stream",
     "text": [
      "['Brand_AdidasxxxMaterial_Canvas', 'Brand_AdidasxxxMaterial_Inconnu', 'Brand_AdidasxxxMaterial_Leather', 'Brand_AdidasxxxMaterial_Nylon', 'Brand_AdidasxxxMaterial_Polyester', 'Brand_AdidasxxxSize_Inconnu', 'Brand_AdidasxxxSize_Large', 'Brand_AdidasxxxSize_Medium', 'Brand_AdidasxxxSize_Small', 'Brand_AdidasxxxStyle_Backpack', 'Brand_AdidasxxxStyle_Inconnu', 'Brand_AdidasxxxStyle_Messenger', 'Brand_AdidasxxxStyle_Tote', 'Brand_AdidasxxxColor_Black', 'Brand_AdidasxxxColor_Blue', 'Brand_AdidasxxxColor_Gray', 'Brand_AdidasxxxColor_Green', 'Brand_AdidasxxxColor_Inconnu', 'Brand_AdidasxxxColor_Pink', 'Brand_AdidasxxxColor_Red', 'Brand_AdidasxxxCompartments', 'Brand_AdidasxxxWeight Capacity (kg)', 'Brand_AdidasxxxMaterial_Price_mean', 'Brand_AdidasxxxMaterial_Count', 'Brand_AdidasxxxMaterial_STD', 'Brand_AdidasxxxMaterial_VAR', 'Brand_AdidasxxxSize_Price_mean', 'Brand_AdidasxxxSize_Count', 'Brand_AdidasxxxSize_STD', 'Brand_AdidasxxxSize_VAR', 'Brand_AdidasxxxStyle_Price_mean', 'Brand_AdidasxxxStyle_Count', 'Brand_AdidasxxxStyle_STD', 'Brand_AdidasxxxStyle_VAR', 'Brand_AdidasxxxColor_Price_mean', 'Brand_AdidasxxxColor_Count', 'Brand_AdidasxxxColor_STD', 'Brand_AdidasxxxColor_VAR', 'Brand_AdidasxxxLaptop Compartment', 'Brand_AdidasxxxWaterproof', 'Brand_AdidasxxxLaptop Compartment_Missing', 'Brand_AdidasxxxWaterproof_Missing', 'Brand_AdidasxxxWeight Capacity (kg)_Missing', 'Brand_InconnuxxxMaterial_Canvas', 'Brand_InconnuxxxMaterial_Inconnu', 'Brand_InconnuxxxMaterial_Leather', 'Brand_InconnuxxxMaterial_Nylon', 'Brand_InconnuxxxMaterial_Polyester', 'Brand_InconnuxxxSize_Inconnu', 'Brand_InconnuxxxSize_Large', 'Brand_InconnuxxxSize_Medium', 'Brand_InconnuxxxSize_Small', 'Brand_InconnuxxxStyle_Backpack', 'Brand_InconnuxxxStyle_Inconnu', 'Brand_InconnuxxxStyle_Messenger', 'Brand_InconnuxxxStyle_Tote', 'Brand_InconnuxxxColor_Black', 'Brand_InconnuxxxColor_Blue', 'Brand_InconnuxxxColor_Gray', 'Brand_InconnuxxxColor_Green', 'Brand_InconnuxxxColor_Inconnu', 'Brand_InconnuxxxColor_Pink', 'Brand_InconnuxxxColor_Red', 'Brand_InconnuxxxCompartments', 'Brand_InconnuxxxWeight Capacity (kg)', 'Brand_InconnuxxxMaterial_Price_mean', 'Brand_InconnuxxxMaterial_Count', 'Brand_InconnuxxxMaterial_STD', 'Brand_InconnuxxxMaterial_VAR', 'Brand_InconnuxxxSize_Price_mean', 'Brand_InconnuxxxSize_Count', 'Brand_InconnuxxxSize_STD', 'Brand_InconnuxxxSize_VAR', 'Brand_InconnuxxxStyle_Price_mean', 'Brand_InconnuxxxStyle_Count', 'Brand_InconnuxxxStyle_STD', 'Brand_InconnuxxxStyle_VAR', 'Brand_InconnuxxxColor_Price_mean', 'Brand_InconnuxxxColor_Count', 'Brand_InconnuxxxColor_STD', 'Brand_InconnuxxxColor_VAR', 'Brand_InconnuxxxLaptop Compartment', 'Brand_InconnuxxxWaterproof', 'Brand_InconnuxxxLaptop Compartment_Missing', 'Brand_InconnuxxxWaterproof_Missing', 'Brand_InconnuxxxWeight Capacity (kg)_Missing', 'Brand_JansportxxxMaterial_Canvas', 'Brand_JansportxxxMaterial_Inconnu', 'Brand_JansportxxxMaterial_Leather', 'Brand_JansportxxxMaterial_Nylon', 'Brand_JansportxxxMaterial_Polyester', 'Brand_JansportxxxSize_Inconnu', 'Brand_JansportxxxSize_Large', 'Brand_JansportxxxSize_Medium', 'Brand_JansportxxxSize_Small', 'Brand_JansportxxxStyle_Backpack', 'Brand_JansportxxxStyle_Inconnu', 'Brand_JansportxxxStyle_Messenger', 'Brand_JansportxxxStyle_Tote', 'Brand_JansportxxxColor_Black', 'Brand_JansportxxxColor_Blue', 'Brand_JansportxxxColor_Gray', 'Brand_JansportxxxColor_Green', 'Brand_JansportxxxColor_Inconnu', 'Brand_JansportxxxColor_Pink', 'Brand_JansportxxxColor_Red', 'Brand_JansportxxxCompartments', 'Brand_JansportxxxWeight Capacity (kg)', 'Brand_JansportxxxMaterial_Price_mean', 'Brand_JansportxxxMaterial_Count', 'Brand_JansportxxxMaterial_STD', 'Brand_JansportxxxMaterial_VAR', 'Brand_JansportxxxSize_Price_mean', 'Brand_JansportxxxSize_Count', 'Brand_JansportxxxSize_STD', 'Brand_JansportxxxSize_VAR', 'Brand_JansportxxxStyle_Price_mean', 'Brand_JansportxxxStyle_Count', 'Brand_JansportxxxStyle_STD', 'Brand_JansportxxxStyle_VAR', 'Brand_JansportxxxColor_Price_mean', 'Brand_JansportxxxColor_Count', 'Brand_JansportxxxColor_STD', 'Brand_JansportxxxColor_VAR', 'Brand_JansportxxxLaptop Compartment', 'Brand_JansportxxxWaterproof', 'Brand_JansportxxxLaptop Compartment_Missing', 'Brand_JansportxxxWaterproof_Missing', 'Brand_JansportxxxWeight Capacity (kg)_Missing', 'Brand_NikexxxMaterial_Canvas', 'Brand_NikexxxMaterial_Inconnu', 'Brand_NikexxxMaterial_Leather', 'Brand_NikexxxMaterial_Nylon', 'Brand_NikexxxMaterial_Polyester', 'Brand_NikexxxSize_Inconnu', 'Brand_NikexxxSize_Large', 'Brand_NikexxxSize_Medium', 'Brand_NikexxxSize_Small', 'Brand_NikexxxStyle_Backpack', 'Brand_NikexxxStyle_Inconnu', 'Brand_NikexxxStyle_Messenger', 'Brand_NikexxxStyle_Tote', 'Brand_NikexxxColor_Black', 'Brand_NikexxxColor_Blue', 'Brand_NikexxxColor_Gray', 'Brand_NikexxxColor_Green', 'Brand_NikexxxColor_Inconnu', 'Brand_NikexxxColor_Pink', 'Brand_NikexxxColor_Red', 'Brand_NikexxxCompartments', 'Brand_NikexxxWeight Capacity (kg)', 'Brand_NikexxxMaterial_Price_mean', 'Brand_NikexxxMaterial_Count', 'Brand_NikexxxMaterial_STD', 'Brand_NikexxxMaterial_VAR', 'Brand_NikexxxSize_Price_mean', 'Brand_NikexxxSize_Count', 'Brand_NikexxxSize_STD', 'Brand_NikexxxSize_VAR', 'Brand_NikexxxStyle_Price_mean', 'Brand_NikexxxStyle_Count', 'Brand_NikexxxStyle_STD', 'Brand_NikexxxStyle_VAR', 'Brand_NikexxxColor_Price_mean', 'Brand_NikexxxColor_Count', 'Brand_NikexxxColor_STD', 'Brand_NikexxxColor_VAR', 'Brand_NikexxxLaptop Compartment', 'Brand_NikexxxWaterproof', 'Brand_NikexxxLaptop Compartment_Missing', 'Brand_NikexxxWaterproof_Missing', 'Brand_NikexxxWeight Capacity (kg)_Missing', 'Brand_PumaxxxMaterial_Canvas', 'Brand_PumaxxxMaterial_Inconnu', 'Brand_PumaxxxMaterial_Leather', 'Brand_PumaxxxMaterial_Nylon', 'Brand_PumaxxxMaterial_Polyester', 'Brand_PumaxxxSize_Inconnu', 'Brand_PumaxxxSize_Large', 'Brand_PumaxxxSize_Medium', 'Brand_PumaxxxSize_Small', 'Brand_PumaxxxStyle_Backpack', 'Brand_PumaxxxStyle_Inconnu', 'Brand_PumaxxxStyle_Messenger', 'Brand_PumaxxxStyle_Tote', 'Brand_PumaxxxColor_Black', 'Brand_PumaxxxColor_Blue', 'Brand_PumaxxxColor_Gray', 'Brand_PumaxxxColor_Green', 'Brand_PumaxxxColor_Inconnu', 'Brand_PumaxxxColor_Pink', 'Brand_PumaxxxColor_Red', 'Brand_PumaxxxCompartments', 'Brand_PumaxxxWeight Capacity (kg)', 'Brand_PumaxxxMaterial_Price_mean', 'Brand_PumaxxxMaterial_Count', 'Brand_PumaxxxMaterial_STD', 'Brand_PumaxxxMaterial_VAR', 'Brand_PumaxxxSize_Price_mean', 'Brand_PumaxxxSize_Count', 'Brand_PumaxxxSize_STD', 'Brand_PumaxxxSize_VAR', 'Brand_PumaxxxStyle_Price_mean', 'Brand_PumaxxxStyle_Count', 'Brand_PumaxxxStyle_STD', 'Brand_PumaxxxStyle_VAR', 'Brand_PumaxxxColor_Price_mean', 'Brand_PumaxxxColor_Count', 'Brand_PumaxxxColor_STD', 'Brand_PumaxxxColor_VAR', 'Brand_PumaxxxLaptop Compartment', 'Brand_PumaxxxWaterproof', 'Brand_PumaxxxLaptop Compartment_Missing', 'Brand_PumaxxxWaterproof_Missing', 'Brand_PumaxxxWeight Capacity (kg)_Missing', 'Brand_Under ArmourxxxMaterial_Canvas', 'Brand_Under ArmourxxxMaterial_Inconnu', 'Brand_Under ArmourxxxMaterial_Leather', 'Brand_Under ArmourxxxMaterial_Nylon', 'Brand_Under ArmourxxxMaterial_Polyester', 'Brand_Under ArmourxxxSize_Inconnu', 'Brand_Under ArmourxxxSize_Large', 'Brand_Under ArmourxxxSize_Medium', 'Brand_Under ArmourxxxSize_Small', 'Brand_Under ArmourxxxStyle_Backpack', 'Brand_Under ArmourxxxStyle_Inconnu', 'Brand_Under ArmourxxxStyle_Messenger', 'Brand_Under ArmourxxxStyle_Tote', 'Brand_Under ArmourxxxColor_Black', 'Brand_Under ArmourxxxColor_Blue', 'Brand_Under ArmourxxxColor_Gray', 'Brand_Under ArmourxxxColor_Green', 'Brand_Under ArmourxxxColor_Inconnu', 'Brand_Under ArmourxxxColor_Pink', 'Brand_Under ArmourxxxColor_Red', 'Brand_Under ArmourxxxCompartments', 'Brand_Under ArmourxxxWeight Capacity (kg)', 'Brand_Under ArmourxxxMaterial_Price_mean', 'Brand_Under ArmourxxxMaterial_Count', 'Brand_Under ArmourxxxMaterial_STD', 'Brand_Under ArmourxxxMaterial_VAR', 'Brand_Under ArmourxxxSize_Price_mean', 'Brand_Under ArmourxxxSize_Count', 'Brand_Under ArmourxxxSize_STD', 'Brand_Under ArmourxxxSize_VAR', 'Brand_Under ArmourxxxStyle_Price_mean', 'Brand_Under ArmourxxxStyle_Count', 'Brand_Under ArmourxxxStyle_STD', 'Brand_Under ArmourxxxStyle_VAR', 'Brand_Under ArmourxxxColor_Price_mean', 'Brand_Under ArmourxxxColor_Count', 'Brand_Under ArmourxxxColor_STD', 'Brand_Under ArmourxxxColor_VAR', 'Brand_Under ArmourxxxLaptop Compartment', 'Brand_Under ArmourxxxWaterproof', 'Brand_Under ArmourxxxLaptop Compartment_Missing', 'Brand_Under ArmourxxxWaterproof_Missing', 'Brand_Under ArmourxxxWeight Capacity (kg)_Missing', 'Material_CanvasxxxSize_Inconnu', 'Material_CanvasxxxSize_Large', 'Material_CanvasxxxSize_Medium', 'Material_CanvasxxxSize_Small', 'Material_CanvasxxxStyle_Backpack', 'Material_CanvasxxxStyle_Inconnu', 'Material_CanvasxxxStyle_Messenger', 'Material_CanvasxxxStyle_Tote', 'Material_CanvasxxxColor_Black', 'Material_CanvasxxxColor_Blue', 'Material_CanvasxxxColor_Gray', 'Material_CanvasxxxColor_Green', 'Material_CanvasxxxColor_Inconnu', 'Material_CanvasxxxColor_Pink', 'Material_CanvasxxxColor_Red', 'Material_CanvasxxxCompartments', 'Material_CanvasxxxWeight Capacity (kg)', 'Material_CanvasxxxBrand_Price_mean', 'Material_CanvasxxxBrand_Count', 'Material_CanvasxxxBrand_STD', 'Material_CanvasxxxBrand_VAR', 'Material_CanvasxxxSize_Price_mean', 'Material_CanvasxxxSize_Count', 'Material_CanvasxxxSize_STD', 'Material_CanvasxxxSize_VAR', 'Material_CanvasxxxStyle_Price_mean', 'Material_CanvasxxxStyle_Count', 'Material_CanvasxxxStyle_STD', 'Material_CanvasxxxStyle_VAR', 'Material_CanvasxxxColor_Price_mean', 'Material_CanvasxxxColor_Count', 'Material_CanvasxxxColor_STD', 'Material_CanvasxxxColor_VAR', 'Material_CanvasxxxLaptop Compartment', 'Material_CanvasxxxWaterproof', 'Material_CanvasxxxLaptop Compartment_Missing', 'Material_CanvasxxxWaterproof_Missing', 'Material_CanvasxxxWeight Capacity (kg)_Missing', 'Material_InconnuxxxSize_Inconnu', 'Material_InconnuxxxSize_Large', 'Material_InconnuxxxSize_Medium', 'Material_InconnuxxxSize_Small', 'Material_InconnuxxxStyle_Backpack', 'Material_InconnuxxxStyle_Inconnu', 'Material_InconnuxxxStyle_Messenger', 'Material_InconnuxxxStyle_Tote', 'Material_InconnuxxxColor_Black', 'Material_InconnuxxxColor_Blue', 'Material_InconnuxxxColor_Gray', 'Material_InconnuxxxColor_Green', 'Material_InconnuxxxColor_Inconnu', 'Material_InconnuxxxColor_Pink', 'Material_InconnuxxxColor_Red', 'Material_InconnuxxxCompartments', 'Material_InconnuxxxWeight Capacity (kg)', 'Material_InconnuxxxBrand_Price_mean', 'Material_InconnuxxxBrand_Count', 'Material_InconnuxxxBrand_STD', 'Material_InconnuxxxBrand_VAR', 'Material_InconnuxxxSize_Price_mean', 'Material_InconnuxxxSize_Count', 'Material_InconnuxxxSize_STD', 'Material_InconnuxxxSize_VAR', 'Material_InconnuxxxStyle_Price_mean', 'Material_InconnuxxxStyle_Count', 'Material_InconnuxxxStyle_STD', 'Material_InconnuxxxStyle_VAR', 'Material_InconnuxxxColor_Price_mean', 'Material_InconnuxxxColor_Count', 'Material_InconnuxxxColor_STD', 'Material_InconnuxxxColor_VAR', 'Material_InconnuxxxLaptop Compartment', 'Material_InconnuxxxWaterproof', 'Material_InconnuxxxLaptop Compartment_Missing', 'Material_InconnuxxxWaterproof_Missing', 'Material_InconnuxxxWeight Capacity (kg)_Missing', 'Material_LeatherxxxSize_Inconnu', 'Material_LeatherxxxSize_Large', 'Material_LeatherxxxSize_Medium', 'Material_LeatherxxxSize_Small', 'Material_LeatherxxxStyle_Backpack', 'Material_LeatherxxxStyle_Inconnu', 'Material_LeatherxxxStyle_Messenger', 'Material_LeatherxxxStyle_Tote', 'Material_LeatherxxxColor_Black', 'Material_LeatherxxxColor_Blue', 'Material_LeatherxxxColor_Gray', 'Material_LeatherxxxColor_Green', 'Material_LeatherxxxColor_Inconnu', 'Material_LeatherxxxColor_Pink', 'Material_LeatherxxxColor_Red', 'Material_LeatherxxxCompartments', 'Material_LeatherxxxWeight Capacity (kg)', 'Material_LeatherxxxBrand_Price_mean', 'Material_LeatherxxxBrand_Count', 'Material_LeatherxxxBrand_STD', 'Material_LeatherxxxBrand_VAR', 'Material_LeatherxxxSize_Price_mean', 'Material_LeatherxxxSize_Count', 'Material_LeatherxxxSize_STD', 'Material_LeatherxxxSize_VAR', 'Material_LeatherxxxStyle_Price_mean', 'Material_LeatherxxxStyle_Count', 'Material_LeatherxxxStyle_STD', 'Material_LeatherxxxStyle_VAR', 'Material_LeatherxxxColor_Price_mean', 'Material_LeatherxxxColor_Count', 'Material_LeatherxxxColor_STD', 'Material_LeatherxxxColor_VAR', 'Material_LeatherxxxLaptop Compartment', 'Material_LeatherxxxWaterproof', 'Material_LeatherxxxLaptop Compartment_Missing', 'Material_LeatherxxxWaterproof_Missing', 'Material_LeatherxxxWeight Capacity (kg)_Missing', 'Material_NylonxxxSize_Inconnu', 'Material_NylonxxxSize_Large', 'Material_NylonxxxSize_Medium', 'Material_NylonxxxSize_Small', 'Material_NylonxxxStyle_Backpack', 'Material_NylonxxxStyle_Inconnu', 'Material_NylonxxxStyle_Messenger', 'Material_NylonxxxStyle_Tote', 'Material_NylonxxxColor_Black', 'Material_NylonxxxColor_Blue', 'Material_NylonxxxColor_Gray', 'Material_NylonxxxColor_Green', 'Material_NylonxxxColor_Inconnu', 'Material_NylonxxxColor_Pink', 'Material_NylonxxxColor_Red', 'Material_NylonxxxCompartments', 'Material_NylonxxxWeight Capacity (kg)', 'Material_NylonxxxBrand_Price_mean', 'Material_NylonxxxBrand_Count', 'Material_NylonxxxBrand_STD', 'Material_NylonxxxBrand_VAR', 'Material_NylonxxxSize_Price_mean', 'Material_NylonxxxSize_Count', 'Material_NylonxxxSize_STD', 'Material_NylonxxxSize_VAR', 'Material_NylonxxxStyle_Price_mean', 'Material_NylonxxxStyle_Count', 'Material_NylonxxxStyle_STD', 'Material_NylonxxxStyle_VAR', 'Material_NylonxxxColor_Price_mean', 'Material_NylonxxxColor_Count', 'Material_NylonxxxColor_STD', 'Material_NylonxxxColor_VAR', 'Material_NylonxxxLaptop Compartment', 'Material_NylonxxxWaterproof', 'Material_NylonxxxLaptop Compartment_Missing', 'Material_NylonxxxWaterproof_Missing', 'Material_NylonxxxWeight Capacity (kg)_Missing', 'Material_PolyesterxxxSize_Inconnu', 'Material_PolyesterxxxSize_Large', 'Material_PolyesterxxxSize_Medium', 'Material_PolyesterxxxSize_Small', 'Material_PolyesterxxxStyle_Backpack', 'Material_PolyesterxxxStyle_Inconnu', 'Material_PolyesterxxxStyle_Messenger', 'Material_PolyesterxxxStyle_Tote', 'Material_PolyesterxxxColor_Black', 'Material_PolyesterxxxColor_Blue', 'Material_PolyesterxxxColor_Gray', 'Material_PolyesterxxxColor_Green', 'Material_PolyesterxxxColor_Inconnu', 'Material_PolyesterxxxColor_Pink', 'Material_PolyesterxxxColor_Red', 'Material_PolyesterxxxCompartments', 'Material_PolyesterxxxWeight Capacity (kg)', 'Material_PolyesterxxxBrand_Price_mean', 'Material_PolyesterxxxBrand_Count', 'Material_PolyesterxxxBrand_STD', 'Material_PolyesterxxxBrand_VAR', 'Material_PolyesterxxxSize_Price_mean', 'Material_PolyesterxxxSize_Count', 'Material_PolyesterxxxSize_STD', 'Material_PolyesterxxxSize_VAR', 'Material_PolyesterxxxStyle_Price_mean', 'Material_PolyesterxxxStyle_Count', 'Material_PolyesterxxxStyle_STD', 'Material_PolyesterxxxStyle_VAR', 'Material_PolyesterxxxColor_Price_mean', 'Material_PolyesterxxxColor_Count', 'Material_PolyesterxxxColor_STD', 'Material_PolyesterxxxColor_VAR', 'Material_PolyesterxxxLaptop Compartment', 'Material_PolyesterxxxWaterproof', 'Material_PolyesterxxxLaptop Compartment_Missing', 'Material_PolyesterxxxWaterproof_Missing', 'Material_PolyesterxxxWeight Capacity (kg)_Missing', 'Size_InconnuxxxStyle_Backpack', 'Size_InconnuxxxStyle_Inconnu', 'Size_InconnuxxxStyle_Messenger', 'Size_InconnuxxxStyle_Tote', 'Size_InconnuxxxColor_Black', 'Size_InconnuxxxColor_Blue', 'Size_InconnuxxxColor_Gray', 'Size_InconnuxxxColor_Green', 'Size_InconnuxxxColor_Inconnu', 'Size_InconnuxxxColor_Pink', 'Size_InconnuxxxColor_Red', 'Size_InconnuxxxCompartments', 'Size_InconnuxxxWeight Capacity (kg)', 'Size_InconnuxxxBrand_Price_mean', 'Size_InconnuxxxBrand_Count', 'Size_InconnuxxxBrand_STD', 'Size_InconnuxxxBrand_VAR', 'Size_InconnuxxxMaterial_Price_mean', 'Size_InconnuxxxMaterial_Count', 'Size_InconnuxxxMaterial_STD', 'Size_InconnuxxxMaterial_VAR', 'Size_InconnuxxxStyle_Price_mean', 'Size_InconnuxxxStyle_Count', 'Size_InconnuxxxStyle_STD', 'Size_InconnuxxxStyle_VAR', 'Size_InconnuxxxColor_Price_mean', 'Size_InconnuxxxColor_Count', 'Size_InconnuxxxColor_STD', 'Size_InconnuxxxColor_VAR', 'Size_InconnuxxxLaptop Compartment', 'Size_InconnuxxxWaterproof', 'Size_InconnuxxxLaptop Compartment_Missing', 'Size_InconnuxxxWaterproof_Missing', 'Size_InconnuxxxWeight Capacity (kg)_Missing', 'Size_LargexxxStyle_Backpack', 'Size_LargexxxStyle_Inconnu', 'Size_LargexxxStyle_Messenger', 'Size_LargexxxStyle_Tote', 'Size_LargexxxColor_Black', 'Size_LargexxxColor_Blue', 'Size_LargexxxColor_Gray', 'Size_LargexxxColor_Green', 'Size_LargexxxColor_Inconnu', 'Size_LargexxxColor_Pink', 'Size_LargexxxColor_Red', 'Size_LargexxxCompartments', 'Size_LargexxxWeight Capacity (kg)', 'Size_LargexxxBrand_Price_mean', 'Size_LargexxxBrand_Count', 'Size_LargexxxBrand_STD', 'Size_LargexxxBrand_VAR', 'Size_LargexxxMaterial_Price_mean', 'Size_LargexxxMaterial_Count', 'Size_LargexxxMaterial_STD', 'Size_LargexxxMaterial_VAR', 'Size_LargexxxStyle_Price_mean', 'Size_LargexxxStyle_Count', 'Size_LargexxxStyle_STD', 'Size_LargexxxStyle_VAR', 'Size_LargexxxColor_Price_mean', 'Size_LargexxxColor_Count', 'Size_LargexxxColor_STD', 'Size_LargexxxColor_VAR', 'Size_LargexxxLaptop Compartment', 'Size_LargexxxWaterproof', 'Size_LargexxxLaptop Compartment_Missing', 'Size_LargexxxWaterproof_Missing', 'Size_LargexxxWeight Capacity (kg)_Missing', 'Size_MediumxxxStyle_Backpack', 'Size_MediumxxxStyle_Inconnu', 'Size_MediumxxxStyle_Messenger', 'Size_MediumxxxStyle_Tote', 'Size_MediumxxxColor_Black', 'Size_MediumxxxColor_Blue', 'Size_MediumxxxColor_Gray', 'Size_MediumxxxColor_Green', 'Size_MediumxxxColor_Inconnu', 'Size_MediumxxxColor_Pink', 'Size_MediumxxxColor_Red', 'Size_MediumxxxCompartments', 'Size_MediumxxxWeight Capacity (kg)', 'Size_MediumxxxBrand_Price_mean', 'Size_MediumxxxBrand_Count', 'Size_MediumxxxBrand_STD', 'Size_MediumxxxBrand_VAR', 'Size_MediumxxxMaterial_Price_mean', 'Size_MediumxxxMaterial_Count', 'Size_MediumxxxMaterial_STD', 'Size_MediumxxxMaterial_VAR', 'Size_MediumxxxStyle_Price_mean', 'Size_MediumxxxStyle_Count', 'Size_MediumxxxStyle_STD', 'Size_MediumxxxStyle_VAR', 'Size_MediumxxxColor_Price_mean', 'Size_MediumxxxColor_Count', 'Size_MediumxxxColor_STD', 'Size_MediumxxxColor_VAR', 'Size_MediumxxxLaptop Compartment', 'Size_MediumxxxWaterproof', 'Size_MediumxxxLaptop Compartment_Missing', 'Size_MediumxxxWaterproof_Missing', 'Size_MediumxxxWeight Capacity (kg)_Missing', 'Size_SmallxxxStyle_Backpack', 'Size_SmallxxxStyle_Inconnu', 'Size_SmallxxxStyle_Messenger', 'Size_SmallxxxStyle_Tote', 'Size_SmallxxxColor_Black', 'Size_SmallxxxColor_Blue', 'Size_SmallxxxColor_Gray', 'Size_SmallxxxColor_Green', 'Size_SmallxxxColor_Inconnu', 'Size_SmallxxxColor_Pink', 'Size_SmallxxxColor_Red', 'Size_SmallxxxCompartments', 'Size_SmallxxxWeight Capacity (kg)', 'Size_SmallxxxBrand_Price_mean', 'Size_SmallxxxBrand_Count', 'Size_SmallxxxBrand_STD', 'Size_SmallxxxBrand_VAR', 'Size_SmallxxxMaterial_Price_mean', 'Size_SmallxxxMaterial_Count', 'Size_SmallxxxMaterial_STD', 'Size_SmallxxxMaterial_VAR', 'Size_SmallxxxStyle_Price_mean', 'Size_SmallxxxStyle_Count', 'Size_SmallxxxStyle_STD', 'Size_SmallxxxStyle_VAR', 'Size_SmallxxxColor_Price_mean', 'Size_SmallxxxColor_Count', 'Size_SmallxxxColor_STD', 'Size_SmallxxxColor_VAR', 'Size_SmallxxxLaptop Compartment', 'Size_SmallxxxWaterproof', 'Size_SmallxxxLaptop Compartment_Missing', 'Size_SmallxxxWaterproof_Missing', 'Size_SmallxxxWeight Capacity (kg)_Missing', 'Style_BackpackxxxColor_Black', 'Style_BackpackxxxColor_Blue', 'Style_BackpackxxxColor_Gray', 'Style_BackpackxxxColor_Green', 'Style_BackpackxxxColor_Inconnu', 'Style_BackpackxxxColor_Pink', 'Style_BackpackxxxColor_Red', 'Style_BackpackxxxCompartments', 'Style_BackpackxxxWeight Capacity (kg)', 'Style_BackpackxxxBrand_Price_mean', 'Style_BackpackxxxBrand_Count', 'Style_BackpackxxxBrand_STD', 'Style_BackpackxxxBrand_VAR', 'Style_BackpackxxxMaterial_Price_mean', 'Style_BackpackxxxMaterial_Count', 'Style_BackpackxxxMaterial_STD', 'Style_BackpackxxxMaterial_VAR', 'Style_BackpackxxxSize_Price_mean', 'Style_BackpackxxxSize_Count', 'Style_BackpackxxxSize_STD', 'Style_BackpackxxxSize_VAR', 'Style_BackpackxxxColor_Price_mean', 'Style_BackpackxxxColor_Count', 'Style_BackpackxxxColor_STD', 'Style_BackpackxxxColor_VAR', 'Style_BackpackxxxLaptop Compartment', 'Style_BackpackxxxWaterproof', 'Style_BackpackxxxLaptop Compartment_Missing', 'Style_BackpackxxxWaterproof_Missing', 'Style_BackpackxxxWeight Capacity (kg)_Missing', 'Style_InconnuxxxColor_Black', 'Style_InconnuxxxColor_Blue', 'Style_InconnuxxxColor_Gray', 'Style_InconnuxxxColor_Green', 'Style_InconnuxxxColor_Inconnu', 'Style_InconnuxxxColor_Pink', 'Style_InconnuxxxColor_Red', 'Style_InconnuxxxCompartments', 'Style_InconnuxxxWeight Capacity (kg)', 'Style_InconnuxxxBrand_Price_mean', 'Style_InconnuxxxBrand_Count', 'Style_InconnuxxxBrand_STD', 'Style_InconnuxxxBrand_VAR', 'Style_InconnuxxxMaterial_Price_mean', 'Style_InconnuxxxMaterial_Count', 'Style_InconnuxxxMaterial_STD', 'Style_InconnuxxxMaterial_VAR', 'Style_InconnuxxxSize_Price_mean', 'Style_InconnuxxxSize_Count', 'Style_InconnuxxxSize_STD', 'Style_InconnuxxxSize_VAR', 'Style_InconnuxxxColor_Price_mean', 'Style_InconnuxxxColor_Count', 'Style_InconnuxxxColor_STD', 'Style_InconnuxxxColor_VAR', 'Style_InconnuxxxLaptop Compartment', 'Style_InconnuxxxWaterproof', 'Style_InconnuxxxLaptop Compartment_Missing', 'Style_InconnuxxxWaterproof_Missing', 'Style_InconnuxxxWeight Capacity (kg)_Missing', 'Style_MessengerxxxColor_Black', 'Style_MessengerxxxColor_Blue', 'Style_MessengerxxxColor_Gray', 'Style_MessengerxxxColor_Green', 'Style_MessengerxxxColor_Inconnu', 'Style_MessengerxxxColor_Pink', 'Style_MessengerxxxColor_Red', 'Style_MessengerxxxCompartments', 'Style_MessengerxxxWeight Capacity (kg)', 'Style_MessengerxxxBrand_Price_mean', 'Style_MessengerxxxBrand_Count', 'Style_MessengerxxxBrand_STD', 'Style_MessengerxxxBrand_VAR', 'Style_MessengerxxxMaterial_Price_mean', 'Style_MessengerxxxMaterial_Count', 'Style_MessengerxxxMaterial_STD', 'Style_MessengerxxxMaterial_VAR', 'Style_MessengerxxxSize_Price_mean', 'Style_MessengerxxxSize_Count', 'Style_MessengerxxxSize_STD', 'Style_MessengerxxxSize_VAR', 'Style_MessengerxxxColor_Price_mean', 'Style_MessengerxxxColor_Count', 'Style_MessengerxxxColor_STD', 'Style_MessengerxxxColor_VAR', 'Style_MessengerxxxLaptop Compartment', 'Style_MessengerxxxWaterproof', 'Style_MessengerxxxLaptop Compartment_Missing', 'Style_MessengerxxxWaterproof_Missing', 'Style_MessengerxxxWeight Capacity (kg)_Missing', 'Style_TotexxxColor_Black', 'Style_TotexxxColor_Blue', 'Style_TotexxxColor_Gray', 'Style_TotexxxColor_Green', 'Style_TotexxxColor_Inconnu', 'Style_TotexxxColor_Pink', 'Style_TotexxxColor_Red', 'Style_TotexxxCompartments', 'Style_TotexxxWeight Capacity (kg)', 'Style_TotexxxBrand_Price_mean', 'Style_TotexxxBrand_Count', 'Style_TotexxxBrand_STD', 'Style_TotexxxBrand_VAR', 'Style_TotexxxMaterial_Price_mean', 'Style_TotexxxMaterial_Count', 'Style_TotexxxMaterial_STD', 'Style_TotexxxMaterial_VAR', 'Style_TotexxxSize_Price_mean', 'Style_TotexxxSize_Count', 'Style_TotexxxSize_STD', 'Style_TotexxxSize_VAR', 'Style_TotexxxColor_Price_mean', 'Style_TotexxxColor_Count', 'Style_TotexxxColor_STD', 'Style_TotexxxColor_VAR', 'Style_TotexxxLaptop Compartment', 'Style_TotexxxWaterproof', 'Style_TotexxxLaptop Compartment_Missing', 'Style_TotexxxWaterproof_Missing', 'Style_TotexxxWeight Capacity (kg)_Missing', 'Color_BlackxxxCompartments', 'Color_BlackxxxWeight Capacity (kg)', 'Color_BlackxxxBrand_Price_mean', 'Color_BlackxxxBrand_Count', 'Color_BlackxxxBrand_STD', 'Color_BlackxxxBrand_VAR', 'Color_BlackxxxMaterial_Price_mean', 'Color_BlackxxxMaterial_Count', 'Color_BlackxxxMaterial_STD', 'Color_BlackxxxMaterial_VAR', 'Color_BlackxxxSize_Price_mean', 'Color_BlackxxxSize_Count', 'Color_BlackxxxSize_STD', 'Color_BlackxxxSize_VAR', 'Color_BlackxxxStyle_Price_mean', 'Color_BlackxxxStyle_Count', 'Color_BlackxxxStyle_STD', 'Color_BlackxxxStyle_VAR', 'Color_BlackxxxLaptop Compartment', 'Color_BlackxxxWaterproof', 'Color_BlackxxxLaptop Compartment_Missing', 'Color_BlackxxxWaterproof_Missing', 'Color_BlackxxxWeight Capacity (kg)_Missing', 'Color_BluexxxCompartments', 'Color_BluexxxWeight Capacity (kg)', 'Color_BluexxxBrand_Price_mean', 'Color_BluexxxBrand_Count', 'Color_BluexxxBrand_STD', 'Color_BluexxxBrand_VAR', 'Color_BluexxxMaterial_Price_mean', 'Color_BluexxxMaterial_Count', 'Color_BluexxxMaterial_STD', 'Color_BluexxxMaterial_VAR', 'Color_BluexxxSize_Price_mean', 'Color_BluexxxSize_Count', 'Color_BluexxxSize_STD', 'Color_BluexxxSize_VAR', 'Color_BluexxxStyle_Price_mean', 'Color_BluexxxStyle_Count', 'Color_BluexxxStyle_STD', 'Color_BluexxxStyle_VAR', 'Color_BluexxxLaptop Compartment', 'Color_BluexxxWaterproof', 'Color_BluexxxLaptop Compartment_Missing', 'Color_BluexxxWaterproof_Missing', 'Color_BluexxxWeight Capacity (kg)_Missing', 'Color_GrayxxxCompartments', 'Color_GrayxxxWeight Capacity (kg)', 'Color_GrayxxxBrand_Price_mean', 'Color_GrayxxxBrand_Count', 'Color_GrayxxxBrand_STD', 'Color_GrayxxxBrand_VAR', 'Color_GrayxxxMaterial_Price_mean', 'Color_GrayxxxMaterial_Count', 'Color_GrayxxxMaterial_STD', 'Color_GrayxxxMaterial_VAR', 'Color_GrayxxxSize_Price_mean', 'Color_GrayxxxSize_Count', 'Color_GrayxxxSize_STD', 'Color_GrayxxxSize_VAR', 'Color_GrayxxxStyle_Price_mean', 'Color_GrayxxxStyle_Count', 'Color_GrayxxxStyle_STD', 'Color_GrayxxxStyle_VAR', 'Color_GrayxxxLaptop Compartment', 'Color_GrayxxxWaterproof', 'Color_GrayxxxLaptop Compartment_Missing', 'Color_GrayxxxWaterproof_Missing', 'Color_GrayxxxWeight Capacity (kg)_Missing', 'Color_GreenxxxCompartments', 'Color_GreenxxxWeight Capacity (kg)', 'Color_GreenxxxBrand_Price_mean', 'Color_GreenxxxBrand_Count', 'Color_GreenxxxBrand_STD', 'Color_GreenxxxBrand_VAR', 'Color_GreenxxxMaterial_Price_mean', 'Color_GreenxxxMaterial_Count', 'Color_GreenxxxMaterial_STD', 'Color_GreenxxxMaterial_VAR', 'Color_GreenxxxSize_Price_mean', 'Color_GreenxxxSize_Count', 'Color_GreenxxxSize_STD', 'Color_GreenxxxSize_VAR', 'Color_GreenxxxStyle_Price_mean', 'Color_GreenxxxStyle_Count', 'Color_GreenxxxStyle_STD', 'Color_GreenxxxStyle_VAR', 'Color_GreenxxxLaptop Compartment', 'Color_GreenxxxWaterproof', 'Color_GreenxxxLaptop Compartment_Missing', 'Color_GreenxxxWaterproof_Missing', 'Color_GreenxxxWeight Capacity (kg)_Missing', 'Color_InconnuxxxCompartments', 'Color_InconnuxxxWeight Capacity (kg)', 'Color_InconnuxxxBrand_Price_mean', 'Color_InconnuxxxBrand_Count', 'Color_InconnuxxxBrand_STD', 'Color_InconnuxxxBrand_VAR', 'Color_InconnuxxxMaterial_Price_mean', 'Color_InconnuxxxMaterial_Count', 'Color_InconnuxxxMaterial_STD', 'Color_InconnuxxxMaterial_VAR', 'Color_InconnuxxxSize_Price_mean', 'Color_InconnuxxxSize_Count', 'Color_InconnuxxxSize_STD', 'Color_InconnuxxxSize_VAR', 'Color_InconnuxxxStyle_Price_mean', 'Color_InconnuxxxStyle_Count', 'Color_InconnuxxxStyle_STD', 'Color_InconnuxxxStyle_VAR', 'Color_InconnuxxxLaptop Compartment', 'Color_InconnuxxxWaterproof', 'Color_InconnuxxxLaptop Compartment_Missing', 'Color_InconnuxxxWaterproof_Missing', 'Color_InconnuxxxWeight Capacity (kg)_Missing', 'Color_PinkxxxCompartments', 'Color_PinkxxxWeight Capacity (kg)', 'Color_PinkxxxBrand_Price_mean', 'Color_PinkxxxBrand_Count', 'Color_PinkxxxBrand_STD', 'Color_PinkxxxBrand_VAR', 'Color_PinkxxxMaterial_Price_mean', 'Color_PinkxxxMaterial_Count', 'Color_PinkxxxMaterial_STD', 'Color_PinkxxxMaterial_VAR', 'Color_PinkxxxSize_Price_mean', 'Color_PinkxxxSize_Count', 'Color_PinkxxxSize_STD', 'Color_PinkxxxSize_VAR', 'Color_PinkxxxStyle_Price_mean', 'Color_PinkxxxStyle_Count', 'Color_PinkxxxStyle_STD', 'Color_PinkxxxStyle_VAR', 'Color_PinkxxxLaptop Compartment', 'Color_PinkxxxWaterproof', 'Color_PinkxxxLaptop Compartment_Missing', 'Color_PinkxxxWaterproof_Missing', 'Color_PinkxxxWeight Capacity (kg)_Missing', 'Color_RedxxxCompartments', 'Color_RedxxxWeight Capacity (kg)', 'Color_RedxxxBrand_Price_mean', 'Color_RedxxxBrand_Count', 'Color_RedxxxBrand_STD', 'Color_RedxxxBrand_VAR', 'Color_RedxxxMaterial_Price_mean', 'Color_RedxxxMaterial_Count', 'Color_RedxxxMaterial_STD', 'Color_RedxxxMaterial_VAR', 'Color_RedxxxSize_Price_mean', 'Color_RedxxxSize_Count', 'Color_RedxxxSize_STD', 'Color_RedxxxSize_VAR', 'Color_RedxxxStyle_Price_mean', 'Color_RedxxxStyle_Count', 'Color_RedxxxStyle_STD', 'Color_RedxxxStyle_VAR', 'Color_RedxxxLaptop Compartment', 'Color_RedxxxWaterproof', 'Color_RedxxxLaptop Compartment_Missing', 'Color_RedxxxWaterproof_Missing', 'Color_RedxxxWeight Capacity (kg)_Missing', 'CompartmentsxxxWeight Capacity (kg)', 'CompartmentsxxxBrand_Price_mean', 'CompartmentsxxxBrand_Count', 'CompartmentsxxxBrand_STD', 'CompartmentsxxxBrand_VAR', 'CompartmentsxxxMaterial_Price_mean', 'CompartmentsxxxMaterial_Count', 'CompartmentsxxxMaterial_STD', 'CompartmentsxxxMaterial_VAR', 'CompartmentsxxxSize_Price_mean', 'CompartmentsxxxSize_Count', 'CompartmentsxxxSize_STD', 'CompartmentsxxxSize_VAR', 'CompartmentsxxxStyle_Price_mean', 'CompartmentsxxxStyle_Count', 'CompartmentsxxxStyle_STD', 'CompartmentsxxxStyle_VAR', 'CompartmentsxxxColor_Price_mean', 'CompartmentsxxxColor_Count', 'CompartmentsxxxColor_STD', 'CompartmentsxxxColor_VAR', 'CompartmentsxxxLaptop Compartment', 'CompartmentsxxxWaterproof', 'CompartmentsxxxLaptop Compartment_Missing', 'CompartmentsxxxWaterproof_Missing', 'CompartmentsxxxWeight Capacity (kg)_Missing', 'Weight Capacity (kg)xxxBrand_Price_mean', 'Weight Capacity (kg)xxxBrand_Count', 'Weight Capacity (kg)xxxBrand_STD', 'Weight Capacity (kg)xxxBrand_VAR', 'Weight Capacity (kg)xxxMaterial_Price_mean', 'Weight Capacity (kg)xxxMaterial_Count', 'Weight Capacity (kg)xxxMaterial_STD', 'Weight Capacity (kg)xxxMaterial_VAR', 'Weight Capacity (kg)xxxSize_Price_mean', 'Weight Capacity (kg)xxxSize_Count', 'Weight Capacity (kg)xxxSize_STD', 'Weight Capacity (kg)xxxSize_VAR', 'Weight Capacity (kg)xxxStyle_Price_mean', 'Weight Capacity (kg)xxxStyle_Count', 'Weight Capacity (kg)xxxStyle_STD', 'Weight Capacity (kg)xxxStyle_VAR', 'Weight Capacity (kg)xxxColor_Price_mean', 'Weight Capacity (kg)xxxColor_Count', 'Weight Capacity (kg)xxxColor_STD', 'Weight Capacity (kg)xxxColor_VAR', 'Weight Capacity (kg)xxxLaptop Compartment', 'Weight Capacity (kg)xxxWaterproof', 'Weight Capacity (kg)xxxLaptop Compartment_Missing', 'Weight Capacity (kg)xxxWaterproof_Missing', 'Brand_Price_meanxxxMaterial_Price_mean', 'Brand_Price_meanxxxMaterial_Count', 'Brand_Price_meanxxxMaterial_STD', 'Brand_Price_meanxxxMaterial_VAR', 'Brand_Price_meanxxxSize_Price_mean', 'Brand_Price_meanxxxSize_Count', 'Brand_Price_meanxxxSize_STD', 'Brand_Price_meanxxxSize_VAR', 'Brand_Price_meanxxxStyle_Price_mean', 'Brand_Price_meanxxxStyle_Count', 'Brand_Price_meanxxxStyle_STD', 'Brand_Price_meanxxxStyle_VAR', 'Brand_Price_meanxxxColor_Price_mean', 'Brand_Price_meanxxxColor_Count', 'Brand_Price_meanxxxColor_STD', 'Brand_Price_meanxxxColor_VAR', 'Brand_Price_meanxxxLaptop Compartment', 'Brand_Price_meanxxxWaterproof', 'Brand_Price_meanxxxLaptop Compartment_Missing', 'Brand_Price_meanxxxWaterproof_Missing', 'Brand_Price_meanxxxWeight Capacity (kg)_Missing', 'Brand_CountxxxMaterial_Price_mean', 'Brand_CountxxxMaterial_Count', 'Brand_CountxxxMaterial_STD', 'Brand_CountxxxMaterial_VAR', 'Brand_CountxxxSize_Price_mean', 'Brand_CountxxxSize_Count', 'Brand_CountxxxSize_STD', 'Brand_CountxxxSize_VAR', 'Brand_CountxxxStyle_Price_mean', 'Brand_CountxxxStyle_Count', 'Brand_CountxxxStyle_STD', 'Brand_CountxxxStyle_VAR', 'Brand_CountxxxColor_Price_mean', 'Brand_CountxxxColor_Count', 'Brand_CountxxxColor_STD', 'Brand_CountxxxColor_VAR', 'Brand_CountxxxLaptop Compartment', 'Brand_CountxxxWaterproof', 'Brand_CountxxxLaptop Compartment_Missing', 'Brand_CountxxxWaterproof_Missing', 'Brand_CountxxxWeight Capacity (kg)_Missing', 'Brand_STDxxxMaterial_Price_mean', 'Brand_STDxxxMaterial_Count', 'Brand_STDxxxMaterial_STD', 'Brand_STDxxxMaterial_VAR', 'Brand_STDxxxSize_Price_mean', 'Brand_STDxxxSize_Count', 'Brand_STDxxxSize_STD', 'Brand_STDxxxSize_VAR', 'Brand_STDxxxStyle_Price_mean', 'Brand_STDxxxStyle_Count', 'Brand_STDxxxStyle_STD', 'Brand_STDxxxStyle_VAR', 'Brand_STDxxxColor_Price_mean', 'Brand_STDxxxColor_Count', 'Brand_STDxxxColor_STD', 'Brand_STDxxxColor_VAR', 'Brand_STDxxxLaptop Compartment', 'Brand_STDxxxWaterproof', 'Brand_STDxxxLaptop Compartment_Missing', 'Brand_STDxxxWaterproof_Missing', 'Brand_STDxxxWeight Capacity (kg)_Missing', 'Brand_VARxxxMaterial_Price_mean', 'Brand_VARxxxMaterial_Count', 'Brand_VARxxxMaterial_STD', 'Brand_VARxxxMaterial_VAR', 'Brand_VARxxxSize_Price_mean', 'Brand_VARxxxSize_Count', 'Brand_VARxxxSize_STD', 'Brand_VARxxxSize_VAR', 'Brand_VARxxxStyle_Price_mean', 'Brand_VARxxxStyle_Count', 'Brand_VARxxxStyle_STD', 'Brand_VARxxxStyle_VAR', 'Brand_VARxxxColor_Price_mean', 'Brand_VARxxxColor_Count', 'Brand_VARxxxColor_STD', 'Brand_VARxxxColor_VAR', 'Brand_VARxxxLaptop Compartment', 'Brand_VARxxxWaterproof', 'Brand_VARxxxLaptop Compartment_Missing', 'Brand_VARxxxWaterproof_Missing', 'Brand_VARxxxWeight Capacity (kg)_Missing', 'Material_Price_meanxxxSize_Price_mean', 'Material_Price_meanxxxSize_Count', 'Material_Price_meanxxxSize_STD', 'Material_Price_meanxxxSize_VAR', 'Material_Price_meanxxxStyle_Price_mean', 'Material_Price_meanxxxStyle_Count', 'Material_Price_meanxxxStyle_STD', 'Material_Price_meanxxxStyle_VAR', 'Material_Price_meanxxxColor_Price_mean', 'Material_Price_meanxxxColor_Count', 'Material_Price_meanxxxColor_STD', 'Material_Price_meanxxxColor_VAR', 'Material_Price_meanxxxLaptop Compartment', 'Material_Price_meanxxxWaterproof', 'Material_Price_meanxxxLaptop Compartment_Missing', 'Material_Price_meanxxxWaterproof_Missing', 'Material_Price_meanxxxWeight Capacity (kg)_Missing', 'Material_CountxxxSize_Price_mean', 'Material_CountxxxSize_Count', 'Material_CountxxxSize_STD', 'Material_CountxxxSize_VAR', 'Material_CountxxxStyle_Price_mean', 'Material_CountxxxStyle_Count', 'Material_CountxxxStyle_STD', 'Material_CountxxxStyle_VAR', 'Material_CountxxxColor_Price_mean', 'Material_CountxxxColor_Count', 'Material_CountxxxColor_STD', 'Material_CountxxxColor_VAR', 'Material_CountxxxLaptop Compartment', 'Material_CountxxxWaterproof', 'Material_CountxxxLaptop Compartment_Missing', 'Material_CountxxxWaterproof_Missing', 'Material_CountxxxWeight Capacity (kg)_Missing', 'Material_STDxxxSize_Price_mean', 'Material_STDxxxSize_Count', 'Material_STDxxxSize_STD', 'Material_STDxxxSize_VAR', 'Material_STDxxxStyle_Price_mean', 'Material_STDxxxStyle_Count', 'Material_STDxxxStyle_STD', 'Material_STDxxxStyle_VAR', 'Material_STDxxxColor_Price_mean', 'Material_STDxxxColor_Count', 'Material_STDxxxColor_STD', 'Material_STDxxxColor_VAR', 'Material_STDxxxLaptop Compartment', 'Material_STDxxxWaterproof', 'Material_STDxxxLaptop Compartment_Missing', 'Material_STDxxxWaterproof_Missing', 'Material_STDxxxWeight Capacity (kg)_Missing', 'Material_VARxxxSize_Price_mean', 'Material_VARxxxSize_Count', 'Material_VARxxxSize_STD', 'Material_VARxxxSize_VAR', 'Material_VARxxxStyle_Price_mean', 'Material_VARxxxStyle_Count', 'Material_VARxxxStyle_STD', 'Material_VARxxxStyle_VAR', 'Material_VARxxxColor_Price_mean', 'Material_VARxxxColor_Count', 'Material_VARxxxColor_STD', 'Material_VARxxxColor_VAR', 'Material_VARxxxLaptop Compartment', 'Material_VARxxxWaterproof', 'Material_VARxxxLaptop Compartment_Missing', 'Material_VARxxxWaterproof_Missing', 'Material_VARxxxWeight Capacity (kg)_Missing', 'Size_Price_meanxxxStyle_Price_mean', 'Size_Price_meanxxxStyle_Count', 'Size_Price_meanxxxStyle_STD', 'Size_Price_meanxxxStyle_VAR', 'Size_Price_meanxxxColor_Price_mean', 'Size_Price_meanxxxColor_Count', 'Size_Price_meanxxxColor_STD', 'Size_Price_meanxxxColor_VAR', 'Size_Price_meanxxxLaptop Compartment', 'Size_Price_meanxxxWaterproof', 'Size_Price_meanxxxLaptop Compartment_Missing', 'Size_Price_meanxxxWaterproof_Missing', 'Size_Price_meanxxxWeight Capacity (kg)_Missing', 'Size_CountxxxStyle_Price_mean', 'Size_CountxxxStyle_Count', 'Size_CountxxxStyle_STD', 'Size_CountxxxStyle_VAR', 'Size_CountxxxColor_Price_mean', 'Size_CountxxxColor_Count', 'Size_CountxxxColor_STD', 'Size_CountxxxColor_VAR', 'Size_CountxxxLaptop Compartment', 'Size_CountxxxWaterproof', 'Size_CountxxxLaptop Compartment_Missing', 'Size_CountxxxWaterproof_Missing', 'Size_CountxxxWeight Capacity (kg)_Missing', 'Size_STDxxxStyle_Price_mean', 'Size_STDxxxStyle_Count', 'Size_STDxxxStyle_STD', 'Size_STDxxxStyle_VAR', 'Size_STDxxxColor_Price_mean', 'Size_STDxxxColor_Count', 'Size_STDxxxColor_STD', 'Size_STDxxxColor_VAR', 'Size_STDxxxLaptop Compartment', 'Size_STDxxxWaterproof', 'Size_STDxxxLaptop Compartment_Missing', 'Size_STDxxxWaterproof_Missing', 'Size_STDxxxWeight Capacity (kg)_Missing', 'Size_VARxxxStyle_Price_mean', 'Size_VARxxxStyle_Count', 'Size_VARxxxStyle_STD', 'Size_VARxxxStyle_VAR', 'Size_VARxxxColor_Price_mean', 'Size_VARxxxColor_Count', 'Size_VARxxxColor_STD', 'Size_VARxxxColor_VAR', 'Size_VARxxxLaptop Compartment', 'Size_VARxxxWaterproof', 'Size_VARxxxLaptop Compartment_Missing', 'Size_VARxxxWaterproof_Missing', 'Size_VARxxxWeight Capacity (kg)_Missing', 'Style_Price_meanxxxColor_Price_mean', 'Style_Price_meanxxxColor_Count', 'Style_Price_meanxxxColor_STD', 'Style_Price_meanxxxColor_VAR', 'Style_Price_meanxxxLaptop Compartment', 'Style_Price_meanxxxWaterproof', 'Style_Price_meanxxxLaptop Compartment_Missing', 'Style_Price_meanxxxWaterproof_Missing', 'Style_Price_meanxxxWeight Capacity (kg)_Missing', 'Style_CountxxxColor_Price_mean', 'Style_CountxxxColor_Count', 'Style_CountxxxColor_STD', 'Style_CountxxxColor_VAR', 'Style_CountxxxLaptop Compartment', 'Style_CountxxxWaterproof', 'Style_CountxxxLaptop Compartment_Missing', 'Style_CountxxxWaterproof_Missing', 'Style_CountxxxWeight Capacity (kg)_Missing', 'Style_STDxxxColor_Price_mean', 'Style_STDxxxColor_Count', 'Style_STDxxxColor_STD', 'Style_STDxxxColor_VAR', 'Style_STDxxxLaptop Compartment', 'Style_STDxxxWaterproof', 'Style_STDxxxLaptop Compartment_Missing', 'Style_STDxxxWaterproof_Missing', 'Style_STDxxxWeight Capacity (kg)_Missing', 'Style_VARxxxColor_Price_mean', 'Style_VARxxxColor_Count', 'Style_VARxxxColor_STD', 'Style_VARxxxColor_VAR', 'Style_VARxxxLaptop Compartment', 'Style_VARxxxWaterproof', 'Style_VARxxxLaptop Compartment_Missing', 'Style_VARxxxWaterproof_Missing', 'Style_VARxxxWeight Capacity (kg)_Missing', 'Color_Price_meanxxxLaptop Compartment', 'Color_Price_meanxxxWaterproof', 'Color_Price_meanxxxLaptop Compartment_Missing', 'Color_Price_meanxxxWaterproof_Missing', 'Color_Price_meanxxxWeight Capacity (kg)_Missing', 'Color_CountxxxLaptop Compartment', 'Color_CountxxxWaterproof', 'Color_CountxxxLaptop Compartment_Missing', 'Color_CountxxxWaterproof_Missing', 'Color_CountxxxWeight Capacity (kg)_Missing', 'Color_STDxxxLaptop Compartment', 'Color_STDxxxWaterproof', 'Color_STDxxxLaptop Compartment_Missing', 'Color_STDxxxWaterproof_Missing', 'Color_STDxxxWeight Capacity (kg)_Missing', 'Color_VARxxxLaptop Compartment', 'Color_VARxxxWaterproof', 'Color_VARxxxLaptop Compartment_Missing', 'Color_VARxxxWaterproof_Missing', 'Color_VARxxxWeight Capacity (kg)_Missing', 'Laptop CompartmentxxxWaterproof', 'Laptop CompartmentxxxWaterproof_Missing', 'Laptop CompartmentxxxWeight Capacity (kg)_Missing', 'WaterproofxxxLaptop Compartment_Missing', 'WaterproofxxxWeight Capacity (kg)_Missing', 'Laptop Compartment_MissingxxxWaterproof_Missing', 'Laptop Compartment_MissingxxxWeight Capacity (kg)_Missing', 'Waterproof_MissingxxxWeight Capacity (kg)_Missing']\n",
      "1183\n"
     ]
    }
   ],
   "source": [
    "combination_names = [f\"{tpl[0]}xxx{tpl[1]}\" for tpl in combinations_filtered]\n",
    "print(combination_names)\n",
    "print(len(combination_names))"
   ]
  },
  {
   "cell_type": "code",
   "execution_count": null,
   "metadata": {},
   "outputs": [],
   "source": [
    "import xgboost as xgb\n",
    "import time\n",
    "test_score_dict = {}\n",
    "\n",
    "for index, new_col in enumerate(combination_names, len(combination_names)-len(combination_names)):\n",
    "    start_time = time.time()\n",
    "    temporary_X = X.copy()\n",
    "    separation = new_col.split(\"xxx\")\n",
    "    first_col = separation[0]\n",
    "    second_col = separation[1]\n",
    "    temporary_X[new_col] = temporary_X[first_col] * temporary_X[second_col]\n",
    "    model = xgb.XGBRegressor()\n",
    "    cv_results = cross_val_score(model, temporary_X, y, cv=3, scoring='neg_root_mean_squared_error', n_jobs=-1)\n",
    "    print(f\"cross validation {index + 1} / {len(combination_names)} done !\")\n",
    "    test_score_dict[new_col] = cv_results.mean()\n",
    "\n",
    "    end_time = time.time()\n",
    "    elapsed_time = end_time - start_time\n",
    "    print(f\"Temps écoulé : {elapsed_time:.6f} secondes\")"
   ]
  },
  {
   "cell_type": "code",
   "execution_count": null,
   "metadata": {},
   "outputs": [],
   "source": [
    "sorted_dict = dict(sorted(test_score_dict.items(), key=lambda item: item[1]))"
   ]
  },
  {
   "cell_type": "code",
   "execution_count": null,
   "metadata": {},
   "outputs": [],
   "source": [
    "import json\n",
    "file_path = 'test_scores_sorted_cv=4_300k_lines.json'\n",
    "with open(file_path, 'w') as json_file:\n",
    "    json.dump(sorted_dict, json_file, indent=4)"
   ]
  },
  {
   "cell_type": "code",
   "execution_count": null,
   "metadata": {},
   "outputs": [],
   "source": [
    "listeee = list(test_score_dict.values())\n",
    "listeee.sort()\n",
    "print(min(listeee))\n",
    "print(max(listeee))\n",
    "print(np.mean(listeee))"
   ]
  },
  {
   "cell_type": "markdown",
   "metadata": {},
   "source": [
    "#### this last too much time, about 2 hours by reducing the len of the data to 150k lines, maybe delete the target encoding ? train_test_split instead of CV ?"
   ]
  },
  {
   "cell_type": "markdown",
   "metadata": {},
   "source": [
    "END OF THE SECOND SANDBOX\n",
    "\n",
    "---"
   ]
  },
  {
   "cell_type": "code",
   "execution_count": null,
   "metadata": {},
   "outputs": [],
   "source": [
    "from sklearn.linear_model import LinearRegression\n",
    "import xgboost as xgb"
   ]
  },
  {
   "cell_type": "code",
   "execution_count": null,
   "metadata": {},
   "outputs": [],
   "source": [
    "#model = LinearRegression()\n",
    "model = xgb.XGBRegressor()"
   ]
  },
  {
   "cell_type": "markdown",
   "metadata": {},
   "source": [
    "---"
   ]
  },
  {
   "cell_type": "markdown",
   "metadata": {},
   "source": [
    "CROSS VAL"
   ]
  },
  {
   "cell_type": "code",
   "execution_count": null,
   "metadata": {},
   "outputs": [],
   "source": [
    "cv_results = cross_validate(model, X, y, cv=5, verbose=4, return_train_score=True, scoring='neg_root_mean_squared_error', n_jobs=-1)\n",
    "cv_results"
   ]
  },
  {
   "cell_type": "code",
   "execution_count": null,
   "metadata": {},
   "outputs": [],
   "source": [
    "cv_results['test_score'].mean()"
   ]
  },
  {
   "cell_type": "code",
   "execution_count": null,
   "metadata": {},
   "outputs": [],
   "source": [
    "model.fit(X, y, verbose=3)"
   ]
  },
  {
   "cell_type": "markdown",
   "metadata": {},
   "source": [
    "---"
   ]
  },
  {
   "cell_type": "markdown",
   "metadata": {},
   "source": [
    "GRID SEARCH"
   ]
  },
  {
   "cell_type": "code",
   "execution_count": null,
   "metadata": {},
   "outputs": [],
   "source": [
    "from sklearn.model_selection import GridSearchCV"
   ]
  },
  {
   "cell_type": "code",
   "execution_count": null,
   "metadata": {},
   "outputs": [],
   "source": [
    "xgboost_param_grid = {\n",
    "    'n_estimators': [100, 200, 300],  \n",
    "    'max_depth': [6, 10, 15],  \n",
    "    'learning_rate': [0.01, 0.1, 0.2],\n",
    "    'subsample': [0.8, 0.9, 1.0],\n",
    "    'colsample_bytree': [0.6, 0.8, 1.0],\n",
    "    'reg_alpha': [0, 0.1, 0.5],\n",
    "    'reg_lambda': [0.1, 1.0, 10.0],\n",
    "    'eval_metric': ['logloss'],\n",
    "    'booster': ['gbtree'],\n",
    "    'min_child_weight': [1, 3, 5]\n",
    "}\n",
    "\n",
    "xgboost_grid = GridSearchCV(\n",
    "    estimator=model,\n",
    "    param_grid=xgboost_param_grid,\n",
    "    scoring='neg_root_mean_squared_error',\n",
    "    cv=5,\n",
    "    verbose=3,\n",
    "    n_jobs=-1\n",
    ")"
   ]
  },
  {
   "cell_type": "code",
   "execution_count": null,
   "metadata": {},
   "outputs": [],
   "source": [
    "#xgboost_grid.fit(X, y)\n",
    "#print(f\"Best XGBoost Params: {xgboost_grid.best_params_}\")\n",
    "#xgboost_best_model = xgboost_grid.best_estimator_"
   ]
  },
  {
   "cell_type": "markdown",
   "metadata": {},
   "source": [
    "---"
   ]
  },
  {
   "cell_type": "markdown",
   "metadata": {},
   "source": [
    "DATA TEST"
   ]
  },
  {
   "cell_type": "code",
   "execution_count": null,
   "metadata": {},
   "outputs": [],
   "source": [
    "test = pd.read_csv('test.csv', index_col=0)\n",
    "test.head()"
   ]
  },
  {
   "cell_type": "code",
   "execution_count": null,
   "metadata": {},
   "outputs": [],
   "source": [
    "test = preprocess(test, submission=True)\n",
    "test.head()"
   ]
  },
  {
   "cell_type": "code",
   "execution_count": null,
   "metadata": {},
   "outputs": [],
   "source": [
    "test = pipeline.transform(test)\n",
    "test.head()"
   ]
  },
  {
   "cell_type": "code",
   "execution_count": null,
   "metadata": {},
   "outputs": [],
   "source": [
    "preds = pd.concat([pd.DataFrame(test.index), pd.DataFrame(model.predict(test))], axis=1, ignore_index=True)\n",
    "preds.columns = ['id', 'Price']\n",
    "print(len(preds))\n",
    "preds.head()"
   ]
  },
  {
   "cell_type": "code",
   "execution_count": null,
   "metadata": {},
   "outputs": [],
   "source": [
    "preds.to_csv('submission.csv', index=False)"
   ]
  }
 ],
 "metadata": {
  "kernelspec": {
   "display_name": "base",
   "language": "python",
   "name": "python3"
  },
  "language_info": {
   "codemirror_mode": {
    "name": "ipython",
    "version": 3
   },
   "file_extension": ".py",
   "mimetype": "text/x-python",
   "name": "python",
   "nbconvert_exporter": "python",
   "pygments_lexer": "ipython3",
   "version": "3.11.5"
  }
 },
 "nbformat": 4,
 "nbformat_minor": 2
}
