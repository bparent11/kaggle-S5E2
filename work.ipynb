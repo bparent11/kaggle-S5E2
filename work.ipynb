{
 "cells": [
  {
   "cell_type": "code",
   "execution_count": 93,
   "metadata": {},
   "outputs": [],
   "source": [
    "import numpy as np\n",
    "import pandas as pd\n",
    "import matplotlib.pyplot as plt\n",
    "import seaborn as sns\n",
    "import datetime as dt"
   ]
  },
  {
   "cell_type": "code",
   "execution_count": 94,
   "metadata": {},
   "outputs": [
    {
     "data": {
      "text/html": [
       "<div>\n",
       "<style scoped>\n",
       "    .dataframe tbody tr th:only-of-type {\n",
       "        vertical-align: middle;\n",
       "    }\n",
       "\n",
       "    .dataframe tbody tr th {\n",
       "        vertical-align: top;\n",
       "    }\n",
       "\n",
       "    .dataframe thead th {\n",
       "        text-align: right;\n",
       "    }\n",
       "</style>\n",
       "<table border=\"1\" class=\"dataframe\">\n",
       "  <thead>\n",
       "    <tr style=\"text-align: right;\">\n",
       "      <th></th>\n",
       "      <th>Brand</th>\n",
       "      <th>Material</th>\n",
       "      <th>Size</th>\n",
       "      <th>Compartments</th>\n",
       "      <th>Laptop Compartment</th>\n",
       "      <th>Waterproof</th>\n",
       "      <th>Style</th>\n",
       "      <th>Color</th>\n",
       "      <th>Weight Capacity (kg)</th>\n",
       "      <th>Price</th>\n",
       "    </tr>\n",
       "    <tr>\n",
       "      <th>id</th>\n",
       "      <th></th>\n",
       "      <th></th>\n",
       "      <th></th>\n",
       "      <th></th>\n",
       "      <th></th>\n",
       "      <th></th>\n",
       "      <th></th>\n",
       "      <th></th>\n",
       "      <th></th>\n",
       "      <th></th>\n",
       "    </tr>\n",
       "  </thead>\n",
       "  <tbody>\n",
       "    <tr>\n",
       "      <th>0</th>\n",
       "      <td>Jansport</td>\n",
       "      <td>Leather</td>\n",
       "      <td>Medium</td>\n",
       "      <td>7.0</td>\n",
       "      <td>Yes</td>\n",
       "      <td>No</td>\n",
       "      <td>Tote</td>\n",
       "      <td>Black</td>\n",
       "      <td>11.611723</td>\n",
       "      <td>112.15875</td>\n",
       "    </tr>\n",
       "    <tr>\n",
       "      <th>1</th>\n",
       "      <td>Jansport</td>\n",
       "      <td>Canvas</td>\n",
       "      <td>Small</td>\n",
       "      <td>10.0</td>\n",
       "      <td>Yes</td>\n",
       "      <td>Yes</td>\n",
       "      <td>Messenger</td>\n",
       "      <td>Green</td>\n",
       "      <td>27.078537</td>\n",
       "      <td>68.88056</td>\n",
       "    </tr>\n",
       "    <tr>\n",
       "      <th>2</th>\n",
       "      <td>Under Armour</td>\n",
       "      <td>Leather</td>\n",
       "      <td>Small</td>\n",
       "      <td>2.0</td>\n",
       "      <td>Yes</td>\n",
       "      <td>No</td>\n",
       "      <td>Messenger</td>\n",
       "      <td>Red</td>\n",
       "      <td>16.643760</td>\n",
       "      <td>39.17320</td>\n",
       "    </tr>\n",
       "  </tbody>\n",
       "</table>\n",
       "</div>"
      ],
      "text/plain": [
       "           Brand Material    Size  Compartments Laptop Compartment Waterproof  \\\n",
       "id                                                                              \n",
       "0       Jansport  Leather  Medium           7.0                Yes         No   \n",
       "1       Jansport   Canvas   Small          10.0                Yes        Yes   \n",
       "2   Under Armour  Leather   Small           2.0                Yes         No   \n",
       "\n",
       "        Style  Color  Weight Capacity (kg)      Price  \n",
       "id                                                     \n",
       "0        Tote  Black             11.611723  112.15875  \n",
       "1   Messenger  Green             27.078537   68.88056  \n",
       "2   Messenger    Red             16.643760   39.17320  "
      ]
     },
     "execution_count": 94,
     "metadata": {},
     "output_type": "execute_result"
    }
   ],
   "source": [
    "train = pd.read_csv(\"train.csv\", index_col=0)\n",
    "train.head(3)"
   ]
  },
  {
   "cell_type": "code",
   "execution_count": 95,
   "metadata": {},
   "outputs": [
    {
     "name": "stdout",
     "output_type": "stream",
     "text": [
      "<class 'pandas.core.frame.DataFrame'>\n",
      "Index: 300000 entries, 0 to 299999\n",
      "Data columns (total 10 columns):\n",
      " #   Column                Non-Null Count   Dtype  \n",
      "---  ------                --------------   -----  \n",
      " 0   Brand                 290295 non-null  object \n",
      " 1   Material              291653 non-null  object \n",
      " 2   Size                  293405 non-null  object \n",
      " 3   Compartments          300000 non-null  float64\n",
      " 4   Laptop Compartment    292556 non-null  object \n",
      " 5   Waterproof            292950 non-null  object \n",
      " 6   Style                 292030 non-null  object \n",
      " 7   Color                 290050 non-null  object \n",
      " 8   Weight Capacity (kg)  299862 non-null  float64\n",
      " 9   Price                 300000 non-null  float64\n",
      "dtypes: float64(3), object(7)\n",
      "memory usage: 25.2+ MB\n"
     ]
    }
   ],
   "source": [
    "train.info()"
   ]
  },
  {
   "cell_type": "code",
   "execution_count": 96,
   "metadata": {},
   "outputs": [
    {
     "data": {
      "text/html": [
       "<div>\n",
       "<style scoped>\n",
       "    .dataframe tbody tr th:only-of-type {\n",
       "        vertical-align: middle;\n",
       "    }\n",
       "\n",
       "    .dataframe tbody tr th {\n",
       "        vertical-align: top;\n",
       "    }\n",
       "\n",
       "    .dataframe thead th {\n",
       "        text-align: right;\n",
       "    }\n",
       "</style>\n",
       "<table border=\"1\" class=\"dataframe\">\n",
       "  <thead>\n",
       "    <tr style=\"text-align: right;\">\n",
       "      <th></th>\n",
       "      <th>Brand</th>\n",
       "      <th>Material</th>\n",
       "      <th>Size</th>\n",
       "      <th>Laptop Compartment</th>\n",
       "      <th>Waterproof</th>\n",
       "      <th>Style</th>\n",
       "      <th>Color</th>\n",
       "    </tr>\n",
       "  </thead>\n",
       "  <tbody>\n",
       "    <tr>\n",
       "      <th>count</th>\n",
       "      <td>290295</td>\n",
       "      <td>291653</td>\n",
       "      <td>293405</td>\n",
       "      <td>292556</td>\n",
       "      <td>292950</td>\n",
       "      <td>292030</td>\n",
       "      <td>290050</td>\n",
       "    </tr>\n",
       "    <tr>\n",
       "      <th>unique</th>\n",
       "      <td>5</td>\n",
       "      <td>4</td>\n",
       "      <td>3</td>\n",
       "      <td>2</td>\n",
       "      <td>2</td>\n",
       "      <td>3</td>\n",
       "      <td>6</td>\n",
       "    </tr>\n",
       "    <tr>\n",
       "      <th>top</th>\n",
       "      <td>Adidas</td>\n",
       "      <td>Polyester</td>\n",
       "      <td>Medium</td>\n",
       "      <td>Yes</td>\n",
       "      <td>Yes</td>\n",
       "      <td>Messenger</td>\n",
       "      <td>Pink</td>\n",
       "    </tr>\n",
       "    <tr>\n",
       "      <th>freq</th>\n",
       "      <td>60077</td>\n",
       "      <td>79630</td>\n",
       "      <td>101906</td>\n",
       "      <td>148342</td>\n",
       "      <td>148077</td>\n",
       "      <td>100031</td>\n",
       "      <td>51690</td>\n",
       "    </tr>\n",
       "  </tbody>\n",
       "</table>\n",
       "</div>"
      ],
      "text/plain": [
       "         Brand   Material    Size Laptop Compartment Waterproof      Style  \\\n",
       "count   290295     291653  293405             292556     292950     292030   \n",
       "unique       5          4       3                  2          2          3   \n",
       "top     Adidas  Polyester  Medium                Yes        Yes  Messenger   \n",
       "freq     60077      79630  101906             148342     148077     100031   \n",
       "\n",
       "         Color  \n",
       "count   290050  \n",
       "unique       6  \n",
       "top       Pink  \n",
       "freq     51690  "
      ]
     },
     "execution_count": 96,
     "metadata": {},
     "output_type": "execute_result"
    }
   ],
   "source": [
    "train.describe(exclude='float64')"
   ]
  },
  {
   "cell_type": "code",
   "execution_count": 97,
   "metadata": {},
   "outputs": [
    {
     "data": {
      "text/html": [
       "<div>\n",
       "<style scoped>\n",
       "    .dataframe tbody tr th:only-of-type {\n",
       "        vertical-align: middle;\n",
       "    }\n",
       "\n",
       "    .dataframe tbody tr th {\n",
       "        vertical-align: top;\n",
       "    }\n",
       "\n",
       "    .dataframe thead th {\n",
       "        text-align: right;\n",
       "    }\n",
       "</style>\n",
       "<table border=\"1\" class=\"dataframe\">\n",
       "  <thead>\n",
       "    <tr style=\"text-align: right;\">\n",
       "      <th></th>\n",
       "      <th>Compartments</th>\n",
       "      <th>Weight Capacity (kg)</th>\n",
       "      <th>Price</th>\n",
       "    </tr>\n",
       "  </thead>\n",
       "  <tbody>\n",
       "    <tr>\n",
       "      <th>count</th>\n",
       "      <td>300000.000000</td>\n",
       "      <td>299862.000000</td>\n",
       "      <td>300000.000000</td>\n",
       "    </tr>\n",
       "    <tr>\n",
       "      <th>mean</th>\n",
       "      <td>5.443590</td>\n",
       "      <td>18.029994</td>\n",
       "      <td>81.411107</td>\n",
       "    </tr>\n",
       "    <tr>\n",
       "      <th>std</th>\n",
       "      <td>2.890766</td>\n",
       "      <td>6.966914</td>\n",
       "      <td>39.039340</td>\n",
       "    </tr>\n",
       "    <tr>\n",
       "      <th>min</th>\n",
       "      <td>1.000000</td>\n",
       "      <td>5.000000</td>\n",
       "      <td>15.000000</td>\n",
       "    </tr>\n",
       "    <tr>\n",
       "      <th>25%</th>\n",
       "      <td>3.000000</td>\n",
       "      <td>12.097867</td>\n",
       "      <td>47.384620</td>\n",
       "    </tr>\n",
       "    <tr>\n",
       "      <th>50%</th>\n",
       "      <td>5.000000</td>\n",
       "      <td>18.068614</td>\n",
       "      <td>80.956120</td>\n",
       "    </tr>\n",
       "    <tr>\n",
       "      <th>75%</th>\n",
       "      <td>8.000000</td>\n",
       "      <td>24.002375</td>\n",
       "      <td>115.018160</td>\n",
       "    </tr>\n",
       "    <tr>\n",
       "      <th>max</th>\n",
       "      <td>10.000000</td>\n",
       "      <td>30.000000</td>\n",
       "      <td>150.000000</td>\n",
       "    </tr>\n",
       "  </tbody>\n",
       "</table>\n",
       "</div>"
      ],
      "text/plain": [
       "        Compartments  Weight Capacity (kg)          Price\n",
       "count  300000.000000         299862.000000  300000.000000\n",
       "mean        5.443590             18.029994      81.411107\n",
       "std         2.890766              6.966914      39.039340\n",
       "min         1.000000              5.000000      15.000000\n",
       "25%         3.000000             12.097867      47.384620\n",
       "50%         5.000000             18.068614      80.956120\n",
       "75%         8.000000             24.002375     115.018160\n",
       "max        10.000000             30.000000     150.000000"
      ]
     },
     "execution_count": 97,
     "metadata": {},
     "output_type": "execute_result"
    }
   ],
   "source": [
    "train.describe()"
   ]
  },
  {
   "cell_type": "code",
   "execution_count": 98,
   "metadata": {},
   "outputs": [
    {
     "data": {
      "text/html": [
       "<div>\n",
       "<style scoped>\n",
       "    .dataframe tbody tr th:only-of-type {\n",
       "        vertical-align: middle;\n",
       "    }\n",
       "\n",
       "    .dataframe tbody tr th {\n",
       "        vertical-align: top;\n",
       "    }\n",
       "\n",
       "    .dataframe thead th {\n",
       "        text-align: right;\n",
       "    }\n",
       "</style>\n",
       "<table border=\"1\" class=\"dataframe\">\n",
       "  <thead>\n",
       "    <tr style=\"text-align: right;\">\n",
       "      <th></th>\n",
       "      <th>Laptop Compartment</th>\n",
       "      <th>Waterproof</th>\n",
       "      <th>Price</th>\n",
       "    </tr>\n",
       "  </thead>\n",
       "  <tbody>\n",
       "    <tr>\n",
       "      <th>0</th>\n",
       "      <td>No</td>\n",
       "      <td>No</td>\n",
       "      <td>81.569353</td>\n",
       "    </tr>\n",
       "    <tr>\n",
       "      <th>1</th>\n",
       "      <td>No</td>\n",
       "      <td>Yes</td>\n",
       "      <td>81.476518</td>\n",
       "    </tr>\n",
       "    <tr>\n",
       "      <th>2</th>\n",
       "      <td>Yes</td>\n",
       "      <td>No</td>\n",
       "      <td>81.692752</td>\n",
       "    </tr>\n",
       "    <tr>\n",
       "      <th>3</th>\n",
       "      <td>Yes</td>\n",
       "      <td>Yes</td>\n",
       "      <td>81.405880</td>\n",
       "    </tr>\n",
       "  </tbody>\n",
       "</table>\n",
       "</div>"
      ],
      "text/plain": [
       "  Laptop Compartment Waterproof      Price\n",
       "0                 No         No  81.569353\n",
       "1                 No        Yes  81.476518\n",
       "2                Yes         No  81.692752\n",
       "3                Yes        Yes  81.405880"
      ]
     },
     "execution_count": 98,
     "metadata": {},
     "output_type": "execute_result"
    }
   ],
   "source": [
    "train.groupby(['Laptop Compartment', 'Waterproof'])['Price'].mean().to_frame().reset_index()"
   ]
  },
  {
   "cell_type": "code",
   "execution_count": 99,
   "metadata": {},
   "outputs": [
    {
     "data": {
      "image/png": "[encoded data removed]",
      "text/plain": [
       "<Figure size 640x480 with 1 Axes>"
      ]
     },
     "metadata": {},
     "output_type": "display_data"
    }
   ],
   "source": [
    "bins=np.arange(15, 150, 4)\n",
    "\n",
    "plt.hist(train.loc[train['Laptop Compartment'] == 'Yes', 'Price'], color='orange', alpha=0.8, label='Yes', bins=bins)\n",
    "plt.hist(train.loc[train['Laptop Compartment'] == 'No', 'Price'], color='purple', alpha=0.8, label='No', bins=bins)\n",
    "plt.title('Price distribution of backpack with Laptop Compartment')\n",
    "plt.legend()\n",
    "\n",
    "plt.show()"
   ]
  },
  {
   "cell_type": "markdown",
   "metadata": {},
   "source": [
    "---"
   ]
  },
  {
   "cell_type": "code",
   "execution_count": 100,
   "metadata": {},
   "outputs": [
    {
     "data": {
      "text/plain": [
       "Brand                   0\n",
       "Material                0\n",
       "Size                    0\n",
       "Compartments            0\n",
       "Laptop Compartment      0\n",
       "Waterproof              0\n",
       "Style                   0\n",
       "Color                   0\n",
       "Weight Capacity (kg)    0\n",
       "Price                   0\n",
       "dtype: int64"
      ]
     },
     "execution_count": 100,
     "metadata": {},
     "output_type": "execute_result"
    }
   ],
   "source": [
    "train[train.select_dtypes(include='object').columns] = train.select_dtypes(include='object').fillna('Inconnu')\n",
    "train[train.select_dtypes(include='number').columns] = train.select_dtypes(include='number').fillna(-1)\n",
    "train.isna().sum()"
   ]
  },
  {
   "cell_type": "code",
   "execution_count": 101,
   "metadata": {},
   "outputs": [
    {
     "data": {
      "text/html": [
       "<div>\n",
       "<style scoped>\n",
       "    .dataframe tbody tr th:only-of-type {\n",
       "        vertical-align: middle;\n",
       "    }\n",
       "\n",
       "    .dataframe tbody tr th {\n",
       "        vertical-align: top;\n",
       "    }\n",
       "\n",
       "    .dataframe thead th {\n",
       "        text-align: right;\n",
       "    }\n",
       "</style>\n",
       "<table border=\"1\" class=\"dataframe\">\n",
       "  <thead>\n",
       "    <tr style=\"text-align: right;\">\n",
       "      <th></th>\n",
       "      <th></th>\n",
       "      <th>Price</th>\n",
       "    </tr>\n",
       "    <tr>\n",
       "      <th>Brand</th>\n",
       "      <th>Material</th>\n",
       "      <th></th>\n",
       "    </tr>\n",
       "  </thead>\n",
       "  <tbody>\n",
       "    <tr>\n",
       "      <th>Inconnu</th>\n",
       "      <th>Inconnu</th>\n",
       "      <td>77.775788</td>\n",
       "    </tr>\n",
       "    <tr>\n",
       "      <th>Adidas</th>\n",
       "      <th>Leather</th>\n",
       "      <td>79.841314</td>\n",
       "    </tr>\n",
       "    <tr>\n",
       "      <th>Inconnu</th>\n",
       "      <th>Nylon</th>\n",
       "      <td>80.038115</td>\n",
       "    </tr>\n",
       "    <tr>\n",
       "      <th>Adidas</th>\n",
       "      <th>Nylon</th>\n",
       "      <td>80.049351</td>\n",
       "    </tr>\n",
       "    <tr>\n",
       "      <th>Inconnu</th>\n",
       "      <th>Leather</th>\n",
       "      <td>80.124717</td>\n",
       "    </tr>\n",
       "    <tr>\n",
       "      <th>Puma</th>\n",
       "      <th>Leather</th>\n",
       "      <td>80.361667</td>\n",
       "    </tr>\n",
       "    <tr>\n",
       "      <th>Nike</th>\n",
       "      <th>Leather</th>\n",
       "      <td>80.362421</td>\n",
       "    </tr>\n",
       "    <tr>\n",
       "      <th>Adidas</th>\n",
       "      <th>Inconnu</th>\n",
       "      <td>80.568979</td>\n",
       "    </tr>\n",
       "    <tr>\n",
       "      <th>Jansport</th>\n",
       "      <th>Leather</th>\n",
       "      <td>80.760899</td>\n",
       "    </tr>\n",
       "    <tr>\n",
       "      <th>Nike</th>\n",
       "      <th>Nylon</th>\n",
       "      <td>80.767257</td>\n",
       "    </tr>\n",
       "    <tr>\n",
       "      <th>Under Armour</th>\n",
       "      <th>Leather</th>\n",
       "      <td>80.929651</td>\n",
       "    </tr>\n",
       "    <tr>\n",
       "      <th>Puma</th>\n",
       "      <th>Nylon</th>\n",
       "      <td>81.047216</td>\n",
       "    </tr>\n",
       "    <tr>\n",
       "      <th>Nike</th>\n",
       "      <th>Inconnu</th>\n",
       "      <td>81.085102</td>\n",
       "    </tr>\n",
       "    <tr>\n",
       "      <th>Adidas</th>\n",
       "      <th>Polyester</th>\n",
       "      <td>81.201082</td>\n",
       "    </tr>\n",
       "    <tr>\n",
       "      <th>Under Armour</th>\n",
       "      <th>Nylon</th>\n",
       "      <td>81.236581</td>\n",
       "    </tr>\n",
       "    <tr>\n",
       "      <th>Adidas</th>\n",
       "      <th>Canvas</th>\n",
       "      <td>81.401693</td>\n",
       "    </tr>\n",
       "    <tr>\n",
       "      <th>Jansport</th>\n",
       "      <th>Inconnu</th>\n",
       "      <td>81.467910</td>\n",
       "    </tr>\n",
       "    <tr>\n",
       "      <th>Inconnu</th>\n",
       "      <th>Polyester</th>\n",
       "      <td>81.525002</td>\n",
       "    </tr>\n",
       "    <tr>\n",
       "      <th>Puma</th>\n",
       "      <th>Canvas</th>\n",
       "      <td>82.021767</td>\n",
       "    </tr>\n",
       "    <tr>\n",
       "      <th>Nike</th>\n",
       "      <th>Polyester</th>\n",
       "      <td>82.032439</td>\n",
       "    </tr>\n",
       "    <tr>\n",
       "      <th>Puma</th>\n",
       "      <th>Polyester</th>\n",
       "      <td>82.101212</td>\n",
       "    </tr>\n",
       "    <tr>\n",
       "      <th>Jansport</th>\n",
       "      <th>Polyester</th>\n",
       "      <td>82.121108</td>\n",
       "    </tr>\n",
       "    <tr>\n",
       "      <th>Nike</th>\n",
       "      <th>Canvas</th>\n",
       "      <td>82.123876</td>\n",
       "    </tr>\n",
       "    <tr>\n",
       "      <th rowspan=\"2\" valign=\"top\">Jansport</th>\n",
       "      <th>Canvas</th>\n",
       "      <td>82.142295</td>\n",
       "    </tr>\n",
       "    <tr>\n",
       "      <th>Nylon</th>\n",
       "      <td>82.201036</td>\n",
       "    </tr>\n",
       "    <tr>\n",
       "      <th>Inconnu</th>\n",
       "      <th>Canvas</th>\n",
       "      <td>82.273867</td>\n",
       "    </tr>\n",
       "    <tr>\n",
       "      <th rowspan=\"3\" valign=\"top\">Under Armour</th>\n",
       "      <th>Inconnu</th>\n",
       "      <td>82.568115</td>\n",
       "    </tr>\n",
       "    <tr>\n",
       "      <th>Polyester</th>\n",
       "      <td>82.812760</td>\n",
       "    </tr>\n",
       "    <tr>\n",
       "      <th>Canvas</th>\n",
       "      <td>82.818996</td>\n",
       "    </tr>\n",
       "    <tr>\n",
       "      <th>Puma</th>\n",
       "      <th>Inconnu</th>\n",
       "      <td>83.357143</td>\n",
       "    </tr>\n",
       "  </tbody>\n",
       "</table>\n",
       "</div>"
      ],
      "text/plain": [
       "                            Price\n",
       "Brand        Material            \n",
       "Inconnu      Inconnu    77.775788\n",
       "Adidas       Leather    79.841314\n",
       "Inconnu      Nylon      80.038115\n",
       "Adidas       Nylon      80.049351\n",
       "Inconnu      Leather    80.124717\n",
       "Puma         Leather    80.361667\n",
       "Nike         Leather    80.362421\n",
       "Adidas       Inconnu    80.568979\n",
       "Jansport     Leather    80.760899\n",
       "Nike         Nylon      80.767257\n",
       "Under Armour Leather    80.929651\n",
       "Puma         Nylon      81.047216\n",
       "Nike         Inconnu    81.085102\n",
       "Adidas       Polyester  81.201082\n",
       "Under Armour Nylon      81.236581\n",
       "Adidas       Canvas     81.401693\n",
       "Jansport     Inconnu    81.467910\n",
       "Inconnu      Polyester  81.525002\n",
       "Puma         Canvas     82.021767\n",
       "Nike         Polyester  82.032439\n",
       "Puma         Polyester  82.101212\n",
       "Jansport     Polyester  82.121108\n",
       "Nike         Canvas     82.123876\n",
       "Jansport     Canvas     82.142295\n",
       "             Nylon      82.201036\n",
       "Inconnu      Canvas     82.273867\n",
       "Under Armour Inconnu    82.568115\n",
       "             Polyester  82.812760\n",
       "             Canvas     82.818996\n",
       "Puma         Inconnu    83.357143"
      ]
     },
     "execution_count": 101,
     "metadata": {},
     "output_type": "execute_result"
    }
   ],
   "source": [
    "gb = train.groupby([\"Brand\", \"Material\"])['Price'].mean().to_frame().sort_values(by='Price')\n",
    "gb"
   ]
  },
  {
   "cell_type": "markdown",
   "metadata": {},
   "source": [
    "Prices for both Brand and Material which are NA are pretty low. Combination is to implement."
   ]
  },
  {
   "cell_type": "markdown",
   "metadata": {},
   "source": [
    "---"
   ]
  },
  {
   "cell_type": "code",
   "execution_count": 102,
   "metadata": {},
   "outputs": [
    {
     "data": {
      "image/png": "[encoded data removed]",
      "text/plain": [
       "<Figure size 600x1500 with 7 Axes>"
      ]
     },
     "metadata": {},
     "output_type": "display_data"
    }
   ],
   "source": [
    "fig, ax = plt.subplots(len(train.select_dtypes(include='object').columns), 1, figsize=(6,15))\n",
    "ax = ax.flatten()\n",
    "count=0\n",
    "\n",
    "for col in train.select_dtypes(include='object').columns:\n",
    "    gb = train.groupby(col)['Price'].mean().to_frame().sort_values(by='Price')\n",
    "\n",
    "    low, high = gb['Price'].quantile([0.02, 1])  # Garde les valeurs entre le 2e et 100e percentile\n",
    "    ax[count].set_ylim(low - 0.3, high + 0.5)\n",
    "\n",
    "    ax[count].set_title(f'Average price, grouped by {col}')\n",
    "    ax[count].bar(x=gb.index, height=gb['Price'])\n",
    "\n",
    "    count += 1\n",
    "    \n",
    "plt.tight_layout()"
   ]
  },
  {
   "cell_type": "markdown",
   "metadata": {},
   "source": [
    "Inconnu give some good insight for Style, Waterproof, Laptop Compartment and Size !"
   ]
  },
  {
   "cell_type": "markdown",
   "metadata": {},
   "source": [
    "---"
   ]
  },
  {
   "cell_type": "code",
   "execution_count": 103,
   "metadata": {},
   "outputs": [
    {
     "data": {
      "text/plain": [
       "Index(['Compartments', 'Weight Capacity (kg)', 'Price'], dtype='object')"
      ]
     },
     "execution_count": 103,
     "metadata": {},
     "output_type": "execute_result"
    }
   ],
   "source": [
    "train.select_dtypes(include='number').columns"
   ]
  },
  {
   "cell_type": "code",
   "execution_count": 104,
   "metadata": {},
   "outputs": [
    {
     "data": {
      "text/html": [
       "<div>\n",
       "<style scoped>\n",
       "    .dataframe tbody tr th:only-of-type {\n",
       "        vertical-align: middle;\n",
       "    }\n",
       "\n",
       "    .dataframe tbody tr th {\n",
       "        vertical-align: top;\n",
       "    }\n",
       "\n",
       "    .dataframe thead th {\n",
       "        text-align: right;\n",
       "    }\n",
       "</style>\n",
       "<table border=\"1\" class=\"dataframe\">\n",
       "  <thead>\n",
       "    <tr style=\"text-align: right;\">\n",
       "      <th></th>\n",
       "      <th>Price</th>\n",
       "    </tr>\n",
       "    <tr>\n",
       "      <th>Compartments</th>\n",
       "      <th></th>\n",
       "    </tr>\n",
       "  </thead>\n",
       "  <tbody>\n",
       "    <tr>\n",
       "      <th>1.0</th>\n",
       "      <td>81.263845</td>\n",
       "    </tr>\n",
       "    <tr>\n",
       "      <th>2.0</th>\n",
       "      <td>81.171776</td>\n",
       "    </tr>\n",
       "    <tr>\n",
       "      <th>3.0</th>\n",
       "      <td>81.332909</td>\n",
       "    </tr>\n",
       "    <tr>\n",
       "      <th>4.0</th>\n",
       "      <td>81.969078</td>\n",
       "    </tr>\n",
       "    <tr>\n",
       "      <th>5.0</th>\n",
       "      <td>81.477310</td>\n",
       "    </tr>\n",
       "    <tr>\n",
       "      <th>6.0</th>\n",
       "      <td>81.452368</td>\n",
       "    </tr>\n",
       "    <tr>\n",
       "      <th>7.0</th>\n",
       "      <td>81.440569</td>\n",
       "    </tr>\n",
       "    <tr>\n",
       "      <th>8.0</th>\n",
       "      <td>81.906747</td>\n",
       "    </tr>\n",
       "    <tr>\n",
       "      <th>9.0</th>\n",
       "      <td>80.418818</td>\n",
       "    </tr>\n",
       "    <tr>\n",
       "      <th>10.0</th>\n",
       "      <td>81.685283</td>\n",
       "    </tr>\n",
       "  </tbody>\n",
       "</table>\n",
       "</div>"
      ],
      "text/plain": [
       "                  Price\n",
       "Compartments           \n",
       "1.0           81.263845\n",
       "2.0           81.171776\n",
       "3.0           81.332909\n",
       "4.0           81.969078\n",
       "5.0           81.477310\n",
       "6.0           81.452368\n",
       "7.0           81.440569\n",
       "8.0           81.906747\n",
       "9.0           80.418818\n",
       "10.0          81.685283"
      ]
     },
     "execution_count": 104,
     "metadata": {},
     "output_type": "execute_result"
    }
   ],
   "source": [
    "gb = train.groupby('Compartments')['Price'].mean().to_frame()\n",
    "gb"
   ]
  },
  {
   "cell_type": "code",
   "execution_count": 105,
   "metadata": {},
   "outputs": [
    {
     "data": {
      "text/plain": [
       "(80.05435061932081, 82.46907765921645)"
      ]
     },
     "execution_count": 105,
     "metadata": {},
     "output_type": "execute_result"
    },
    {
     "data": {
      "image/png": "[encoded data removed]",
      "text/plain": [
       "<Figure size 640x480 with 1 Axes>"
      ]
     },
     "metadata": {},
     "output_type": "display_data"
    }
   ],
   "source": [
    "plt.bar(x=gb.index, height=gb['Price'])\n",
    "low, high = gb['Price'].quantile([0.02, 1])\n",
    "plt.ylim((low - 0.5, high + 0.5))"
   ]
  },
  {
   "cell_type": "code",
   "execution_count": 106,
   "metadata": {},
   "outputs": [
    {
     "data": {
      "text/html": [
       "<div>\n",
       "<style scoped>\n",
       "    .dataframe tbody tr th:only-of-type {\n",
       "        vertical-align: middle;\n",
       "    }\n",
       "\n",
       "    .dataframe tbody tr th {\n",
       "        vertical-align: top;\n",
       "    }\n",
       "\n",
       "    .dataframe thead th {\n",
       "        text-align: right;\n",
       "    }\n",
       "</style>\n",
       "<table border=\"1\" class=\"dataframe\">\n",
       "  <thead>\n",
       "    <tr style=\"text-align: right;\">\n",
       "      <th></th>\n",
       "      <th>Price</th>\n",
       "    </tr>\n",
       "    <tr>\n",
       "      <th>Weight Capacity (kg)</th>\n",
       "      <th></th>\n",
       "    </tr>\n",
       "  </thead>\n",
       "  <tbody>\n",
       "    <tr>\n",
       "      <th>-1.000000</th>\n",
       "      <td>62.660329</td>\n",
       "    </tr>\n",
       "    <tr>\n",
       "      <th>5.000000</th>\n",
       "      <td>78.304714</td>\n",
       "    </tr>\n",
       "    <tr>\n",
       "      <th>5.004444</th>\n",
       "      <td>132.156440</td>\n",
       "    </tr>\n",
       "    <tr>\n",
       "      <th>5.008382</th>\n",
       "      <td>143.890560</td>\n",
       "    </tr>\n",
       "    <tr>\n",
       "      <th>5.009731</th>\n",
       "      <td>144.075910</td>\n",
       "    </tr>\n",
       "    <tr>\n",
       "      <th>...</th>\n",
       "      <td>...</td>\n",
       "    </tr>\n",
       "    <tr>\n",
       "      <th>29.996888</th>\n",
       "      <td>117.151670</td>\n",
       "    </tr>\n",
       "    <tr>\n",
       "      <th>29.997986</th>\n",
       "      <td>68.255628</td>\n",
       "    </tr>\n",
       "    <tr>\n",
       "      <th>29.998925</th>\n",
       "      <td>104.765930</td>\n",
       "    </tr>\n",
       "    <tr>\n",
       "      <th>29.999796</th>\n",
       "      <td>35.365320</td>\n",
       "    </tr>\n",
       "    <tr>\n",
       "      <th>30.000000</th>\n",
       "      <td>73.791875</td>\n",
       "    </tr>\n",
       "  </tbody>\n",
       "</table>\n",
       "<p>181597 rows × 1 columns</p>\n",
       "</div>"
      ],
      "text/plain": [
       "                           Price\n",
       "Weight Capacity (kg)            \n",
       "-1.000000              62.660329\n",
       " 5.000000              78.304714\n",
       " 5.004444             132.156440\n",
       " 5.008382             143.890560\n",
       " 5.009731             144.075910\n",
       "...                          ...\n",
       " 29.996888            117.151670\n",
       " 29.997986             68.255628\n",
       " 29.998925            104.765930\n",
       " 29.999796             35.365320\n",
       " 30.000000             73.791875\n",
       "\n",
       "[181597 rows x 1 columns]"
      ]
     },
     "execution_count": 106,
     "metadata": {},
     "output_type": "execute_result"
    }
   ],
   "source": [
    "gb = train.groupby(['Weight Capacity (kg)'])['Price'].mean().to_frame()\n",
    "gb"
   ]
  },
  {
   "cell_type": "markdown",
   "metadata": {},
   "source": [
    "---"
   ]
  },
  {
   "cell_type": "code",
   "execution_count": 107,
   "metadata": {},
   "outputs": [],
   "source": [
    "work_on_weight_cap = train.copy()"
   ]
  },
  {
   "cell_type": "code",
   "execution_count": 108,
   "metadata": {},
   "outputs": [
    {
     "data": {
      "text/html": [
       "<div>\n",
       "<style scoped>\n",
       "    .dataframe tbody tr th:only-of-type {\n",
       "        vertical-align: middle;\n",
       "    }\n",
       "\n",
       "    .dataframe tbody tr th {\n",
       "        vertical-align: top;\n",
       "    }\n",
       "\n",
       "    .dataframe thead th {\n",
       "        text-align: right;\n",
       "    }\n",
       "</style>\n",
       "<table border=\"1\" class=\"dataframe\">\n",
       "  <thead>\n",
       "    <tr style=\"text-align: right;\">\n",
       "      <th></th>\n",
       "      <th>Brand</th>\n",
       "      <th>Material</th>\n",
       "      <th>Size</th>\n",
       "      <th>Compartments</th>\n",
       "      <th>Laptop Compartment</th>\n",
       "      <th>Waterproof</th>\n",
       "      <th>Style</th>\n",
       "      <th>Color</th>\n",
       "      <th>Weight Capacity (kg)</th>\n",
       "      <th>Price</th>\n",
       "    </tr>\n",
       "    <tr>\n",
       "      <th>id</th>\n",
       "      <th></th>\n",
       "      <th></th>\n",
       "      <th></th>\n",
       "      <th></th>\n",
       "      <th></th>\n",
       "      <th></th>\n",
       "      <th></th>\n",
       "      <th></th>\n",
       "      <th></th>\n",
       "      <th></th>\n",
       "    </tr>\n",
       "  </thead>\n",
       "  <tbody>\n",
       "    <tr>\n",
       "      <th>0</th>\n",
       "      <td>Jansport</td>\n",
       "      <td>Leather</td>\n",
       "      <td>Medium</td>\n",
       "      <td>7.0</td>\n",
       "      <td>Yes</td>\n",
       "      <td>No</td>\n",
       "      <td>Tote</td>\n",
       "      <td>Black</td>\n",
       "      <td>12.0</td>\n",
       "      <td>112.15875</td>\n",
       "    </tr>\n",
       "    <tr>\n",
       "      <th>1</th>\n",
       "      <td>Jansport</td>\n",
       "      <td>Canvas</td>\n",
       "      <td>Small</td>\n",
       "      <td>10.0</td>\n",
       "      <td>Yes</td>\n",
       "      <td>Yes</td>\n",
       "      <td>Messenger</td>\n",
       "      <td>Green</td>\n",
       "      <td>27.0</td>\n",
       "      <td>68.88056</td>\n",
       "    </tr>\n",
       "    <tr>\n",
       "      <th>2</th>\n",
       "      <td>Under Armour</td>\n",
       "      <td>Leather</td>\n",
       "      <td>Small</td>\n",
       "      <td>2.0</td>\n",
       "      <td>Yes</td>\n",
       "      <td>No</td>\n",
       "      <td>Messenger</td>\n",
       "      <td>Red</td>\n",
       "      <td>17.0</td>\n",
       "      <td>39.17320</td>\n",
       "    </tr>\n",
       "    <tr>\n",
       "      <th>3</th>\n",
       "      <td>Nike</td>\n",
       "      <td>Nylon</td>\n",
       "      <td>Small</td>\n",
       "      <td>8.0</td>\n",
       "      <td>Yes</td>\n",
       "      <td>No</td>\n",
       "      <td>Messenger</td>\n",
       "      <td>Green</td>\n",
       "      <td>13.0</td>\n",
       "      <td>80.60793</td>\n",
       "    </tr>\n",
       "    <tr>\n",
       "      <th>4</th>\n",
       "      <td>Adidas</td>\n",
       "      <td>Canvas</td>\n",
       "      <td>Medium</td>\n",
       "      <td>1.0</td>\n",
       "      <td>Yes</td>\n",
       "      <td>Yes</td>\n",
       "      <td>Messenger</td>\n",
       "      <td>Green</td>\n",
       "      <td>18.0</td>\n",
       "      <td>86.02312</td>\n",
       "    </tr>\n",
       "  </tbody>\n",
       "</table>\n",
       "</div>"
      ],
      "text/plain": [
       "           Brand Material    Size  Compartments Laptop Compartment Waterproof  \\\n",
       "id                                                                              \n",
       "0       Jansport  Leather  Medium           7.0                Yes         No   \n",
       "1       Jansport   Canvas   Small          10.0                Yes        Yes   \n",
       "2   Under Armour  Leather   Small           2.0                Yes         No   \n",
       "3           Nike    Nylon   Small           8.0                Yes         No   \n",
       "4         Adidas   Canvas  Medium           1.0                Yes        Yes   \n",
       "\n",
       "        Style  Color  Weight Capacity (kg)      Price  \n",
       "id                                                     \n",
       "0        Tote  Black                  12.0  112.15875  \n",
       "1   Messenger  Green                  27.0   68.88056  \n",
       "2   Messenger    Red                  17.0   39.17320  \n",
       "3   Messenger  Green                  13.0   80.60793  \n",
       "4   Messenger  Green                  18.0   86.02312  "
      ]
     },
     "execution_count": 108,
     "metadata": {},
     "output_type": "execute_result"
    }
   ],
   "source": [
    "work_on_weight_cap['Weight Capacity (kg)'] = round(train['Weight Capacity (kg)'], 0)\n",
    "work_on_weight_cap.head()"
   ]
  },
  {
   "cell_type": "code",
   "execution_count": 109,
   "metadata": {},
   "outputs": [
    {
     "data": {
      "text/html": [
       "<div>\n",
       "<style scoped>\n",
       "    .dataframe tbody tr th:only-of-type {\n",
       "        vertical-align: middle;\n",
       "    }\n",
       "\n",
       "    .dataframe tbody tr th {\n",
       "        vertical-align: top;\n",
       "    }\n",
       "\n",
       "    .dataframe thead th {\n",
       "        text-align: right;\n",
       "    }\n",
       "</style>\n",
       "<table border=\"1\" class=\"dataframe\">\n",
       "  <thead>\n",
       "    <tr style=\"text-align: right;\">\n",
       "      <th></th>\n",
       "      <th>Price</th>\n",
       "    </tr>\n",
       "    <tr>\n",
       "      <th>Weight Capacity (kg)</th>\n",
       "      <th></th>\n",
       "    </tr>\n",
       "  </thead>\n",
       "  <tbody>\n",
       "    <tr>\n",
       "      <th>-1.0</th>\n",
       "      <td>62.660329</td>\n",
       "    </tr>\n",
       "    <tr>\n",
       "      <th>5.0</th>\n",
       "      <td>77.631680</td>\n",
       "    </tr>\n",
       "    <tr>\n",
       "      <th>6.0</th>\n",
       "      <td>77.658844</td>\n",
       "    </tr>\n",
       "    <tr>\n",
       "      <th>7.0</th>\n",
       "      <td>79.971050</td>\n",
       "    </tr>\n",
       "    <tr>\n",
       "      <th>8.0</th>\n",
       "      <td>79.432499</td>\n",
       "    </tr>\n",
       "    <tr>\n",
       "      <th>9.0</th>\n",
       "      <td>79.874311</td>\n",
       "    </tr>\n",
       "    <tr>\n",
       "      <th>10.0</th>\n",
       "      <td>80.557975</td>\n",
       "    </tr>\n",
       "    <tr>\n",
       "      <th>11.0</th>\n",
       "      <td>81.278439</td>\n",
       "    </tr>\n",
       "    <tr>\n",
       "      <th>12.0</th>\n",
       "      <td>81.906175</td>\n",
       "    </tr>\n",
       "    <tr>\n",
       "      <th>13.0</th>\n",
       "      <td>81.029082</td>\n",
       "    </tr>\n",
       "    <tr>\n",
       "      <th>14.0</th>\n",
       "      <td>81.336431</td>\n",
       "    </tr>\n",
       "    <tr>\n",
       "      <th>15.0</th>\n",
       "      <td>81.641013</td>\n",
       "    </tr>\n",
       "    <tr>\n",
       "      <th>16.0</th>\n",
       "      <td>81.269203</td>\n",
       "    </tr>\n",
       "    <tr>\n",
       "      <th>17.0</th>\n",
       "      <td>83.127827</td>\n",
       "    </tr>\n",
       "    <tr>\n",
       "      <th>18.0</th>\n",
       "      <td>82.271125</td>\n",
       "    </tr>\n",
       "    <tr>\n",
       "      <th>19.0</th>\n",
       "      <td>82.309301</td>\n",
       "    </tr>\n",
       "    <tr>\n",
       "      <th>20.0</th>\n",
       "      <td>82.465431</td>\n",
       "    </tr>\n",
       "    <tr>\n",
       "      <th>21.0</th>\n",
       "      <td>80.939073</td>\n",
       "    </tr>\n",
       "    <tr>\n",
       "      <th>22.0</th>\n",
       "      <td>80.966626</td>\n",
       "    </tr>\n",
       "    <tr>\n",
       "      <th>23.0</th>\n",
       "      <td>81.852886</td>\n",
       "    </tr>\n",
       "    <tr>\n",
       "      <th>24.0</th>\n",
       "      <td>81.898893</td>\n",
       "    </tr>\n",
       "    <tr>\n",
       "      <th>25.0</th>\n",
       "      <td>83.068339</td>\n",
       "    </tr>\n",
       "    <tr>\n",
       "      <th>26.0</th>\n",
       "      <td>81.931046</td>\n",
       "    </tr>\n",
       "    <tr>\n",
       "      <th>27.0</th>\n",
       "      <td>82.234579</td>\n",
       "    </tr>\n",
       "    <tr>\n",
       "      <th>28.0</th>\n",
       "      <td>81.795535</td>\n",
       "    </tr>\n",
       "    <tr>\n",
       "      <th>29.0</th>\n",
       "      <td>81.513262</td>\n",
       "    </tr>\n",
       "    <tr>\n",
       "      <th>30.0</th>\n",
       "      <td>81.051063</td>\n",
       "    </tr>\n",
       "  </tbody>\n",
       "</table>\n",
       "</div>"
      ],
      "text/plain": [
       "                          Price\n",
       "Weight Capacity (kg)           \n",
       "-1.0                  62.660329\n",
       " 5.0                  77.631680\n",
       " 6.0                  77.658844\n",
       " 7.0                  79.971050\n",
       " 8.0                  79.432499\n",
       " 9.0                  79.874311\n",
       " 10.0                 80.557975\n",
       " 11.0                 81.278439\n",
       " 12.0                 81.906175\n",
       " 13.0                 81.029082\n",
       " 14.0                 81.336431\n",
       " 15.0                 81.641013\n",
       " 16.0                 81.269203\n",
       " 17.0                 83.127827\n",
       " 18.0                 82.271125\n",
       " 19.0                 82.309301\n",
       " 20.0                 82.465431\n",
       " 21.0                 80.939073\n",
       " 22.0                 80.966626\n",
       " 23.0                 81.852886\n",
       " 24.0                 81.898893\n",
       " 25.0                 83.068339\n",
       " 26.0                 81.931046\n",
       " 27.0                 82.234579\n",
       " 28.0                 81.795535\n",
       " 29.0                 81.513262\n",
       " 30.0                 81.051063"
      ]
     },
     "execution_count": 109,
     "metadata": {},
     "output_type": "execute_result"
    }
   ],
   "source": [
    "gb = work_on_weight_cap.groupby('Weight Capacity (kg)')['Price'].mean().to_frame()\n",
    "gb"
   ]
  },
  {
   "cell_type": "code",
   "execution_count": 110,
   "metadata": {},
   "outputs": [
    {
     "data": {
      "text/plain": [
       "<BarContainer object of 27 artists>"
      ]
     },
     "execution_count": 110,
     "metadata": {},
     "output_type": "execute_result"
    },
    {
     "data": {
      "image/png": "[encoded data removed]",
      "text/plain": [
       "<Figure size 640x480 with 1 Axes>"
      ]
     },
     "metadata": {},
     "output_type": "display_data"
    }
   ],
   "source": [
    "plt.bar(x=gb.index, height=gb['Price'])"
   ]
  },
  {
   "cell_type": "markdown",
   "metadata": {},
   "source": [
    "ZOOM ON NON-MISSING VALUES :"
   ]
  },
  {
   "cell_type": "code",
   "execution_count": 111,
   "metadata": {},
   "outputs": [
    {
     "data": {
      "image/png": "[encoded data removed]",
      "text/plain": [
       "<Figure size 640x480 with 1 Axes>"
      ]
     },
     "metadata": {},
     "output_type": "display_data"
    }
   ],
   "source": [
    "plt.bar(x=gb.index, height=gb['Price'])\n",
    "low, high = gb['Price'].quantile([0.05, 0.96])\n",
    "plt.ylim((low - 0.5, high + 0.5))\n",
    "\n",
    "plt.show()"
   ]
  },
  {
   "cell_type": "markdown",
   "metadata": {},
   "source": [
    "Maybe add a squared feature for weight capacity."
   ]
  },
  {
   "cell_type": "markdown",
   "metadata": {},
   "source": [
    "---"
   ]
  },
  {
   "cell_type": "markdown",
   "metadata": {},
   "source": [
    "VIZ ON COLUMN COMBINATION"
   ]
  },
  {
   "cell_type": "code",
   "execution_count": 112,
   "metadata": {},
   "outputs": [],
   "source": [
    "import json\n",
    "\n",
    "with open('best_combinations_22_02.json', 'r') as json_file:\n",
    "    relevant_combinations = json.load(json_file)"
   ]
  },
  {
   "cell_type": "code",
   "execution_count": 113,
   "metadata": {},
   "outputs": [],
   "source": [
    "first_thirty = list(relevant_combinations.items())[:30]"
   ]
  },
  {
   "cell_type": "code",
   "execution_count": 114,
   "metadata": {},
   "outputs": [],
   "source": [
    "nb_of_combinations_better_that_no_adding_any_column = ([value[1] < relevant_combinations['no_column_added'] for value in list(relevant_combinations.items())]).count(0)"
   ]
  },
  {
   "cell_type": "code",
   "execution_count": 115,
   "metadata": {},
   "outputs": [],
   "source": [
    "x = np.arange(0, len(list(relevant_combinations.items())), 1)\n",
    "y = [value[1] for value in list(relevant_combinations.items())]"
   ]
  },
  {
   "cell_type": "code",
   "execution_count": 116,
   "metadata": {},
   "outputs": [
    {
     "data": {
      "image/png": "[encoded data removed]",
      "text/plain": [
       "<Figure size 640x480 with 1 Axes>"
      ]
     },
     "metadata": {},
     "output_type": "display_data"
    }
   ],
   "source": [
    "plt.plot(x, y)\n",
    "plt.axhline(relevant_combinations['no_column_added'], label=\"Without adding any column\", color='red')\n",
    "plt.axvline(nb_of_combinations_better_that_no_adding_any_column, label=str(nb_of_combinations_better_that_no_adding_any_column), color='green')\n",
    "plt.axvline(75)\n",
    "\n",
    "plt.title('NEG_mean_squared_error for differents combinations of columns')\n",
    "\n",
    "plt.legend()\n",
    "plt.show()"
   ]
  },
  {
   "cell_type": "code",
   "execution_count": 117,
   "metadata": {},
   "outputs": [
    {
     "data": {
      "text/plain": [
       "Text(0.5, 1.0, \"Gradient of the error as a fonction of the combinations' rank (sorted)\")"
      ]
     },
     "execution_count": 117,
     "metadata": {},
     "output_type": "execute_result"
    },
    {
     "data": {
      "image/png": "[encoded data removed]",
      "text/plain": [
       "<Figure size 640x480 with 1 Axes>"
      ]
     },
     "metadata": {},
     "output_type": "display_data"
    }
   ],
   "source": [
    "low, high = pd.Series(np.gradient(y, x)).quantile([0.01, 0.98])\n",
    "\n",
    "plt.plot(x, np.gradient(y, x))\n",
    "plt.ylim((low, high + 0.0001))\n",
    "#plt.axhline(-0.00042)\n",
    "#plt.axvline(50, color='red')\n",
    "plt.title(\"Gradient of the error as a fonction of the combinations' rank (sorted)\")"
   ]
  },
  {
   "cell_type": "markdown",
   "metadata": {},
   "source": [
    "---"
   ]
  },
  {
   "cell_type": "code",
   "execution_count": 118,
   "metadata": {},
   "outputs": [
    {
     "data": {
      "text/plain": [
       "Index(['Brand', 'Material', 'Size', 'Compartments', 'Laptop Compartment',\n",
       "       'Waterproof', 'Style', 'Color', 'Weight Capacity (kg)', 'Price'],\n",
       "      dtype='object')"
      ]
     },
     "execution_count": 118,
     "metadata": {},
     "output_type": "execute_result"
    }
   ],
   "source": [
    "train.columns"
   ]
  },
  {
   "cell_type": "code",
   "execution_count": 119,
   "metadata": {},
   "outputs": [
    {
     "data": {
      "text/plain": [
       "Brand         Material   Size     Compartments\n",
       "Adidas        Canvas     Inconnu  1.0             148.44582\n",
       "                                  2.0             143.29446\n",
       "                                  3.0             140.42043\n",
       "                                  4.0             141.30989\n",
       "                                  5.0             146.62612\n",
       "                                                    ...    \n",
       "Under Armour  Polyester  Small    6.0             150.00000\n",
       "                                  7.0             150.00000\n",
       "                                  8.0             150.00000\n",
       "                                  9.0             150.00000\n",
       "                                  10.0            150.00000\n",
       "Name: Price, Length: 1178, dtype: float64"
      ]
     },
     "execution_count": 119,
     "metadata": {},
     "output_type": "execute_result"
    }
   ],
   "source": [
    "train.groupby(['Brand', 'Material', 'Size', 'Compartments'])['Price'].max()"
   ]
  },
  {
   "cell_type": "code",
   "execution_count": null,
   "metadata": {},
   "outputs": [],
   "source": []
  }
 ],
 "metadata": {
  "kernelspec": {
   "display_name": "base",
   "language": "python",
   "name": "python3"
  },
  "language_info": {
   "codemirror_mode": {
    "name": "ipython",
    "version": 3
   },
   "file_extension": ".py",
   "mimetype": "text/x-python",
   "name": "python",
   "nbconvert_exporter": "python",
   "pygments_lexer": "ipython3",
   "version": "3.11.5"
  }
 },
 "nbformat": 4,
 "nbformat_minor": 2
}
